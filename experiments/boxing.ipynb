{
 "cells": [
  {
   "cell_type": "code",
   "execution_count": 1,
   "id": "029c3e9f",
   "metadata": {},
   "outputs": [],
   "source": [
    "import time\n",
    "import numpy as np\n",
    "from numba import njit, jit, objmode"
   ]
  },
  {
   "cell_type": "markdown",
   "id": "ab9f4bf2",
   "metadata": {},
   "source": [
    "# Test impact of number of arguments"
   ]
  },
  {
   "cell_type": "code",
   "execution_count": 72,
   "id": "9fe35b42",
   "metadata": {},
   "outputs": [],
   "source": [
    "n = 1000\n",
    "a = np.arange(n)\n",
    "b = np.arange(n)\n",
    "c = np.arange(n)\n",
    "d = np.arange(n)\n",
    "e = np.arange(n)\n",
    "f = np.arange(n)\n",
    "g = np.arange(n)\n",
    "h = np.arange(n)\n",
    "i = np.arange(n)\n",
    "j = np.arange(n)"
   ]
  },
  {
   "cell_type": "code",
   "execution_count": 79,
   "id": "7bbcdda3",
   "metadata": {},
   "outputs": [],
   "source": [
    "results = {}\n",
    "\n",
    "def jit_timer(f):\n",
    "    \"\"\"Measure wall time, i.e. excluding boxing/unboxing time\"\"\"\n",
    "    jf = njit(f)\n",
    "    @njit\n",
    "    def wrapper(*args):\n",
    "        with objmode(start='float64'):\n",
    "            start = time.time()\n",
    "        g = jf(*args)\n",
    "        with objmode():\n",
    "            end = time.time()\n",
    "            run_time = end - start\n",
    "            if f.__name__ in results:\n",
    "                results[f.__name__] += [run_time]\n",
    "            else:\n",
    "                results[f.__name__] = [run_time]\n",
    "        return g\n",
    "    return wrapper\n",
    "\n",
    "\n",
    "@njit\n",
    "def pointless_delay(seconds):\n",
    "    with objmode():\n",
    "        s = time.time()\n",
    "        e = 0\n",
    "        while (e < seconds):\n",
    "            e = time.time() - s\n",
    "\n",
    "@jit_timer\n",
    "def one(a):\n",
    "    return a[0]\n",
    "\n",
    "@jit_timer\n",
    "def two(a, b):\n",
    "    return a[0]+b[0]\n",
    "\n",
    "@jit_timer\n",
    "def three(a, b, c):\n",
    "    return a[0]+b[0]+c[0]\n",
    "\n",
    "@jit_timer\n",
    "def four(a, b, c, d):\n",
    "    return a[0]+b[0]+c[0]+d[0]\n",
    "\n",
    "@jit_timer\n",
    "def five(a, b, c, d, e):\n",
    "    return a[0]+b[0]+c[0]+d[0]+e[0]\n",
    "\n",
    "@jit_timer\n",
    "def six(a, b, c, d, e, f):\n",
    "    return a[0]+b[0]+c[0]+d[0]+e[0]+f[0]\n",
    "\n",
    "\n",
    "@jit_timer\n",
    "def seven(a, b, c, d, e, f, g):\n",
    "    return a[0]+b[0]+c[0]+d[0]+e[0]+f[0]+g[0]\n",
    "\n",
    "\n",
    "@jit_timer\n",
    "def eight(a, b, c, d, e, f, g, h):\n",
    "    return a[0]+b[0]+c[0]+d[0]+e[0]+f[0]+g[0]+h[0]\n",
    "\n",
    "@jit_timer\n",
    "def nine(a, b, c, d, e, f, g, h, i):\n",
    "    return a[0]+b[0]+c[0]+d[0]+e[0]+f[0]+g[0]+h[0]+i[0]\n",
    "\n",
    "@jit_timer\n",
    "def test_nargs():\n",
    "    one(a)\n",
    "    two(a, b)\n",
    "    three(a, b, c)\n",
    "    four(a, b, c, d)\n",
    "    five(a, b, c, d, e)\n",
    "    six(a, b, c, d, e, f)\n",
    "    seven(a, b, c, d, e, f, g)\n",
    "    eight(a, b, c, d, e, f, g, h)\n",
    "    nine(a, b, c, d, e, f, g, h, i)\n",
    "    \n",
    "def profile_results():\n",
    "    l = []\n",
    "    for k in results:\n",
    "        a = np.asarray(results[k])\n",
    "        l += [[k+' '*(13-len(k)), np.sum(a[1:])]]\n",
    "    l = sorted(l, key=lambda x: x[1])\n",
    "    for i in range(len(l)):\n",
    "        print( l[i][0], \"{:.6f}\".format( l[i][1] ) )"
   ]
  },
  {
   "cell_type": "code",
   "execution_count": 74,
   "id": "b336d904",
   "metadata": {},
   "outputs": [],
   "source": [
    "test_nargs()\n",
    "test_nargs()"
   ]
  },
  {
   "cell_type": "code",
   "execution_count": 75,
   "id": "76ff749e",
   "metadata": {},
   "outputs": [
    {
     "name": "stdout",
     "output_type": "stream",
     "text": [
      "five          0.000001\n",
      "nine          0.000001\n",
      "two           0.000001\n",
      "four          0.000001\n",
      "seven         0.000001\n",
      "eight         0.000001\n",
      "three         0.000001\n",
      "six           0.000001\n",
      "one           0.000002\n",
      "test_nargs    0.000025\n"
     ]
    }
   ],
   "source": [
    "profile_results()"
   ]
  },
  {
   "cell_type": "code",
   "execution_count": 90,
   "id": "c08a8dcb",
   "metadata": {},
   "outputs": [
    {
     "name": "stdout",
     "output_type": "stream",
     "text": [
      "0.00025725364685058594\n",
      "0.0003275871276855469\n",
      "0.00028896331787109375\n",
      "0.00034356117248535156\n",
      "0.0007250308990478516\n",
      "0.0006604194641113281\n",
      "0.0006704330444335938\n",
      "0.0007207393646240234\n",
      "0.0007784366607666016\n"
     ]
    }
   ],
   "source": [
    "start = time.time()\n",
    "one(a)\n",
    "print(time.time()-start)\n",
    "\n",
    "start = time.time()\n",
    "two(a, b)\n",
    "print(time.time()-start)\n",
    "\n",
    "start = time.time()\n",
    "three(a, b, c)\n",
    "print(time.time()-start)\n",
    "\n",
    "start = time.time()\n",
    "four(a, b, c, d)\n",
    "print(time.time()-start)\n",
    "\n",
    "start = time.time()\n",
    "five(a, b, c, d, e)\n",
    "print(time.time()-start)\n",
    "\n",
    "start = time.time()\n",
    "six(a, b, c, d, e, f)\n",
    "print(time.time()-start)\n",
    "\n",
    "start = time.time()\n",
    "seven(a, b, c, d, e, f, g)\n",
    "print(time.time()-start)\n",
    "\n",
    "start = time.time()\n",
    "eight(a, b, c, d, e, f, g, h)\n",
    "print(time.time()-start)\n",
    "\n",
    "start = time.time()\n",
    "nine(a, b, c, d, e, f, g, h, i)\n",
    "print(time.time()-start)"
   ]
  },
  {
   "cell_type": "code",
   "execution_count": 64,
   "id": "292517da",
   "metadata": {},
   "outputs": [
    {
     "data": {
      "text/plain": [
       "154.0"
      ]
     },
     "execution_count": 64,
     "metadata": {},
     "output_type": "execute_result"
    }
   ],
   "source": [
    "0.000154/0.000001"
   ]
  },
  {
   "cell_type": "markdown",
   "id": "6db7bc56",
   "metadata": {},
   "source": [
    "# Test Impact of Argument Size"
   ]
  },
  {
   "cell_type": "code",
   "execution_count": 22,
   "id": "cf18715a",
   "metadata": {},
   "outputs": [],
   "source": [
    "a = np.arange(100)\n",
    "b = np.arange(1000)\n",
    "c = np.arange(10000)\n",
    "d = np.arange(100000)\n",
    "e = np.arange(1000000)\n",
    "f = np.arange(10000000)"
   ]
  },
  {
   "cell_type": "code",
   "execution_count": 23,
   "id": "8e0c11ec",
   "metadata": {},
   "outputs": [],
   "source": [
    "results = {}\n",
    "\n",
    "@jit_timer\n",
    "def fa(a):\n",
    "    return a[0]\n",
    "\n",
    "@jit_timer\n",
    "def fa(a):\n",
    "    return a[0]\n",
    "\n",
    "@jit_timer\n",
    "def fb(a):\n",
    "    return a[0]\n",
    "\n",
    "@jit_timer\n",
    "def fc(a):\n",
    "    return a[0]\n",
    "@jit_timer\n",
    "def fd(a):\n",
    "    return a[0]\n",
    "\n",
    "@jit_timer\n",
    "def fe(a):\n",
    "    return a[0]\n",
    "\n",
    "@jit_timer\n",
    "def test_argsize():\n",
    "    fa(a)\n",
    "    fb(b)\n",
    "    fc(c)\n",
    "    fd(d)\n",
    "    fe(e)    "
   ]
  },
  {
   "cell_type": "code",
   "execution_count": 24,
   "id": "8383d1f4",
   "metadata": {},
   "outputs": [
    {
     "name": "stdout",
     "output_type": "stream",
     "text": [
      "fe            0.000001\n",
      "fd            0.000001\n",
      "fb            0.000001\n",
      "fc            0.000001\n",
      "fa            0.000002\n",
      "test_argsize  0.000017\n"
     ]
    }
   ],
   "source": [
    "test_argsize()\n",
    "test_argsize()\n",
    "profile_results()"
   ]
  },
  {
   "cell_type": "code",
   "execution_count": 94,
   "id": "7d065985",
   "metadata": {},
   "outputs": [
    {
     "name": "stdout",
     "output_type": "stream",
     "text": [
      "0.00026679039001464844\n",
      "0.00020241737365722656\n",
      "0.0001876354217529297\n",
      "0.0001842975616455078\n",
      "0.00019621849060058594\n"
     ]
    }
   ],
   "source": [
    "start = time.time()\n",
    "fa(a)\n",
    "print(time.time()-start)\n",
    "\n",
    "start = time.time()\n",
    "fb(b)\n",
    "print(time.time()-start)\n",
    "\n",
    "start = time.time()\n",
    "fc(c)\n",
    "print(time.time()-start)\n",
    "\n",
    "start = time.time()\n",
    "fd(d)\n",
    "print(time.time()-start)\n",
    "\n",
    "start = time.time()\n",
    "fe(e)\n",
    "print(time.time()-start)\n"
   ]
  },
  {
   "cell_type": "markdown",
   "id": "2c3a6bd6",
   "metadata": {},
   "source": [
    "# Test arguments of different types"
   ]
  },
  {
   "cell_type": "code",
   "execution_count": 120,
   "id": "1f5160f7",
   "metadata": {},
   "outputs": [],
   "source": [
    "a = np.arange(100)\n",
    "b = \"short string\"\n",
    "c = \"Lorem ipsum dolor sit amet, consectetur adipiscing elit, sed do eiusmod tempor incididunt ut labore et dolore magna aliqua. Ut enim ad minim veniam, quis nostrud exercitation ullamco laboris nisi ut aliquip ex ea commodo consequat. Duis aute irure dolor in reprehenderit in voluptate velit esse cillum dolore eu fugiat nulla pariatur. Excepteur sint occaecat cupidatat non proident, sunt in culpa qui officia deserunt mollit anim id est laborum.\""
   ]
  },
  {
   "cell_type": "code",
   "execution_count": 121,
   "id": "81e99eeb",
   "metadata": {},
   "outputs": [],
   "source": [
    "@jit_timer\n",
    "def test_argtype():\n",
    "    fa(a)\n",
    "    fb(b)\n",
    "    fc(c)"
   ]
  },
  {
   "cell_type": "code",
   "execution_count": 124,
   "id": "febf472d",
   "metadata": {},
   "outputs": [
    {
     "name": "stdout",
     "output_type": "stream",
     "text": [
      "0.00027441978454589844\n",
      "0.0004734992980957031\n",
      "0.00034356117248535156\n"
     ]
    }
   ],
   "source": [
    "start = time.time()\n",
    "fa(a)\n",
    "print(time.time()-start)\n",
    "\n",
    "start = time.time()\n",
    "fb(b)\n",
    "print(time.time()-start)\n",
    "\n",
    "start = time.time()\n",
    "fc(c)\n",
    "print(time.time()-start)\n",
    "\n",
    "results = {}"
   ]
  },
  {
   "cell_type": "code",
   "execution_count": 126,
   "id": "a6de972f",
   "metadata": {},
   "outputs": [
    {
     "name": "stdout",
     "output_type": "stream",
     "text": [
      "fc            0.000004\n",
      "fb            0.000006\n",
      "fa            0.000008\n",
      "test_argtype  0.000045\n"
     ]
    }
   ],
   "source": [
    "test_argtype()\n",
    "test_argtype()\n",
    "profile_results()"
   ]
  },
  {
   "cell_type": "code",
   "execution_count": null,
   "id": "051eef16",
   "metadata": {},
   "outputs": [],
   "source": []
  }
 ],
 "metadata": {
  "kernelspec": {
   "display_name": "Python 3",
   "language": "python",
   "name": "python3"
  },
  "language_info": {
   "codemirror_mode": {
    "name": "ipython",
    "version": 3
   },
   "file_extension": ".py",
   "mimetype": "text/x-python",
   "name": "python",
   "nbconvert_exporter": "python",
   "pygments_lexer": "ipython3",
   "version": "3.8.10"
  }
 },
 "nbformat": 4,
 "nbformat_minor": 5
}
