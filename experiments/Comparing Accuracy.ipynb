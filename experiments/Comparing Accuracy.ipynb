{
 "cells": [
  {
   "cell_type": "code",
   "execution_count": 60,
   "id": "decreased-promotion",
   "metadata": {},
   "outputs": [],
   "source": [
    "%matplotlib qt\n",
    "\n",
    "import time\n",
    "\n",
    "import matplotlib.pyplot as plt\n",
    "\n",
    "import numpy as np\n",
    "import exafmm.laplace as laplace\n",
    "\n",
    "from fmm import Fmm\n",
    "from fmm.kernel import laplace_p2p_serial, laplace_p2p_parallel\n",
    "from fmm.surface import compute_surface, scale_surface"
   ]
  },
  {
   "cell_type": "code",
   "execution_count": 2,
   "id": "45fb038c",
   "metadata": {},
   "outputs": [],
   "source": [
    "def timer(f, *args, **kwargs):\n",
    "    s = time.time()\n",
    "    res = f(*args, **kwargs)\n",
    "    print(f'Runtime: {time.time()-s:.2f} s')\n",
    "    return res"
   ]
  },
  {
   "cell_type": "code",
   "execution_count": 43,
   "id": "0cdcd16f",
   "metadata": {},
   "outputs": [
    {
     "name": "stdout",
     "output_type": "stream",
     "text": [
      "Runtime: 0.88 s\n"
     ]
    }
   ],
   "source": [
    "exp = Fmm('test_config')\n",
    "timer(exp.run)"
   ]
  },
  {
   "cell_type": "code",
   "execution_count": 44,
   "id": "5c34a06b",
   "metadata": {},
   "outputs": [],
   "source": [
    "# Set same sources, targets and source densities\n",
    "src_coords = exp.sources\n",
    "trg_coords = exp.targets\n",
    "src_charges = exp.source_densities"
   ]
  },
  {
   "cell_type": "code",
   "execution_count": 45,
   "id": "9769f331",
   "metadata": {},
   "outputs": [],
   "source": [
    "# create a list of source instances\n",
    "sources = laplace.init_sources(src_coords, src_charges)\n",
    "\n",
    "# create a list of target instances\n",
    "targets = laplace.init_targets(trg_coords)"
   ]
  },
  {
   "cell_type": "code",
   "execution_count": 46,
   "id": "87bf6a5b",
   "metadata": {},
   "outputs": [],
   "source": [
    "fmm = laplace.LaplaceFmm(p=5, ncrit=exp.config['max_points'], filename=\"test_file.dat\")"
   ]
  },
  {
   "cell_type": "code",
   "execution_count": 47,
   "id": "29b0e1bf",
   "metadata": {},
   "outputs": [],
   "source": [
    "tree = laplace.setup(sources, targets, fmm)"
   ]
  },
  {
   "cell_type": "code",
   "execution_count": 48,
   "id": "ed96eb4e",
   "metadata": {},
   "outputs": [
    {
     "name": "stdout",
     "output_type": "stream",
     "text": [
      "Runtime: 0.31 s\n"
     ]
    }
   ],
   "source": [
    "trg_values = timer(laplace.evaluate, tree, fmm)"
   ]
  },
  {
   "cell_type": "code",
   "execution_count": 49,
   "id": "c88cfe06",
   "metadata": {},
   "outputs": [
    {
     "data": {
      "text/plain": [
       "array([1109.8365, 1013.8969, 1137.1888, ..., 1033.253 , 1073.9423,\n",
       "       1096.0267], dtype=float32)"
      ]
     },
     "execution_count": 49,
     "metadata": {},
     "output_type": "execute_result"
    }
   ],
   "source": [
    "exp.target_potentials"
   ]
  },
  {
   "cell_type": "code",
   "execution_count": 50,
   "id": "9c11ea22",
   "metadata": {},
   "outputs": [
    {
     "data": {
      "text/plain": [
       "array([1110.05684806, 1013.58162298, 1137.50210119, ..., 1032.98995011,\n",
       "       1074.04157202, 1096.24109527])"
      ]
     },
     "execution_count": 50,
     "metadata": {},
     "output_type": "execute_result"
    }
   ],
   "source": [
    "trg_values[:, 0]"
   ]
  },
  {
   "cell_type": "code",
   "execution_count": 51,
   "id": "59613a9a",
   "metadata": {},
   "outputs": [
    {
     "data": {
      "text/plain": [
       "True"
      ]
     },
     "execution_count": 51,
     "metadata": {},
     "output_type": "execute_result"
    }
   ],
   "source": [
    "np.allclose(exp.target_potentials, trg_values[:, 0], rtol=0.002, atol=0)"
   ]
  },
  {
   "cell_type": "code",
   "execution_count": 74,
   "id": "09d6a186",
   "metadata": {
    "scrolled": true
   },
   "outputs": [],
   "source": [
    "py_multipole_expansion = exp.multipole_expansions[\n",
    "    exp.key_to_index[0]:exp.key_to_index[0]+exp.nequivalent_points\n",
    "]\n",
    "ex_multipole_expansion = np.array(tree.nodes[0].up_equiv)\n",
    "\n",
    "upward_equivalent_surface = scale_surface(\n",
    "    surf=exp.equivalent_surface,\n",
    "    radius=exp.r0,\n",
    "    level=0, \n",
    "    center=exp.x0, \n",
    "    alpha=exp.alpha_inner\n",
    ")\n",
    "\n",
    "target = np.array([[-10,10,10]])\n",
    "\n",
    "py_result = laplace_p2p_serial(\n",
    "    sources=upward_equivalent_surface, \n",
    "    targets=target, \n",
    "    source_densities=py_multipole_expansion\n",
    ")\n",
    "\n",
    "ex_result = laplace_p2p_serial(\n",
    "    sources=upward_equivalent_surface, \n",
    "    targets=target, \n",
    "    source_densities=ex_multipole_expansion\n",
    ")"
   ]
  },
  {
   "cell_type": "code",
   "execution_count": 75,
   "id": "9855921b",
   "metadata": {
    "scrolled": true
   },
   "outputs": [
    {
     "data": {
      "text/plain": [
       "array([46.65264], dtype=float32)"
      ]
     },
     "execution_count": 75,
     "metadata": {},
     "output_type": "execute_result"
    }
   ],
   "source": [
    "ex_result"
   ]
  },
  {
   "cell_type": "code",
   "execution_count": 76,
   "id": "66526f14",
   "metadata": {},
   "outputs": [
    {
     "data": {
      "text/plain": [
       "array([46.65678], dtype=float32)"
      ]
     },
     "execution_count": 76,
     "metadata": {},
     "output_type": "execute_result"
    }
   ],
   "source": [
    "py_result"
   ]
  },
  {
   "cell_type": "code",
   "execution_count": null,
   "id": "8765dd4a",
   "metadata": {},
   "outputs": [],
   "source": []
  }
 ],
 "metadata": {
  "kernelspec": {
   "display_name": "Python 3",
   "language": "python",
   "name": "python3"
  },
  "language_info": {
   "codemirror_mode": {
    "name": "ipython",
    "version": 3
   },
   "file_extension": ".py",
   "mimetype": "text/x-python",
   "name": "python",
   "nbconvert_exporter": "python",
   "pygments_lexer": "ipython3",
   "version": "3.8.10"
  }
 },
 "nbformat": 4,
 "nbformat_minor": 5
}
