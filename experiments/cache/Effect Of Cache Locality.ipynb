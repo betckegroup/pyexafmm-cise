{
 "cells": [
  {
   "cell_type": "code",
   "execution_count": 12,
   "metadata": {},
   "outputs": [],
   "source": [
    "import numba\n",
    "import numpy as np\n",
    "from fmm import Fmm"
   ]
  },
  {
   "cell_type": "code",
   "execution_count": 13,
   "metadata": {},
   "outputs": [],
   "source": [
    "# Numba Threading Layer Configuration\n",
    "\n",
    "## (Intel CPUs Only) Sets lifetime of OpenMP threads to 0ms\n",
    "## As computation contains large serial (Python) components\n",
    "! export KMP_BLOCKTIME=0\n",
    "\n",
    "## Limit number of threads created by BLAS/LAPACK functions\n",
    "## Called by Numpy\n",
    "! export OMP_NUM_THREADS=1\n",
    "\n",
    "## Define 'places' at which threads are assigned\n",
    "! export OMP_PLACES=cores\n",
    "\n",
    "## Makes thread assignment go succesively through available\n",
    "## places. In our case, through each core.\n",
    "! export OMP_PROC_BIND=close\n",
    "\n",
    "## Select OpenMP as threading layer for Numba, the uniformity\n",
    "## of FMM operators makes it preferable to TBB\n",
    "! export NUMBA_THREADING_LAYER='omp'"
   ]
  },
  {
   "cell_type": "code",
   "execution_count": 14,
   "metadata": {},
   "outputs": [],
   "source": [
    "# Generate test data (optional)\n",
    "# ! fmm generate-test-data -c test_config"
   ]
  },
  {
   "cell_type": "code",
   "execution_count": 15,
   "metadata": {},
   "outputs": [],
   "source": [
    "# Run operator and tree pre-computations\n",
    "# ! fmm compute-operators -c test_config"
   ]
  },
  {
   "cell_type": "code",
   "execution_count": 16,
   "metadata": {},
   "outputs": [],
   "source": [
    "e = Fmm('test_config', verbose=True)"
   ]
  },
  {
   "cell_type": "code",
   "execution_count": 17,
   "metadata": {},
   "outputs": [
    {
     "data": {
      "text/plain": [
       "(152, 3)"
      ]
     },
     "execution_count": 17,
     "metadata": {},
     "output_type": "execute_result"
    }
   ],
   "source": [
    "e.check_surface.shape"
   ]
  },
  {
   "cell_type": "code",
   "execution_count": 18,
   "metadata": {
    "scrolled": true
   },
   "outputs": [
    {
     "name": "stdout",
     "output_type": "stream",
     "text": [
      "P2M: 3.335664987564087\n",
      "M2M: 0.662036657333374\n",
      "L2L: 0.5579426288604736\n",
      "M2L: 15.78796100616455\n",
      "L2T: 1.6008579730987549\n",
      "M2T: 2.0403101444244385\n",
      "S2L: 2.1673386096954346\n",
      "P2P: 2.3011441230773926\n"
     ]
    }
   ],
   "source": [
    "e.run()"
   ]
  },
  {
   "cell_type": "code",
   "execution_count": 19,
   "metadata": {},
   "outputs": [
    {
     "data": {
      "text/plain": [
       "array([[ 48807.39427834,  39154.28962847,  41700.33143874,\n",
       "         43362.26889026],\n",
       "       [ 50649.72737242,  48893.43492212,  48965.56770777,\n",
       "         35361.40255406],\n",
       "       [ 49043.70692062,  44094.72243262,  41416.28542653,\n",
       "         40510.08719101],\n",
       "       ...,\n",
       "       [ 48949.69436782, -41555.64031006, -39893.9999803 ,\n",
       "        -43953.823858  ],\n",
       "       [ 48578.08066193, -38310.12512956, -41557.00835126,\n",
       "        -43491.38561761],\n",
       "       [ 49259.94644903, -39362.08272263, -42017.09630178,\n",
       "        -48214.08700834]])"
      ]
     },
     "execution_count": 19,
     "metadata": {},
     "output_type": "execute_result"
    }
   ],
   "source": [
    "e.target_potentials"
   ]
  },
  {
   "cell_type": "code",
   "execution_count": 20,
   "metadata": {},
   "outputs": [
    {
     "name": "stdout",
     "output_type": "stream",
     "text": [
      "P2M: 0.4088256359100342\n",
      "M2M: 0.25632715225219727\n",
      "L2L: 0.352445125579834\n",
      "M2L: 12.961425304412842\n",
      "L2T: 0.3796539306640625\n",
      "M2T: 0.006421089172363281\n",
      "S2L: 0.41264843940734863\n",
      "P2P: 0.39309120178222656\n"
     ]
    }
   ],
   "source": [
    "e.run()"
   ]
  },
  {
   "cell_type": "code",
   "execution_count": 21,
   "metadata": {},
   "outputs": [
    {
     "data": {
      "text/plain": [
       "array([[ 454185.34772359,  323603.23578108,  335454.21787825,\n",
       "         342571.33442522],\n",
       "       [ 468867.28058628,  365567.93760551,  368077.92547722,\n",
       "         339777.29983884],\n",
       "       [ 456053.12436632,  346895.0476667 ,  331924.28626897,\n",
       "         333181.45585609],\n",
       "       ...,\n",
       "       [ 455029.38403143, -335231.91650552, -327929.56278   ,\n",
       "        -343495.06312685],\n",
       "       [ 452050.33700497, -319560.16742083, -331925.60667243,\n",
       "        -340130.23705584],\n",
       "       [ 457659.67606269, -327148.75827426, -336924.85721975,\n",
       "        -360723.18015431]])"
      ]
     },
     "execution_count": 21,
     "metadata": {},
     "output_type": "execute_result"
    }
   ],
   "source": [
    "e.target_potentials"
   ]
  },
  {
   "cell_type": "code",
   "execution_count": 22,
   "metadata": {},
   "outputs": [],
   "source": [
    "e.clear()"
   ]
  },
  {
   "cell_type": "markdown",
   "metadata": {},
   "source": [
    "# Functions without Cache Local Optimizations"
   ]
  },
  {
   "cell_type": "code",
   "execution_count": 8,
   "metadata": {},
   "outputs": [],
   "source": [
    "import adaptoctree.morton as morton\n",
    "\n",
    "\n",
    "import fmm.kernel as kernel\n",
    "import fmm.surface as surface"
   ]
  },
  {
   "cell_type": "markdown",
   "metadata": {},
   "source": [
    "## L2T"
   ]
  },
  {
   "cell_type": "code",
   "execution_count": 23,
   "metadata": {},
   "outputs": [],
   "source": [
    "@numba.njit(cache=True, parallel=True)\n",
    "def u_l2t(\n",
    "    leaves, \n",
    "    nleaves,\n",
    "    targets,\n",
    "    x0,\n",
    "    r0,\n",
    "    key_to_leaf_index,\n",
    "    target_index_pointer,\n",
    "    equivalent_surface,\n",
    "    alpha_outer,\n",
    "    key_to_index,\n",
    "    nequivalent_points,\n",
    "    local_expansions,\n",
    "):\n",
    "    \"\"\"\n",
    "    \"\"\"\n",
    "    \n",
    "    for i in numba.prange(nleaves):\n",
    "        target = leaves[i]\n",
    "        level = morton.find_level(target)\n",
    "        center = morton.find_physical_center_from_key(target, x0, r0)\n",
    "        target_leaf_index = key_to_leaf_index[target]\n",
    "        targets_at_node = targets[\n",
    "            target_index_pointer[target_leaf_index]:target_index_pointer[target_leaf_index+1]\n",
    "        ]\n",
    "        sources_at_node = surface.scale_surface(\n",
    "            equivalent_surface,\n",
    "            r0,\n",
    "            level,\n",
    "            center,\n",
    "            alpha_outer,\n",
    "        )\n",
    "        source_idx = key_to_index[target]\n",
    "        source_lidx = source_idx*nequivalent_points\n",
    "        source_ridx = source_lidx+nequivalent_points\n",
    "        source_densities_at_node = local_expansions[source_lidx:source_ridx]\n",
    "        \n",
    "        # Find potential\n",
    "        kernel.laplace_p2p_serial(sources_at_node, targets_at_node, source_densities_at_node)\n",
    "        \n",
    "        # Find potential gradient\n",
    "        kernel.laplace_gradient(sources_at_node, targets_at_node, source_densities_at_node)"
   ]
  },
  {
   "cell_type": "code",
   "execution_count": 24,
   "metadata": {},
   "outputs": [
    {
     "ename": "TypingError",
     "evalue": "Failed in nopython mode pipeline (step: nopython frontend)\nNameError: name 'morton' is not defined",
     "output_type": "error",
     "traceback": [
      "\u001b[0;31m---------------------------------------------------------------------------\u001b[0m",
      "\u001b[0;31mTypingError\u001b[0m                               Traceback (most recent call last)",
      "\u001b[0;32m<ipython-input-24-6246999a51d6>\u001b[0m in \u001b[0;36m<module>\u001b[0;34m\u001b[0m\n\u001b[0;32m----> 1\u001b[0;31m \u001b[0mget_ipython\u001b[0m\u001b[0;34m(\u001b[0m\u001b[0;34m)\u001b[0m\u001b[0;34m.\u001b[0m\u001b[0mrun_cell_magic\u001b[0m\u001b[0;34m(\u001b[0m\u001b[0;34m'timeit'\u001b[0m\u001b[0;34m,\u001b[0m \u001b[0;34m''\u001b[0m\u001b[0;34m,\u001b[0m \u001b[0;34m'u_l2t(\\n    e.leaves,\\n    e.nleaves,\\n    e.targets,\\n    e.x0,\\n    e.r0,\\n    e.key_to_leaf_index,\\n    e.target_index_pointer,\\n    e.equivalent_surface,\\n    e.alpha_outer,\\n    e.key_to_index,\\n    e.nequivalent_points,\\n    e.local_expansions\\n)\\n'\u001b[0m\u001b[0;34m)\u001b[0m\u001b[0;34m\u001b[0m\u001b[0;34m\u001b[0m\u001b[0m\n\u001b[0m",
      "\u001b[0;32m~/anaconda3/envs/fmm/lib/python3.8/site-packages/IPython/core/interactiveshell.py\u001b[0m in \u001b[0;36mrun_cell_magic\u001b[0;34m(self, magic_name, line, cell)\u001b[0m\n\u001b[1;32m   2379\u001b[0m             \u001b[0;32mwith\u001b[0m \u001b[0mself\u001b[0m\u001b[0;34m.\u001b[0m\u001b[0mbuiltin_trap\u001b[0m\u001b[0;34m:\u001b[0m\u001b[0;34m\u001b[0m\u001b[0;34m\u001b[0m\u001b[0m\n\u001b[1;32m   2380\u001b[0m                 \u001b[0margs\u001b[0m \u001b[0;34m=\u001b[0m \u001b[0;34m(\u001b[0m\u001b[0mmagic_arg_s\u001b[0m\u001b[0;34m,\u001b[0m \u001b[0mcell\u001b[0m\u001b[0;34m)\u001b[0m\u001b[0;34m\u001b[0m\u001b[0;34m\u001b[0m\u001b[0m\n\u001b[0;32m-> 2381\u001b[0;31m                 \u001b[0mresult\u001b[0m \u001b[0;34m=\u001b[0m \u001b[0mfn\u001b[0m\u001b[0;34m(\u001b[0m\u001b[0;34m*\u001b[0m\u001b[0margs\u001b[0m\u001b[0;34m,\u001b[0m \u001b[0;34m**\u001b[0m\u001b[0mkwargs\u001b[0m\u001b[0;34m)\u001b[0m\u001b[0;34m\u001b[0m\u001b[0;34m\u001b[0m\u001b[0m\n\u001b[0m\u001b[1;32m   2382\u001b[0m             \u001b[0;32mreturn\u001b[0m \u001b[0mresult\u001b[0m\u001b[0;34m\u001b[0m\u001b[0;34m\u001b[0m\u001b[0m\n\u001b[1;32m   2383\u001b[0m \u001b[0;34m\u001b[0m\u001b[0m\n",
      "\u001b[0;32m<decorator-gen-53>\u001b[0m in \u001b[0;36mtimeit\u001b[0;34m(self, line, cell, local_ns)\u001b[0m\n",
      "\u001b[0;32m~/anaconda3/envs/fmm/lib/python3.8/site-packages/IPython/core/magic.py\u001b[0m in \u001b[0;36m<lambda>\u001b[0;34m(f, *a, **k)\u001b[0m\n\u001b[1;32m    185\u001b[0m     \u001b[0;31m# but it's overkill for just that one bit of state.\u001b[0m\u001b[0;34m\u001b[0m\u001b[0;34m\u001b[0m\u001b[0;34m\u001b[0m\u001b[0m\n\u001b[1;32m    186\u001b[0m     \u001b[0;32mdef\u001b[0m \u001b[0mmagic_deco\u001b[0m\u001b[0;34m(\u001b[0m\u001b[0marg\u001b[0m\u001b[0;34m)\u001b[0m\u001b[0;34m:\u001b[0m\u001b[0;34m\u001b[0m\u001b[0;34m\u001b[0m\u001b[0m\n\u001b[0;32m--> 187\u001b[0;31m         \u001b[0mcall\u001b[0m \u001b[0;34m=\u001b[0m \u001b[0;32mlambda\u001b[0m \u001b[0mf\u001b[0m\u001b[0;34m,\u001b[0m \u001b[0;34m*\u001b[0m\u001b[0ma\u001b[0m\u001b[0;34m,\u001b[0m \u001b[0;34m**\u001b[0m\u001b[0mk\u001b[0m\u001b[0;34m:\u001b[0m \u001b[0mf\u001b[0m\u001b[0;34m(\u001b[0m\u001b[0;34m*\u001b[0m\u001b[0ma\u001b[0m\u001b[0;34m,\u001b[0m \u001b[0;34m**\u001b[0m\u001b[0mk\u001b[0m\u001b[0;34m)\u001b[0m\u001b[0;34m\u001b[0m\u001b[0;34m\u001b[0m\u001b[0m\n\u001b[0m\u001b[1;32m    188\u001b[0m \u001b[0;34m\u001b[0m\u001b[0m\n\u001b[1;32m    189\u001b[0m         \u001b[0;32mif\u001b[0m \u001b[0mcallable\u001b[0m\u001b[0;34m(\u001b[0m\u001b[0marg\u001b[0m\u001b[0;34m)\u001b[0m\u001b[0;34m:\u001b[0m\u001b[0;34m\u001b[0m\u001b[0;34m\u001b[0m\u001b[0m\n",
      "\u001b[0;32m~/anaconda3/envs/fmm/lib/python3.8/site-packages/IPython/core/magics/execution.py\u001b[0m in \u001b[0;36mtimeit\u001b[0;34m(self, line, cell, local_ns)\u001b[0m\n\u001b[1;32m   1167\u001b[0m             \u001b[0;32mfor\u001b[0m \u001b[0mindex\u001b[0m \u001b[0;32min\u001b[0m \u001b[0mrange\u001b[0m\u001b[0;34m(\u001b[0m\u001b[0;36m0\u001b[0m\u001b[0;34m,\u001b[0m \u001b[0;36m10\u001b[0m\u001b[0;34m)\u001b[0m\u001b[0;34m:\u001b[0m\u001b[0;34m\u001b[0m\u001b[0;34m\u001b[0m\u001b[0m\n\u001b[1;32m   1168\u001b[0m                 \u001b[0mnumber\u001b[0m \u001b[0;34m=\u001b[0m \u001b[0;36m10\u001b[0m \u001b[0;34m**\u001b[0m \u001b[0mindex\u001b[0m\u001b[0;34m\u001b[0m\u001b[0;34m\u001b[0m\u001b[0m\n\u001b[0;32m-> 1169\u001b[0;31m                 \u001b[0mtime_number\u001b[0m \u001b[0;34m=\u001b[0m \u001b[0mtimer\u001b[0m\u001b[0;34m.\u001b[0m\u001b[0mtimeit\u001b[0m\u001b[0;34m(\u001b[0m\u001b[0mnumber\u001b[0m\u001b[0;34m)\u001b[0m\u001b[0;34m\u001b[0m\u001b[0;34m\u001b[0m\u001b[0m\n\u001b[0m\u001b[1;32m   1170\u001b[0m                 \u001b[0;32mif\u001b[0m \u001b[0mtime_number\u001b[0m \u001b[0;34m>=\u001b[0m \u001b[0;36m0.2\u001b[0m\u001b[0;34m:\u001b[0m\u001b[0;34m\u001b[0m\u001b[0;34m\u001b[0m\u001b[0m\n\u001b[1;32m   1171\u001b[0m                     \u001b[0;32mbreak\u001b[0m\u001b[0;34m\u001b[0m\u001b[0;34m\u001b[0m\u001b[0m\n",
      "\u001b[0;32m~/anaconda3/envs/fmm/lib/python3.8/site-packages/IPython/core/magics/execution.py\u001b[0m in \u001b[0;36mtimeit\u001b[0;34m(self, number)\u001b[0m\n\u001b[1;32m    167\u001b[0m         \u001b[0mgc\u001b[0m\u001b[0;34m.\u001b[0m\u001b[0mdisable\u001b[0m\u001b[0;34m(\u001b[0m\u001b[0;34m)\u001b[0m\u001b[0;34m\u001b[0m\u001b[0;34m\u001b[0m\u001b[0m\n\u001b[1;32m    168\u001b[0m         \u001b[0;32mtry\u001b[0m\u001b[0;34m:\u001b[0m\u001b[0;34m\u001b[0m\u001b[0;34m\u001b[0m\u001b[0m\n\u001b[0;32m--> 169\u001b[0;31m             \u001b[0mtiming\u001b[0m \u001b[0;34m=\u001b[0m \u001b[0mself\u001b[0m\u001b[0;34m.\u001b[0m\u001b[0minner\u001b[0m\u001b[0;34m(\u001b[0m\u001b[0mit\u001b[0m\u001b[0;34m,\u001b[0m \u001b[0mself\u001b[0m\u001b[0;34m.\u001b[0m\u001b[0mtimer\u001b[0m\u001b[0;34m)\u001b[0m\u001b[0;34m\u001b[0m\u001b[0;34m\u001b[0m\u001b[0m\n\u001b[0m\u001b[1;32m    170\u001b[0m         \u001b[0;32mfinally\u001b[0m\u001b[0;34m:\u001b[0m\u001b[0;34m\u001b[0m\u001b[0;34m\u001b[0m\u001b[0m\n\u001b[1;32m    171\u001b[0m             \u001b[0;32mif\u001b[0m \u001b[0mgcold\u001b[0m\u001b[0;34m:\u001b[0m\u001b[0;34m\u001b[0m\u001b[0;34m\u001b[0m\u001b[0m\n",
      "\u001b[0;32m<magic-timeit>\u001b[0m in \u001b[0;36minner\u001b[0;34m(_it, _timer)\u001b[0m\n",
      "\u001b[0;32m~/anaconda3/envs/fmm/lib/python3.8/site-packages/numba/core/dispatcher.py\u001b[0m in \u001b[0;36m_compile_for_args\u001b[0;34m(self, *args, **kws)\u001b[0m\n\u001b[1;32m    418\u001b[0m                 \u001b[0me\u001b[0m\u001b[0;34m.\u001b[0m\u001b[0mpatch_message\u001b[0m\u001b[0;34m(\u001b[0m\u001b[0mmsg\u001b[0m\u001b[0;34m)\u001b[0m\u001b[0;34m\u001b[0m\u001b[0;34m\u001b[0m\u001b[0m\n\u001b[1;32m    419\u001b[0m \u001b[0;34m\u001b[0m\u001b[0m\n\u001b[0;32m--> 420\u001b[0;31m             \u001b[0merror_rewrite\u001b[0m\u001b[0;34m(\u001b[0m\u001b[0me\u001b[0m\u001b[0;34m,\u001b[0m \u001b[0;34m'typing'\u001b[0m\u001b[0;34m)\u001b[0m\u001b[0;34m\u001b[0m\u001b[0;34m\u001b[0m\u001b[0m\n\u001b[0m\u001b[1;32m    421\u001b[0m         \u001b[0;32mexcept\u001b[0m \u001b[0merrors\u001b[0m\u001b[0;34m.\u001b[0m\u001b[0mUnsupportedError\u001b[0m \u001b[0;32mas\u001b[0m \u001b[0me\u001b[0m\u001b[0;34m:\u001b[0m\u001b[0;34m\u001b[0m\u001b[0;34m\u001b[0m\u001b[0m\n\u001b[1;32m    422\u001b[0m             \u001b[0;31m# Something unsupported is present in the user code, add help info\u001b[0m\u001b[0;34m\u001b[0m\u001b[0;34m\u001b[0m\u001b[0;34m\u001b[0m\u001b[0m\n",
      "\u001b[0;32m~/anaconda3/envs/fmm/lib/python3.8/site-packages/numba/core/dispatcher.py\u001b[0m in \u001b[0;36merror_rewrite\u001b[0;34m(e, issue_type)\u001b[0m\n\u001b[1;32m    359\u001b[0m                 \u001b[0;32mraise\u001b[0m \u001b[0me\u001b[0m\u001b[0;34m\u001b[0m\u001b[0;34m\u001b[0m\u001b[0m\n\u001b[1;32m    360\u001b[0m             \u001b[0;32melse\u001b[0m\u001b[0;34m:\u001b[0m\u001b[0;34m\u001b[0m\u001b[0;34m\u001b[0m\u001b[0m\n\u001b[0;32m--> 361\u001b[0;31m                 \u001b[0;32mraise\u001b[0m \u001b[0me\u001b[0m\u001b[0;34m.\u001b[0m\u001b[0mwith_traceback\u001b[0m\u001b[0;34m(\u001b[0m\u001b[0;32mNone\u001b[0m\u001b[0;34m)\u001b[0m\u001b[0;34m\u001b[0m\u001b[0;34m\u001b[0m\u001b[0m\n\u001b[0m\u001b[1;32m    362\u001b[0m \u001b[0;34m\u001b[0m\u001b[0m\n\u001b[1;32m    363\u001b[0m         \u001b[0margtypes\u001b[0m \u001b[0;34m=\u001b[0m \u001b[0;34m[\u001b[0m\u001b[0;34m]\u001b[0m\u001b[0;34m\u001b[0m\u001b[0;34m\u001b[0m\u001b[0m\n",
      "\u001b[0;31mTypingError\u001b[0m: Failed in nopython mode pipeline (step: nopython frontend)\nNameError: name 'morton' is not defined"
     ]
    }
   ],
   "source": [
    "%%timeit\n",
    "u_l2t(\n",
    "    e.leaves,\n",
    "    e.nleaves,\n",
    "    e.targets,\n",
    "    e.x0,\n",
    "    e.r0,\n",
    "    e.key_to_leaf_index,\n",
    "    e.target_index_pointer,\n",
    "    e.equivalent_surface,\n",
    "    e.alpha_outer,\n",
    "    e.key_to_index,\n",
    "    e.nequivalent_points,\n",
    "    e.local_expansions\n",
    ")"
   ]
  },
  {
   "cell_type": "code",
   "execution_count": 11,
   "metadata": {},
   "outputs": [
    {
     "data": {
      "text/plain": [
       "8.55614973262031"
      ]
     },
     "execution_count": 11,
     "metadata": {},
     "output_type": "execute_result"
    }
   ],
   "source": [
    "(406/374 - 1)*100"
   ]
  },
  {
   "cell_type": "markdown",
   "metadata": {},
   "source": [
    "## Near Field"
   ]
  },
  {
   "cell_type": "code",
   "execution_count": 18,
   "metadata": {},
   "outputs": [],
   "source": [
    "@numba.njit(cache=True, parallel=True)\n",
    "def u_near_field(\n",
    "    leaves,\n",
    "    nleaves,\n",
    "    key_to_leaf_index,\n",
    "    key_to_index,\n",
    "    targets,\n",
    "    u_lists,\n",
    "    target_index_pointer,\n",
    "    sources,\n",
    "    source_densities,\n",
    "    source_index_pointer,\n",
    "    target_potentials,\n",
    "):\n",
    "    for i in numba.prange(nleaves):\n",
    "        target = leaves[i]\n",
    "        target_leaf_index = key_to_leaf_index[target]\n",
    "        target_index = key_to_index[target]\n",
    "        targets_at_node = targets[\n",
    "            target_index_pointer[target_leaf_index]:target_index_pointer[target_leaf_index+1]\n",
    "        ]\n",
    "        ntargets_at_node = len(targets_at_node)\n",
    "        \n",
    "        u_list = u_lists[target_index]\n",
    "        u_list = u_list[u_list != -1]\n",
    "        \n",
    "        # single threaded over inner loop over u list!\n",
    "        for j in range(len(u_list)):\n",
    "            source = u_list[j]\n",
    "            source_leaf_index = key_to_leaf_index[source]\n",
    "            \n",
    "            sources_at_node = sources[\n",
    "                source_index_pointer[source_leaf_index]:source_index_pointer[source_leaf_index+1]\n",
    "            ]\n",
    "            \n",
    "            source_densities_at_node = source_densities[\n",
    "                source_index_pointer[source_leaf_index]:source_index_pointer[source_leaf_index+1]\n",
    "            ]\n",
    "            \n",
    "            # run p2p over u list\n",
    "            kernel.laplace_p2p_serial(sources_at_node, targets_at_node, source_densities_at_node)\n",
    "\n",
    "            kernel.laplace_gradient(sources_at_node, targets_at_node, source_densities_at_node)\n",
    "\n",
    "            target_potentials[target_index_pointer[target_leaf_index]:target_index_pointer[target_leaf_index+1],1:] += \\\n",
    "                kernel.laplace_gradient(sources_at_node, targets_at_node, source_densities_at_node)\n",
    "            target_potentials[target_index_pointer[target_leaf_index]:target_index_pointer[target_leaf_index+1], 0] += \\\n",
    "               kernel.laplace_p2p_serial(sources_at_node, targets_at_node, source_densities_at_node)\n",
    "\n",
    "            \n",
    "        # Now compute contribution due to sources in the node itself\n",
    "        sources_at_node = sources[\n",
    "            source_index_pointer[target_leaf_index]:source_index_pointer[target_leaf_index+1]\n",
    "        ]\n",
    "\n",
    "        source_densities_at_node = source_densities[\n",
    "            source_index_pointer[target_leaf_index]:source_index_pointer[target_leaf_index+1]\n",
    "        ]\n",
    "        \n",
    "        target_potentials[target_index_pointer[target_leaf_index]:target_index_pointer[target_leaf_index+1],1:] += \\\n",
    "            kernel.laplace_gradient(sources_at_node, targets_at_node, source_densities_at_node)\n",
    "        target_potentials[target_index_pointer[target_leaf_index]:target_index_pointer[target_leaf_index+1], 0] += \\\n",
    "           kernel.laplace_p2p_serial(sources_at_node, targets_at_node, source_densities_at_node)\n",
    "        "
   ]
  },
  {
   "cell_type": "code",
   "execution_count": 19,
   "metadata": {},
   "outputs": [],
   "source": [
    "trgs = np.zeros_like(e.target_potentials)"
   ]
  },
  {
   "cell_type": "code",
   "execution_count": 20,
   "metadata": {},
   "outputs": [],
   "source": [
    "\n",
    "u_near_field(\n",
    "    e.leaves,\n",
    "    e.nleaves,\n",
    "    e.key_to_leaf_index,\n",
    "    e.key_to_index,\n",
    "    e.targets,\n",
    "    e.u_lists,\n",
    "    e.target_index_pointer,\n",
    "    e.sources,\n",
    "    e.source_densities,\n",
    "    e.source_index_pointer,\n",
    "    trgs\n",
    ")"
   ]
  },
  {
   "cell_type": "code",
   "execution_count": 21,
   "metadata": {},
   "outputs": [
    {
     "data": {
      "text/plain": [
       "array([[  223.14999342,  1197.1537977 ,  2317.36129308,  3181.22905736],\n",
       "       [  326.76690775,  6263.60121144,  5813.42888359, -7594.6074319 ],\n",
       "       [  240.48383728,  3316.92081524,  2664.30640447,  1087.49962281],\n",
       "       ...,\n",
       "       [  283.60594509, -2173.29907485, -1333.2120276 , -3890.04652794],\n",
       "       [  261.23388083,  -822.89158094, -2864.96064596, -3950.8588662 ],\n",
       "       [  283.23126976,  -729.31850595, -2497.08182184, -6316.22367678]])"
      ]
     },
     "execution_count": 21,
     "metadata": {},
     "output_type": "execute_result"
    }
   ],
   "source": [
    "trgs"
   ]
  },
  {
   "cell_type": "code",
   "execution_count": null,
   "metadata": {},
   "outputs": [],
   "source": []
  }
 ],
 "metadata": {
  "kernelspec": {
   "display_name": "Python [conda env:fmm] *",
   "language": "python",
   "name": "conda-env-fmm-py"
  },
  "language_info": {
   "codemirror_mode": {
    "name": "ipython",
    "version": 3
   },
   "file_extension": ".py",
   "mimetype": "text/x-python",
   "name": "python",
   "nbconvert_exporter": "python",
   "pygments_lexer": "ipython3",
   "version": "3.8.5"
  }
 },
 "nbformat": 4,
 "nbformat_minor": 4
}
