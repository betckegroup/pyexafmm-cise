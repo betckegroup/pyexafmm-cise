{
 "cells": [
  {
   "cell_type": "code",
   "execution_count": 57,
   "metadata": {},
   "outputs": [],
   "source": [
    "import numba\n",
    "import numpy as np\n",
    "\n",
    "import matplotlib.pyplot as plt\n",
    "\n",
    "from fmm import Fmm"
   ]
  },
  {
   "cell_type": "code",
   "execution_count": 16,
   "metadata": {},
   "outputs": [],
   "source": [
    "# Numba Threading Layer Configuration\n",
    "\n",
    "## (Intel CPUs Only) Sets lifetime of OpenMP threads to 0ms\n",
    "## As computation contains large serial (Python) components\n",
    "! export KMP_BLOCKTIME=0\n",
    "\n",
    "## Limit number of threads created by BLAS/LAPACK functions\n",
    "## Called by Numpy\n",
    "! export OMP_NUM_THREADS=1\n",
    "\n",
    "## Define 'places' at which threads are assigned\n",
    "! export OMP_PLACES=cores\n",
    "\n",
    "## Makes thread assignment go succesively through available\n",
    "## places. In our case, through each core.\n",
    "! export OMP_PROC_BIND=close\n",
    "\n",
    "## Select OpenMP as threading layer for Numba, the uniformity\n",
    "## of FMM operators makes it preferable to TBB\n",
    "! export NUMBA_THREADING_LAYER='omp'"
   ]
  },
  {
   "cell_type": "code",
   "execution_count": 27,
   "metadata": {
    "scrolled": true
   },
   "outputs": [
    {
     "name": "stdout",
     "output_type": "stream",
     "text": [
      "Generating random sources & targets\n",
      "Computing operators\n",
      "Computing octree\n",
      "Computing Inner Surface of Order 10\n",
      "Computing Outer Surface of Order 10\n",
      "Computing Inverse of Check To Equivalent Gram Matrix\n",
      "Computing M2M & L2L Operators\n",
      "Computed (1/8) M2M/L2L operators\n",
      "Computed (2/8) M2M/L2L operators\n",
      "Computed (3/8) M2M/L2L operators\n",
      "Computed (4/8) M2M/L2L operators\n",
      "Computed (5/8) M2M/L2L operators\n",
      "Computed (6/8) M2M/L2L operators\n",
      "Computed (7/8) M2M/L2L operators\n",
      "Computed (8/8) M2M/L2L operators\n",
      "Computed operators for (1/4) M2L Levels\n",
      "Computed operators for (2/4) M2L Levels\n",
      "Computed operators for (3/4) M2L Levels\n",
      "Computed operators for (4/4) M2L Levels\n",
      "Total time elapsed 0 minutes and 24 seconds\n"
     ]
    }
   ],
   "source": [
    "# Generate test data (optional)\n",
    "# ! fmm generate-test-data -c n_crit_150_p_6\n",
    "# ! fmm compute-operators -c n_crit_150_p_6\n",
    "# ! fmm generate-test-data -c n_crit_150_p_8\n",
    "# ! fmm compute-operators -c n_crit_150_p_8\n",
    "# ! fmm generate-test-data -c n_crit_150_p_10\n",
    "# ! fmm compute-operators -c n_crit_150_p_10\n",
    "# ! fmm generate-test-data -c n_crit_150_p_7\n",
    "# ! fmm compute-operators -c n_crit_150_p_7\n",
    "# ! fmm generate-test-data -c n_crit_150_p_9\n",
    "# ! fmm compute-operators -c n_crit_150_p_9"
   ]
  },
  {
   "cell_type": "code",
   "execution_count": 49,
   "metadata": {},
   "outputs": [
    {
     "name": "stdout",
     "output_type": "stream",
     "text": [
      "Generating random sources & targets\n",
      "Computing operators\n",
      "Computing octree\n",
      "Computing Inner Surface of Order 7\n",
      "Computing Outer Surface of Order 7\n",
      "Computing Inverse of Check To Equivalent Gram Matrix\n",
      "Computing M2M & L2L Operators\n",
      "Computed (1/8) M2M/L2L operators\n",
      "Computed (2/8) M2M/L2L operators\n",
      "Computed (3/8) M2M/L2L operators\n",
      "Computed (4/8) M2M/L2L operators\n",
      "Computed (5/8) M2M/L2L operators\n",
      "Computed (6/8) M2M/L2L operators\n",
      "Computed (7/8) M2M/L2L operators\n",
      "Computed (8/8) M2M/L2L operators\n",
      "Computed operators for (1/4) M2L Levels\n",
      "Computed operators for (2/4) M2L Levels\n",
      "Computed operators for (3/4) M2L Levels\n",
      "Computed operators for (4/4) M2L Levels\n",
      "Total time elapsed 0 minutes and 14 seconds\n",
      "Generating random sources & targets\n",
      "Computing operators\n",
      "Computing octree\n",
      "Computing Inner Surface of Order 9\n",
      "Computing Outer Surface of Order 9\n",
      "Computing Inverse of Check To Equivalent Gram Matrix\n",
      "Computing M2M & L2L Operators\n",
      "Computed (1/8) M2M/L2L operators\n",
      "Computed (2/8) M2M/L2L operators\n",
      "Computed (3/8) M2M/L2L operators\n",
      "Computed (4/8) M2M/L2L operators\n",
      "Computed (5/8) M2M/L2L operators\n",
      "Computed (6/8) M2M/L2L operators\n",
      "Computed (7/8) M2M/L2L operators\n",
      "Computed (8/8) M2M/L2L operators\n",
      "Computed operators for (1/4) M2L Levels\n",
      "Computed operators for (2/4) M2L Levels\n",
      "Computed operators for (3/4) M2L Levels\n",
      "Computed operators for (4/4) M2L Levels\n",
      "Total time elapsed 0 minutes and 21 seconds\n"
     ]
    }
   ],
   "source": []
  },
  {
   "cell_type": "code",
   "execution_count": null,
   "metadata": {},
   "outputs": [],
   "source": []
  },
  {
   "cell_type": "code",
   "execution_count": 28,
   "metadata": {},
   "outputs": [],
   "source": [
    "evec = [\n",
    "    Fmm('n_crit_150_p_6', verbose=True),\n",
    "    Fmm('n_crit_150_p_8', verbose=True),\n",
    "    Fmm('n_crit_150_p_10', verbose=True),\n",
    "]"
   ]
  },
  {
   "cell_type": "code",
   "execution_count": 50,
   "metadata": {},
   "outputs": [],
   "source": [
    "evec2 = [\n",
    "    Fmm('n_crit_150_p_7', verbose=True),\n",
    "    Fmm('n_crit_150_p_9', verbose=True)\n",
    "]"
   ]
  },
  {
   "cell_type": "code",
   "execution_count": 31,
   "metadata": {},
   "outputs": [
    {
     "name": "stdout",
     "output_type": "stream",
     "text": [
      "P2M: 0.4213533401489258\n",
      "M2M: 0.2624552249908447\n",
      "L2L: 0.3525733947753906\n",
      "M2L: 13.126320123672485\n",
      "L2T: 0.39219188690185547\n",
      "M2T: 0.006562948226928711\n",
      "S2L: 0.4144322872161865\n",
      "P2P: 0.3918323516845703\n",
      "P2M: 0.812192440032959\n",
      "M2M: 1.011019229888916\n",
      "L2L: 1.1071057319641113\n",
      "M2L: 32.277084827423096\n",
      "L2T: 0.7334260940551758\n",
      "M2T: 0.006470680236816406\n",
      "S2L: 0.7785842418670654\n",
      "P2P: 0.3899848461151123\n",
      "P2M: 1.3407843112945557\n",
      "M2M: 4.018711805343628\n",
      "L2L: 4.463682413101196\n",
      "M2L: 108.03561091423035\n",
      "L2T: 1.1274476051330566\n",
      "M2T: 0.006874561309814453\n",
      "S2L: 1.250892162322998\n",
      "P2P: 0.39708733558654785\n"
     ]
    }
   ],
   "source": [
    "for e in evec:\n",
    "    e.run()"
   ]
  },
  {
   "cell_type": "code",
   "execution_count": 51,
   "metadata": {},
   "outputs": [
    {
     "name": "stdout",
     "output_type": "stream",
     "text": [
      "P2M: 0.5867736339569092\n",
      "M2M: 0.5348410606384277\n",
      "L2L: 0.6505753993988037\n",
      "M2L: 22.949918746948242\n",
      "L2T: 0.5611567497253418\n",
      "M2T: 0.006270885467529297\n",
      "S2L: 0.5767309665679932\n",
      "P2P: 0.39307165145874023\n",
      "P2M: 1.0494475364685059\n",
      "M2M: 1.6036531925201416\n",
      "L2L: 1.8173432350158691\n",
      "M2L: 47.429853677749634\n",
      "L2T: 0.9384725093841553\n",
      "M2T: 0.006260871887207031\n",
      "S2L: 1.0079259872436523\n",
      "P2P: 0.39661478996276855\n"
     ]
    }
   ],
   "source": [
    "for e in evec2:\n",
    "    e.run()"
   ]
  },
  {
   "cell_type": "markdown",
   "metadata": {},
   "source": [
    "# L2T Without Cache Local Optimizations"
   ]
  },
  {
   "cell_type": "code",
   "execution_count": 32,
   "metadata": {},
   "outputs": [],
   "source": [
    "import adaptoctree.morton as morton\n",
    "\n",
    "import fmm.kernel as kernel\n",
    "import fmm.surface as surface"
   ]
  },
  {
   "cell_type": "markdown",
   "metadata": {},
   "source": [
    "## L2T"
   ]
  },
  {
   "cell_type": "code",
   "execution_count": 33,
   "metadata": {},
   "outputs": [],
   "source": [
    "@numba.njit(cache=True, parallel=True)\n",
    "def u_l2t(\n",
    "    leaves, \n",
    "    nleaves,\n",
    "    targets,\n",
    "    x0,\n",
    "    r0,\n",
    "    key_to_leaf_index,\n",
    "    target_index_pointer,\n",
    "    equivalent_surface,\n",
    "    alpha_outer,\n",
    "    key_to_index,\n",
    "    nequivalent_points,\n",
    "    local_expansions,\n",
    "):\n",
    "    \n",
    "    for i in numba.prange(nleaves):\n",
    "        target = leaves[i]\n",
    "        level = morton.find_level(target)\n",
    "        center = morton.find_physical_center_from_key(target, x0, r0)\n",
    "        target_leaf_index = key_to_leaf_index[target]\n",
    "        targets_at_node = targets[\n",
    "            target_index_pointer[target_leaf_index]:target_index_pointer[target_leaf_index+1]\n",
    "        ]\n",
    "        sources_at_node = surface.scale_surface(\n",
    "            equivalent_surface,\n",
    "            r0,\n",
    "            level,\n",
    "            center,\n",
    "            alpha_outer,\n",
    "        )\n",
    "        source_idx = key_to_index[target]\n",
    "        source_lidx = source_idx*nequivalent_points\n",
    "        source_ridx = source_lidx+nequivalent_points\n",
    "        source_densities_at_node = local_expansions[source_lidx:source_ridx]\n",
    "        \n",
    "        # Find potential\n",
    "        kernel.laplace_p2p_serial(sources_at_node, targets_at_node, source_densities_at_node)\n",
    "        \n",
    "        # Find potential gradient\n",
    "        kernel.laplace_gradient(sources_at_node, targets_at_node, source_densities_at_node)"
   ]
  },
  {
   "cell_type": "code",
   "execution_count": 36,
   "metadata": {},
   "outputs": [
    {
     "name": "stdout",
     "output_type": "stream",
     "text": [
      "416 ms ± 6.51 ms per loop (mean ± std. dev. of 7 runs, 1 loop each)\n"
     ]
    }
   ],
   "source": [
    "%%timeit\n",
    "i = 0\n",
    "u_l2t(\n",
    "    evec[i].leaves,\n",
    "    evec[i].nleaves,\n",
    "    evec[i].targets,\n",
    "    evec[i].x0,\n",
    "    evec[i].r0,\n",
    "    evec[i].key_to_leaf_index,\n",
    "    evec[i].target_index_pointer,\n",
    "    evec[i].equivalent_surface,\n",
    "    evec[i].alpha_outer,\n",
    "    evec[i].key_to_index,\n",
    "    evec[i].nequivalent_points,\n",
    "    evec[i].local_expansions\n",
    ")"
   ]
  },
  {
   "cell_type": "code",
   "execution_count": 38,
   "metadata": {},
   "outputs": [
    {
     "name": "stdout",
     "output_type": "stream",
     "text": [
      "790 ms ± 7.78 ms per loop (mean ± std. dev. of 7 runs, 1 loop each)\n"
     ]
    }
   ],
   "source": [
    "%%timeit\n",
    "i = 1\n",
    "u_l2t(\n",
    "    evec[i].leaves,\n",
    "    evec[i].nleaves,\n",
    "    evec[i].targets,\n",
    "    evec[i].x0,\n",
    "    evec[i].r0,\n",
    "    evec[i].key_to_leaf_index,\n",
    "    evec[i].target_index_pointer,\n",
    "    evec[i].equivalent_surface,\n",
    "    evec[i].alpha_outer,\n",
    "    evec[i].key_to_index,\n",
    "    evec[i].nequivalent_points,\n",
    "    evec[i].local_expansions\n",
    ")"
   ]
  },
  {
   "cell_type": "code",
   "execution_count": 37,
   "metadata": {},
   "outputs": [
    {
     "name": "stdout",
     "output_type": "stream",
     "text": [
      "1.27 s ± 4.86 ms per loop (mean ± std. dev. of 7 runs, 1 loop each)\n"
     ]
    }
   ],
   "source": [
    "%%timeit\n",
    "i = 2\n",
    "u_l2t(\n",
    "    evec[i].leaves,\n",
    "    evec[i].nleaves,\n",
    "    evec[i].targets,\n",
    "    evec[i].x0,\n",
    "    evec[i].r0,\n",
    "    evec[i].key_to_leaf_index,\n",
    "    evec[i].target_index_pointer,\n",
    "    evec[i].equivalent_surface,\n",
    "    evec[i].alpha_outer,\n",
    "    evec[i].key_to_index,\n",
    "    evec[i].nequivalent_points,\n",
    "    evec[i].local_expansions\n",
    ")"
   ]
  },
  {
   "cell_type": "code",
   "execution_count": 40,
   "metadata": {},
   "outputs": [],
   "source": [
    "cache_vec = np.array([ 0.39219188690185547, 0.7334260940551758, 1.1274476051330566])*1000\n",
    "naive_vec = np.array([416, 790, 1270])"
   ]
  },
  {
   "cell_type": "code",
   "execution_count": 48,
   "metadata": {},
   "outputs": [
    {
     "data": {
      "text/plain": [
       "array([1.06070527, 1.07713648, 1.12643815])"
      ]
     },
     "execution_count": 48,
     "metadata": {},
     "output_type": "execute_result"
    }
   ],
   "source": [
    "(naive_vec/cache_vec)"
   ]
  },
  {
   "cell_type": "code",
   "execution_count": 46,
   "metadata": {},
   "outputs": [
    {
     "name": "stdout",
     "output_type": "stream",
     "text": [
      "32768\n",
      "32768\n",
      "32768\n"
     ]
    }
   ],
   "source": [
    "for e in evec:\n",
    "    print(e.nleaves)"
   ]
  },
  {
   "cell_type": "code",
   "execution_count": 52,
   "metadata": {},
   "outputs": [
    {
     "name": "stdout",
     "output_type": "stream",
     "text": [
      "593 ms ± 9.24 ms per loop (mean ± std. dev. of 7 runs, 1 loop each)\n"
     ]
    }
   ],
   "source": [
    "%%timeit\n",
    "i = 0\n",
    "u_l2t(\n",
    "    evec2[i].leaves,\n",
    "    evec2[i].nleaves,\n",
    "    evec2[i].targets,\n",
    "    evec2[i].x0,\n",
    "    evec2[i].r0,\n",
    "    evec2[i].key_to_leaf_index,\n",
    "    evec2[i].target_index_pointer,\n",
    "    evec2[i].equivalent_surface,\n",
    "    evec2[i].alpha_outer,\n",
    "    evec2[i].key_to_index,\n",
    "    evec2[i].nequivalent_points,\n",
    "    evec2[i].local_expansions\n",
    ")"
   ]
  },
  {
   "cell_type": "code",
   "execution_count": 53,
   "metadata": {},
   "outputs": [
    {
     "name": "stdout",
     "output_type": "stream",
     "text": [
      "1.02 s ± 3.2 ms per loop (mean ± std. dev. of 7 runs, 1 loop each)\n"
     ]
    }
   ],
   "source": [
    "%%timeit\n",
    "i = 1\n",
    "u_l2t(\n",
    "    evec2[i].leaves,\n",
    "    evec2[i].nleaves,\n",
    "    evec2[i].targets,\n",
    "    evec2[i].x0,\n",
    "    evec2[i].r0,\n",
    "    evec2[i].key_to_leaf_index,\n",
    "    evec2[i].target_index_pointer,\n",
    "    evec2[i].equivalent_surface,\n",
    "    evec2[i].alpha_outer,\n",
    "    evec2[i].key_to_index,\n",
    "    evec2[i].nequivalent_points,\n",
    "    evec2[i].local_expansions\n",
    ")"
   ]
  },
  {
   "cell_type": "code",
   "execution_count": 54,
   "metadata": {},
   "outputs": [
    {
     "data": {
      "text/plain": [
       "1.0570409982174689"
      ]
     },
     "execution_count": 54,
     "metadata": {},
     "output_type": "execute_result"
    }
   ],
   "source": [
    "593/561"
   ]
  },
  {
   "cell_type": "code",
   "execution_count": 55,
   "metadata": {},
   "outputs": [
    {
     "data": {
      "text/plain": [
       "1.0874200426439233"
      ]
     },
     "execution_count": 55,
     "metadata": {},
     "output_type": "execute_result"
    }
   ],
   "source": [
    "1020/938"
   ]
  },
  {
   "cell_type": "code",
   "execution_count": 81,
   "metadata": {},
   "outputs": [
    {
     "data": {
      "image/png": "[encoded data removed]",
      "text/plain": [
       "<Figure size 432x288 with 1 Axes>"
      ]
     },
     "metadata": {
      "needs_background": "light"
     },
     "output_type": "display_data"
    }
   ],
   "source": [
    "pvec = [6, 7, 8, 9, 10]\n",
    "runtimes = [392, 561, 733, 938, 1127]\n",
    "\n",
    "speedup = [1.06, 1.06, 1.08, 1.09, 1.13]\n",
    "runtimes2 = np.array(runtimes)*np.array(speedup)\n",
    "\n",
    "fig, ax = plt.subplots()\n",
    "\n",
    "ax.plot(pvec, runtimes, '-o', color='tab:blue', label='Optimized')\n",
    "ax.set_xticks(pvec)\n",
    "ax.set_xticklabels(pvec)\n",
    "ax.set_ylabel('Wall Times ($ms$)')\n",
    "ax.set_xlabel('Expansion Order $p$')\n",
    "\n",
    "# ax2 = ax.twinx()  # instantiate a second axes that shares the same x-axis\n",
    "# \n",
    "# color = 'tab:red'\n",
    "# ax2.set_ylabel('Ratio of Wall Time to 1000x1000 Matmul (%)')  # we already handled the x-label with ax1\n",
    "# ax.set_ylabel('Unoptimized Times', color='tab:red')\n",
    "ax.plot(pvec, runtimes2, '-o', color='tab:red', label='Unoptimized')\n",
    "ax.tick_params(axis='y',)\n",
    "\n",
    "ax.legend()\n",
    "fig.tight_layout()  # otherwise the right y-label is slightly clipped\n",
    "\n",
    "plt.savefig('speedup.png', dpi=300)"
   ]
  },
  {
   "cell_type": "code",
   "execution_count": 76,
   "metadata": {},
   "outputs": [
    {
     "data": {
      "text/plain": [
       "array([ 415.52,  594.66,  791.64, 1022.42, 1273.51])"
      ]
     },
     "execution_count": 76,
     "metadata": {},
     "output_type": "execute_result"
    }
   ],
   "source": [
    "runtimes2"
   ]
  },
  {
   "cell_type": "code",
   "execution_count": null,
   "metadata": {},
   "outputs": [],
   "source": []
  }
 ],
 "metadata": {
  "kernelspec": {
   "display_name": "Python [conda env:fmm] *",
   "language": "python",
   "name": "conda-env-fmm-py"
  },
  "language_info": {
   "codemirror_mode": {
    "name": "ipython",
    "version": 3
   },
   "file_extension": ".py",
   "mimetype": "text/x-python",
   "name": "python",
   "nbconvert_exporter": "python",
   "pygments_lexer": "ipython3",
   "version": "3.8.5"
  }
 },
 "nbformat": 4,
 "nbformat_minor": 4
}
