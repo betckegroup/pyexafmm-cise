{
 "cells": [
  {
   "cell_type": "code",
   "execution_count": 1,
   "id": "1563c670",
   "metadata": {},
   "outputs": [],
   "source": [
    "%matplotlib qt\n",
    "import os\n",
    "import pathlib\n",
    "from time import time\n",
    "\n",
    "import matplotlib.pyplot as plt\n",
    "\n",
    "from fmm import Fmm\n",
    "from fmm.kernel import laplace_p2p_serial\n",
    "\n",
    "# Plotting parameters\n",
    "plt.rc('font', family='serif', serif='Times')\n",
    "plt.rc('text', usetex=True)\n",
    "plt.rc('xtick', labelsize=8)\n",
    "plt.rc('ytick', labelsize=8)\n",
    "plt.rc('axes', labelsize=8)\n",
    "\n",
    "# Dimensions for column plots\n",
    "width = 3.487\n",
    "height = width / 1.618\n",
    "\n",
    "HERE = pathlib.Path(os.getcwd())\n",
    "FIGURE_SAVEPATH = os.path.abspath(HERE.parent.parent / 'article/figures')"
   ]
  },
  {
   "cell_type": "markdown",
   "id": "ff3cab90",
   "metadata": {},
   "source": [
    "# The Impact of Choice of Compression Parameter $K$"
   ]
  },
  {
   "cell_type": "markdown",
   "id": "18339297",
   "metadata": {},
   "source": [
    "## Generate Data\n",
    "\n",
    "Uncomment to generate data"
   ]
  },
  {
   "cell_type": "code",
   "execution_count": 55,
   "id": "0c2d50bb",
   "metadata": {
    "scrolled": true
   },
   "outputs": [],
   "source": [
    "# ! fmm generate-test-data -c K_10 && fmm compute-operators -c K_10\n",
    "# ! fmm generate-test-data -c K_20 && fmm compute-operators -c K_20\n",
    "# ! fmm generate-test-data -c K_30 && fmm compute-operators -c K_30\n",
    "# ! fmm generate-test-data -c K_40 && fmm compute-operators -c K_40\n",
    "# ! fmm generate-test-data -c K_50 && fmm compute-operators -c K_50"
   ]
  },
  {
   "cell_type": "markdown",
   "id": "220d44b9",
   "metadata": {},
   "source": [
    "## Accuracy\n",
    "\n",
    "How does compression parameter effect accuracy? We expect $p$ digits of accuracy from theory, where $p$ is the order of the multipole/local expansions"
   ]
  },
  {
   "cell_type": "code",
   "execution_count": 44,
   "id": "7ee64672",
   "metadata": {},
   "outputs": [],
   "source": [
    "# Container for timings\n",
    "tvec = []\n",
    "\n",
    "\n",
    "# Compression parameters tested\n",
    "Kvec = [10, 20, 30, 40, 50]\n",
    "\n",
    "# Evaluate FMM for each experiment\n",
    "evec = [Fmm(f'K_{K}') for K in Kvec]\n",
    "for e in evec:\n",
    "    start = time()\n",
    "    e.run()\n",
    "    tvec.append(time()-start)"
   ]
  },
  {
   "cell_type": "code",
   "execution_count": 9,
   "id": "4ce87816",
   "metadata": {},
   "outputs": [],
   "source": [
    "# Results of direct computation for each experiment\n",
    "d = laplace_p2p_serial(evec[0].sources, evec[0].targets, evec[0].source_densities)"
   ]
  },
  {
   "cell_type": "code",
   "execution_count": 45,
   "id": "259d9a27",
   "metadata": {},
   "outputs": [],
   "source": [
    "relerrvec = [abs(d-e.target_potentials)/d for e in evec]"
   ]
  },
  {
   "cell_type": "code",
   "execution_count": 47,
   "id": "2362d423",
   "metadata": {},
   "outputs": [],
   "source": [
    "relerrmean = [np.mean(err) for err in relerrvec]"
   ]
  },
  {
   "cell_type": "code",
   "execution_count": 52,
   "id": "acc95f29",
   "metadata": {},
   "outputs": [],
   "source": [
    "fig, ax = plt.subplots()\n",
    "fig.subplots_adjust(left=.15, bottom=.16, right=.99, top=.97)\n",
    "\n",
    "ax.semilogy(Kvec, relerrmean, '--o', ms=3, lw=0.4, c='0.25')\n",
    "ax.set_ylabel('Mean Relative Error ($\\epsilon_{\\ rel}$)')\n",
    "ax.set_xlabel('Compression Rank ($K$)')\n",
    "ax.set_xticks(Kvec)\n",
    "\n",
    "fig.set_size_inches(width, height)\n",
    "fp = FIGURE_SAVEPATH  + '/compression_accuracy.pdf'\n",
    "plt.savefig(fp)\n",
    "plt.show()"
   ]
  },
  {
   "cell_type": "code",
   "execution_count": 82,
   "id": "75266ff0",
   "metadata": {},
   "outputs": [],
   "source": []
  },
  {
   "cell_type": "code",
   "execution_count": 83,
   "id": "95f4f6de",
   "metadata": {},
   "outputs": [
    {
     "data": {
      "text/plain": [
       "array([-26712214., -26712594., -26712314.], dtype=float32)"
      ]
     },
     "execution_count": 83,
     "metadata": {},
     "output_type": "execute_result"
    }
   ],
   "source": []
  },
  {
   "cell_type": "markdown",
   "id": "10bff1ed",
   "metadata": {},
   "source": [
    "## Runtimes\n",
    "\n",
    "How does compression parameter effect runtime?"
   ]
  },
  {
   "cell_type": "code",
   "execution_count": 56,
   "id": "54e5a745",
   "metadata": {},
   "outputs": [],
   "source": [
    "fig, ax = plt.subplots()\n",
    "fig.subplots_adjust(left=.15, bottom=.16, right=.99, top=.97)\n",
    "\n",
    "ax.plot(Kvec, tvec, '--o', ms=3, lw=0.4, c='0.25')\n",
    "ax.set_ylabel('FMM Runtime ($s$)')\n",
    "ax.set_xlabel('Compression Rank ($K$)')\n",
    "ax.set_xticks(Kvec)\n",
    "\n",
    "fig.set_size_inches(width, height)\n",
    "fp = FIGURE_SAVEPATH  + '/compression_runtime.pdf'\n",
    "plt.savefig(fp)\n",
    "plt.show()"
   ]
  },
  {
   "cell_type": "code",
   "execution_count": null,
   "id": "d71005ce",
   "metadata": {},
   "outputs": [],
   "source": []
  }
 ],
 "metadata": {
  "kernelspec": {
   "display_name": "Python 3",
   "language": "python",
   "name": "python3"
  },
  "language_info": {
   "codemirror_mode": {
    "name": "ipython",
    "version": 3
   },
   "file_extension": ".py",
   "mimetype": "text/x-python",
   "name": "python",
   "nbconvert_exporter": "python",
   "pygments_lexer": "ipython3",
   "version": "3.8.10"
  }
 },
 "nbformat": 4,
 "nbformat_minor": 5
}
