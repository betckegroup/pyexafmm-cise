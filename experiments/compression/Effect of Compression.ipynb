{
 "cells": [
  {
   "cell_type": "code",
   "execution_count": 1,
   "id": "1563c670",
   "metadata": {},
   "outputs": [],
   "source": [
    "%matplotlib qt\n",
    "\n",
    "import matplotlib.pyplot as plt\n",
    "\n",
    "from fmm import Fmm\n",
    "from fmm.kernel import laplace_p2p_serial\n",
    "\n",
    "# Plotting parameters\n",
    "plt.rc('font', family='serif', serif='Times')\n",
    "plt.rc('text', usetex=True)\n",
    "plt.rc('xtick', labelsize=8)\n",
    "plt.rc('ytick', labelsize=8)\n",
    "plt.rc('axes', labelsize=8)\n",
    "\n",
    "# Dimensions for column plots\n",
    "width = 3.487\n",
    "height = width / 1.618"
   ]
  },
  {
   "cell_type": "markdown",
   "id": "5bd69a47",
   "metadata": {},
   "source": [
    "# The Impact of Choice of Compression Parameter $K$"
   ]
  },
  {
   "cell_type": "markdown",
   "id": "2b142a0b",
   "metadata": {},
   "source": [
    "## Generate Data\n",
    "\n",
    "Uncomment to generate data"
   ]
  },
  {
   "cell_type": "code",
   "execution_count": 25,
   "id": "b09a38f2",
   "metadata": {
    "scrolled": true
   },
   "outputs": [],
   "source": [
    "# ! fmm generate-test-data -c K_1 && fmm compute-operators -c K_1\n",
    "# ! fmm generate-test-data -c K_5 && fmm compute-operators -c K_5\n",
    "# ! fmm generate-test-data -c K_10 && fmm compute-operators -c K_10\n",
    "# ! fmm generate-test-data -c K_15 && fmm compute-operators -c K_15\n",
    "# ! fmm generate-test-data -c K_20 && fmm compute-operators -c K_20\n",
    "# ! fmm generate-test-data -c K_25 && fmm compute-operators -c K_25\n",
    "# ! fmm generate-test-data -c K_30 && fmm compute-operators -c K_30\n",
    "# ! fmm generate-test-data -c K_35 && fmm compute-operators -c K_35\n",
    "# ! fmm generate-test-data -c K_40 && fmm compute-operators -c K_40\n",
    "# ! fmm generate-test-data -c K_45 && fmm compute-operators -c K_45\n",
    "# ! fmm generate-test-data -c K_50 && fmm compute-operators -c K_50"
   ]
  },
  {
   "cell_type": "markdown",
   "id": "8da3762d",
   "metadata": {},
   "source": [
    "## Load Data"
   ]
  },
  {
   "cell_type": "code",
   "execution_count": 26,
   "id": "10c2ab28",
   "metadata": {},
   "outputs": [],
   "source": [
    "# Compression parameters tested\n",
    "Kvec = [1, 5, 10, 15, 20, 25, 30, 35, 40, 45, 50]\n",
    "\n",
    "# Load experiments\n",
    "evec = [Fmm(f'K_{K}') for K in Kvec]"
   ]
  },
  {
   "cell_type": "markdown",
   "id": "8ecf635f",
   "metadata": {},
   "source": [
    "## Accuracy\n",
    "\n",
    "How does compression parameter effect accuracy?"
   ]
  },
  {
   "cell_type": "code",
   "execution_count": 27,
   "id": "c0180cf1",
   "metadata": {},
   "outputs": [],
   "source": [
    "# Results of direct computation for each experiment\n",
    "d = laplace_p2p_serial(evec[0].sources, evec[0].targets, evec[0].source_densities)"
   ]
  },
  {
   "cell_type": "code",
   "execution_count": 28,
   "id": "76745d00",
   "metadata": {},
   "outputs": [],
   "source": [
    "# Evaluate FMM for each experiment\n",
    "for e in evec:\n",
    "    e.run()"
   ]
  },
  {
   "cell_type": "code",
   "execution_count": 29,
   "id": "8e21532c",
   "metadata": {},
   "outputs": [],
   "source": [
    "relerrvec = [abs(d-e.target_potentials)/d for e in evec]"
   ]
  },
  {
   "cell_type": "code",
   "execution_count": 30,
   "id": "b0280250",
   "metadata": {},
   "outputs": [],
   "source": [
    "relerrmean = [np.mean(err) for err in relerrvec]\n",
    "relerrstd = [np.std(err) for err in relerrvec]"
   ]
  },
  {
   "cell_type": "code",
   "execution_count": 31,
   "id": "51674088",
   "metadata": {},
   "outputs": [],
   "source": [
    "fig, ax = plt.subplots()\n",
    "fig.subplots_adjust(left=.15, bottom=.16, right=.99, top=.97)\n",
    "\n",
    "ax.semilogy(Kvec, relerrmean, '--o', ms=3, lw=0.4, c='0.25')\n",
    "ax.set_ylabel('Mean Relative Error ($\\epsilon_{\\ rel}$)')\n",
    "ax.set_xlabel('Compression Rank ($K$)')\n",
    "ax.set_xticks(Kvec)\n",
    "\n",
    "fig.set_size_inches(width, height)\n",
    "plt.show()"
   ]
  },
  {
   "cell_type": "markdown",
   "id": "0d6f98b9",
   "metadata": {},
   "source": [
    "## Runtimes\n",
    "\n",
    "How does compression parameter effect runtime?"
   ]
  },
  {
   "cell_type": "code",
   "execution_count": null,
   "id": "0474db9f",
   "metadata": {},
   "outputs": [],
   "source": []
  }
 ],
 "metadata": {
  "kernelspec": {
   "display_name": "Python 3",
   "language": "python",
   "name": "python3"
  },
  "language_info": {
   "codemirror_mode": {
    "name": "ipython",
    "version": 3
   },
   "file_extension": ".py",
   "mimetype": "text/x-python",
   "name": "python",
   "nbconvert_exporter": "python",
   "pygments_lexer": "ipython3",
   "version": "3.8.10"
  }
 },
 "nbformat": 4,
 "nbformat_minor": 5
}
