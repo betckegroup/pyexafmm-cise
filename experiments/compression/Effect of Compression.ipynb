{
 "cells": [
  {
   "cell_type": "code",
   "execution_count": 1,
   "id": "1563c670",
   "metadata": {},
   "outputs": [],
   "source": [
    "%matplotlib qt\n",
    "import os\n",
    "import pathlib\n",
    "from time import time\n",
    "\n",
    "import matplotlib.pyplot as plt\n",
    "from memory_profiler import memory_usage\n",
    "\n",
    "from fmm import Fmm\n",
    "from fmm.kernel import laplace_p2p_serial\n",
    "\n",
    "# Plotting parameters\n",
    "plt.rc('font', family='serif', serif='Times')\n",
    "plt.rc('text', usetex=True)\n",
    "plt.rc('xtick', labelsize=8)\n",
    "plt.rc('ytick', labelsize=8)\n",
    "plt.rc('axes', labelsize=8)\n",
    "\n",
    "# Dimensions for column plots\n",
    "width = 3.487\n",
    "height = width / 1.618\n",
    "\n",
    "HERE = pathlib.Path(os.getcwd())\n",
    "FIGURE_SAVEPATH = os.path.abspath(HERE.parent.parent / 'article/figures')"
   ]
  },
  {
   "cell_type": "markdown",
   "id": "ff3cab90",
   "metadata": {},
   "source": [
    "# The Impact of Choice of Compression Parameter $K$"
   ]
  },
  {
   "cell_type": "markdown",
   "id": "18339297",
   "metadata": {},
   "source": [
    "## Generate Data\n",
    "\n",
    "Uncomment to generate data"
   ]
  },
  {
   "cell_type": "code",
   "execution_count": 2,
   "id": "0c2d50bb",
   "metadata": {
    "scrolled": true
   },
   "outputs": [],
   "source": [
    "# ! fmm generate-test-data -c K_10 && fmm compute-operators -c K_10\n",
    "# ! fmm generate-test-data -c K_20 && fmm compute-operators -c K_20\n",
    "# ! fmm generate-test-data -c K_30 && fmm compute-operators -c K_30\n",
    "# ! fmm generate-test-data -c K_40 && fmm compute-operators -c K_40\n",
    "# ! rm K_50.hdf5 && fmm generate-test-data -c K_50 && fmm compute-operators -c K_50"
   ]
  },
  {
   "cell_type": "markdown",
   "id": "56d1532e",
   "metadata": {},
   "source": [
    "# Memory\n",
    "\n",
    "Test peak memory usage as a function of compression parameters"
   ]
  },
  {
   "cell_type": "code",
   "execution_count": 4,
   "id": "9f002b23",
   "metadata": {},
   "outputs": [],
   "source": [
    "# Compression parameters tested\n",
    "Kvec = [10, 20, 30, 40, 50]\n",
    "\n",
    "# Load experiments\n",
    "evec = [Fmm(f'K_{K}') for K in Kvec]"
   ]
  },
  {
   "cell_type": "code",
   "execution_count": 5,
   "id": "ac2508c9",
   "metadata": {},
   "outputs": [],
   "source": [
    "evec[0].run()"
   ]
  },
  {
   "cell_type": "code",
   "execution_count": 7,
   "id": "2d43e9c7",
   "metadata": {},
   "outputs": [],
   "source": [
    "memvec = []\n",
    "\n",
    "for e in evec:\n",
    "    memvec.append(max(memory_usage(e.run)))\n",
    "\n",
    "memvec = np.array(memvec)"
   ]
  },
  {
   "cell_type": "code",
   "execution_count": 8,
   "id": "e2e79840",
   "metadata": {},
   "outputs": [
    {
     "data": {
      "text/plain": [
       "array([662.87109375, 667.69921875, 671.921875  , 676.03515625,\n",
       "       685.1796875 ])"
      ]
     },
     "execution_count": 8,
     "metadata": {},
     "output_type": "execute_result"
    }
   ],
   "source": [
    "memvec"
   ]
  },
  {
   "cell_type": "markdown",
   "id": "220d44b9",
   "metadata": {},
   "source": [
    "## Accuracy\n",
    "\n",
    "How does compression parameter effect accuracy? We expect $p$ digits of accuracy from theory, where $p$ is the order of the multipole/local expansions"
   ]
  },
  {
   "cell_type": "code",
   "execution_count": 3,
   "id": "7ee64672",
   "metadata": {
    "collapsed": true
   },
   "outputs": [
    {
     "ename": "KeyboardInterrupt",
     "evalue": "",
     "output_type": "error",
     "traceback": [
      "\u001b[0;31m---------------------------------------------------------------------------\u001b[0m",
      "\u001b[0;31mKeyboardInterrupt\u001b[0m                         Traceback (most recent call last)",
      "\u001b[0;32m<ipython-input-3-42d57d6f0697>\u001b[0m in \u001b[0;36m<module>\u001b[0;34m\u001b[0m\n\u001b[1;32m     11\u001b[0m     \u001b[0;32mfor\u001b[0m \u001b[0me\u001b[0m \u001b[0;32min\u001b[0m \u001b[0mevec\u001b[0m\u001b[0;34m:\u001b[0m\u001b[0;34m\u001b[0m\u001b[0;34m\u001b[0m\u001b[0m\n\u001b[1;32m     12\u001b[0m         \u001b[0mstart\u001b[0m \u001b[0;34m=\u001b[0m \u001b[0mtime\u001b[0m\u001b[0;34m(\u001b[0m\u001b[0;34m)\u001b[0m\u001b[0;34m\u001b[0m\u001b[0;34m\u001b[0m\u001b[0m\n\u001b[0;32m---> 13\u001b[0;31m         \u001b[0me\u001b[0m\u001b[0;34m.\u001b[0m\u001b[0mrun\u001b[0m\u001b[0;34m(\u001b[0m\u001b[0;34m)\u001b[0m\u001b[0;34m\u001b[0m\u001b[0;34m\u001b[0m\u001b[0m\n\u001b[0m\u001b[1;32m     14\u001b[0m         \u001b[0mtvec\u001b[0m\u001b[0;34m[\u001b[0m\u001b[0mi\u001b[0m\u001b[0;34m]\u001b[0m\u001b[0;34m.\u001b[0m\u001b[0mappend\u001b[0m\u001b[0;34m(\u001b[0m\u001b[0mtime\u001b[0m\u001b[0;34m(\u001b[0m\u001b[0;34m)\u001b[0m\u001b[0;34m-\u001b[0m\u001b[0mstart\u001b[0m\u001b[0;34m)\u001b[0m\u001b[0;34m\u001b[0m\u001b[0;34m\u001b[0m\u001b[0m\n",
      "\u001b[0;32m~/Github/pyexafmm/fmm/fmm.py\u001b[0m in \u001b[0;36mrun\u001b[0;34m(self)\u001b[0m\n\u001b[1;32m    351\u001b[0m         \u001b[0;34m\"\"\"Run full algorithm\"\"\"\u001b[0m\u001b[0;34m\u001b[0m\u001b[0;34m\u001b[0m\u001b[0m\n\u001b[1;32m    352\u001b[0m         \u001b[0mself\u001b[0m\u001b[0;34m.\u001b[0m\u001b[0mupward_pass\u001b[0m\u001b[0;34m(\u001b[0m\u001b[0;34m)\u001b[0m\u001b[0;34m\u001b[0m\u001b[0;34m\u001b[0m\u001b[0m\n\u001b[0;32m--> 353\u001b[0;31m         \u001b[0mself\u001b[0m\u001b[0;34m.\u001b[0m\u001b[0mdownward_pass\u001b[0m\u001b[0;34m(\u001b[0m\u001b[0;34m)\u001b[0m\u001b[0;34m\u001b[0m\u001b[0;34m\u001b[0m\u001b[0m\n\u001b[0m",
      "\u001b[0;32m~/Github/pyexafmm/fmm/fmm.py\u001b[0m in \u001b[0;36mdownward_pass\u001b[0;34m(self)\u001b[0m\n\u001b[1;32m    206\u001b[0m                 \u001b[0mhash_to_index\u001b[0m\u001b[0;34m[\u001b[0m\u001b[0mhash\u001b[0m\u001b[0;34m]\u001b[0m \u001b[0;34m=\u001b[0m \u001b[0mi\u001b[0m\u001b[0;34m\u001b[0m\u001b[0;34m\u001b[0m\u001b[0m\n\u001b[1;32m    207\u001b[0m \u001b[0;34m\u001b[0m\u001b[0m\n\u001b[0;32m--> 208\u001b[0;31m             self.backend['m2l'](\n\u001b[0m\u001b[1;32m    209\u001b[0m                     \u001b[0mtargets\u001b[0m\u001b[0;34m=\u001b[0m\u001b[0mkeys\u001b[0m\u001b[0;34m,\u001b[0m\u001b[0;34m\u001b[0m\u001b[0;34m\u001b[0m\u001b[0m\n\u001b[1;32m    210\u001b[0m                     \u001b[0mv_lists\u001b[0m\u001b[0;34m=\u001b[0m\u001b[0mself\u001b[0m\u001b[0;34m.\u001b[0m\u001b[0mv_lists\u001b[0m\u001b[0;34m,\u001b[0m\u001b[0;34m\u001b[0m\u001b[0;34m\u001b[0m\u001b[0m\n",
      "\u001b[0;31mKeyboardInterrupt\u001b[0m: "
     ]
    }
   ],
   "source": [
    "# Compression parameters tested\n",
    "Kvec = [10, 20, 30, 40, 50]\n",
    "\n",
    "nruns = 7\n",
    "# Container for timings\n",
    "tvec = [[] for _ in range(nruns)]\n",
    "\n",
    "# Evaluate FMM for each experiment\n",
    "for i in range(nruns):\n",
    "    evec = [Fmm(f'K_{K}') for K in Kvec]\n",
    "    for e in evec:\n",
    "        start = time()\n",
    "        e.run()\n",
    "        tvec[i].append(time()-start)"
   ]
  },
  {
   "cell_type": "code",
   "execution_count": 33,
   "id": "0a6f7522",
   "metadata": {},
   "outputs": [],
   "source": [
    "tvec = np.array(tvec)"
   ]
  },
  {
   "cell_type": "code",
   "execution_count": 36,
   "id": "fdc31827",
   "metadata": {},
   "outputs": [
    {
     "data": {
      "text/plain": [
       "array([ 6.88867296,  6.89062313,  6.92779234,  6.9516683 , 15.43500471])"
      ]
     },
     "execution_count": 36,
     "metadata": {},
     "output_type": "execute_result"
    }
   ],
   "source": [
    "tvec.mean(axis=0)"
   ]
  },
  {
   "cell_type": "code",
   "execution_count": 37,
   "id": "90520f7c",
   "metadata": {},
   "outputs": [
    {
     "data": {
      "text/plain": [
       "array([0.1148165 , 0.0887785 , 0.10632887, 0.07703105, 0.54625184])"
      ]
     },
     "execution_count": 37,
     "metadata": {},
     "output_type": "execute_result"
    }
   ],
   "source": [
    "tvec.std(axis=0)"
   ]
  },
  {
   "cell_type": "code",
   "execution_count": 23,
   "id": "4ce87816",
   "metadata": {},
   "outputs": [],
   "source": [
    "# Results of direct computation for each experiment\n",
    "d = laplace_p2p_serial(evec[0].sources, evec[0].targets, evec[0].source_densities)"
   ]
  },
  {
   "cell_type": "code",
   "execution_count": 24,
   "id": "259d9a27",
   "metadata": {},
   "outputs": [],
   "source": [
    "relerrvec = [abs(d-e.target_potentials[:,0])/d for e in evec]"
   ]
  },
  {
   "cell_type": "code",
   "execution_count": 25,
   "id": "2362d423",
   "metadata": {},
   "outputs": [],
   "source": [
    "relerrmean = [np.mean(err) for err in relerrvec]"
   ]
  },
  {
   "cell_type": "code",
   "execution_count": 26,
   "id": "9a5d3a4f",
   "metadata": {},
   "outputs": [
    {
     "data": {
      "text/plain": [
       "[0.00015179637, 2.2398553e-05, 1.152469e-05, 3.6725994e-06, 2.4273586e-06]"
      ]
     },
     "execution_count": 26,
     "metadata": {},
     "output_type": "execute_result"
    }
   ],
   "source": [
    "relerrmean"
   ]
  },
  {
   "cell_type": "code",
   "execution_count": 27,
   "id": "acc95f29",
   "metadata": {},
   "outputs": [],
   "source": [
    "fig, ax = plt.subplots()\n",
    "fig.subplots_adjust(left=.15, bottom=.16, right=.99, top=.97)\n",
    "\n",
    "ax.semilogy(Kvec, relerrmean, '--o', ms=3, lw=0.4, c='0.25')\n",
    "ax.set_ylabel('Mean Relative Error ($\\epsilon_{\\ rel}$)')\n",
    "ax.set_xlabel('Compression Rank ($K$)')\n",
    "ax.set_xticks(Kvec)\n",
    "\n",
    "fig.set_size_inches(width, height)\n",
    "fp = FIGURE_SAVEPATH  + '/compression_accuracy.pdf'\n",
    "plt.savefig(fp)\n",
    "plt.show()"
   ]
  },
  {
   "cell_type": "code",
   "execution_count": null,
   "id": "95f4f6de",
   "metadata": {},
   "outputs": [],
   "source": []
  },
  {
   "cell_type": "markdown",
   "id": "10bff1ed",
   "metadata": {},
   "source": [
    "## Runtimes\n",
    "\n",
    "How does compression parameter effect runtime?"
   ]
  },
  {
   "cell_type": "code",
   "execution_count": 28,
   "id": "54e5a745",
   "metadata": {},
   "outputs": [],
   "source": [
    "fig, ax = plt.subplots()\n",
    "fig.subplots_adjust(left=.15, bottom=.16, right=.99, top=.97)\n",
    "\n",
    "ax.plot(Kvec, tvec, '--o', ms=3, lw=0.4, c='0.25')\n",
    "ax.set_ylabel('FMM Runtime ($s$)')\n",
    "ax.set_xlabel('Compression Rank ($K$)')\n",
    "ax.set_xticks(Kvec)\n",
    "\n",
    "fig.set_size_inches(width, height)\n",
    "fp = FIGURE_SAVEPATH  + '/compression_runtime.pdf'\n",
    "plt.savefig(fp)\n",
    "plt.show()"
   ]
  },
  {
   "cell_type": "code",
   "execution_count": null,
   "id": "d71005ce",
   "metadata": {},
   "outputs": [],
   "source": []
  },
  {
   "cell_type": "code",
   "execution_count": null,
   "id": "53218331",
   "metadata": {},
   "outputs": [],
   "source": []
  }
 ],
 "metadata": {
  "kernelspec": {
   "display_name": "Python 3",
   "language": "python",
   "name": "python3"
  },
  "language_info": {
   "codemirror_mode": {
    "name": "ipython",
    "version": 3
   },
   "file_extension": ".py",
   "mimetype": "text/x-python",
   "name": "python",
   "nbconvert_exporter": "python",
   "pygments_lexer": "ipython3",
   "version": "3.8.10"
  }
 },
 "nbformat": 4,
 "nbformat_minor": 5
}
