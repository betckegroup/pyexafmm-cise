{
 "cells": [
  {
   "cell_type": "code",
   "execution_count": 3,
   "id": "18f245a7",
   "metadata": {},
   "outputs": [],
   "source": [
    "import numpy as np\n",
    "\n",
    "# ExaFMM-T\n",
    "import exafmm.laplace as laplace\n",
    "\n",
    "# PyExaFMM\n",
    "from fmm import Fmm\n",
    "from fmm.kernel import laplace_p2p_serial, laplace_gradient\n",
    "from fmm.surface import scale_surface\n",
    "\n",
    "# Adaptoctree\n",
    "import adaptoctree.morton as morton\n",
    "import adaptoctree.tree as tree"
   ]
  },
  {
   "cell_type": "code",
   "execution_count": 10,
   "id": "8bafafea",
   "metadata": {},
   "outputs": [],
   "source": [
    "# ! rm test.hdf5 && fmm generate-test-data -c test && fmm compute-operators -c test"
   ]
  },
  {
   "cell_type": "code",
   "execution_count": 11,
   "id": "ccde9601",
   "metadata": {},
   "outputs": [],
   "source": [
    "# ! rm test_sphere.hdf5 && fmm generate-test-data -c test_sphere && fmm compute-operators -c test_sphere"
   ]
  },
  {
   "cell_type": "code",
   "execution_count": 9,
   "id": "743b7e75",
   "metadata": {},
   "outputs": [
    {
     "data": {
      "text/plain": [
       "array([[ 15.34029  ,   2.0270848,  71.88409  ],\n",
       "       [ 52.69213  ,  58.177074 ,  38.692673 ],\n",
       "       [ 86.45617  ,  23.862509 ,  68.68593  ],\n",
       "       ...,\n",
       "       [-31.813215 , -64.628845 , -57.76195  ],\n",
       "       [-49.487106 , -21.039127 , -26.436289 ],\n",
       "       [-49.536842 ,   4.2401443,  -0.6216814]], dtype=float32)"
      ]
     },
     "execution_count": 9,
     "metadata": {},
     "output_type": "execute_result"
    }
   ],
   "source": [
    "# Compile test experiment to cache numba functions\n",
    "e = Fmm('test')\n",
    "e.run()\n",
    "laplace_p2p_serial(e.sources, e.targets, e.source_densities)\n",
    "laplace_gradient(e.sources, e.targets, e.source_densities)"
   ]
  },
  {
   "cell_type": "code",
   "execution_count": 12,
   "id": "0348c49b",
   "metadata": {},
   "outputs": [],
   "source": [
    "e = Fmm('test_sphere')"
   ]
  },
  {
   "cell_type": "code",
   "execution_count": 13,
   "id": "bdb671ea",
   "metadata": {},
   "outputs": [
    {
     "data": {
      "text/plain": [
       "17017"
      ]
     },
     "execution_count": 13,
     "metadata": {},
     "output_type": "execute_result"
    }
   ],
   "source": [
    "e.nleaves"
   ]
  },
  {
   "cell_type": "code",
   "execution_count": 14,
   "id": "9b8ec78b",
   "metadata": {},
   "outputs": [],
   "source": [
    "# direct = laplace_p2p_serial(\n",
    "#     e.sources,\n",
    "#     e.targets,\n",
    "#     e.source_densities\n",
    "# )"
   ]
  },
  {
   "cell_type": "code",
   "execution_count": 19,
   "id": "5982dc3f",
   "metadata": {
    "collapsed": true
   },
   "outputs": [
    {
     "name": "stdout",
     "output_type": "stream",
     "text": [
      "Generating sphere sources & targets\n",
      "Computing operators\n",
      "Computing octree\n",
      "Computing Inner Surface of Order 4\n",
      "Computing Outer Surface of Order 4\n",
      "Computing Inverse of Check To Equivalent Gram Matrix\n",
      "Computing M2M & L2L Operators\n",
      "Computed (1/8) M2M/L2L operators\n",
      "Computed (2/8) M2M/L2L operators\n",
      "Computed (3/8) M2M/L2L operators\n",
      "Computed (4/8) M2M/L2L operators\n",
      "Computed (5/8) M2M/L2L operators\n",
      "Computed (6/8) M2M/L2L operators\n",
      "Computed (7/8) M2M/L2L operators\n",
      "Computed (8/8) M2M/L2L operators\n",
      "Computed operators for (1/5) M2L Levels\n",
      "Computed operators for (2/5) M2L Levels\n",
      "Computed operators for (3/5) M2L Levels\n",
      "Computed operators for (4/5) M2L Levels\n",
      "Computed operators for (5/5) M2L Levels\n",
      "Total time elapsed 0 minutes and 8 seconds\n",
      "\u001b[0mGenerating sphere sources & targets\n",
      "Computing operators\n",
      "Computing octree\n",
      "Computing Inner Surface of Order 5\n",
      "Computing Outer Surface of Order 5\n",
      "Computing Inverse of Check To Equivalent Gram Matrix\n",
      "Computing M2M & L2L Operators\n",
      "Computed (1/8) M2M/L2L operators\n",
      "Computed (2/8) M2M/L2L operators\n",
      "Computed (3/8) M2M/L2L operators\n",
      "Computed (4/8) M2M/L2L operators\n",
      "Computed (5/8) M2M/L2L operators\n",
      "Computed (6/8) M2M/L2L operators\n",
      "Computed (7/8) M2M/L2L operators\n",
      "Computed (8/8) M2M/L2L operators\n",
      "Computed operators for (1/5) M2L Levels\n",
      "Computed operators for (2/5) M2L Levels\n",
      "Computed operators for (3/5) M2L Levels\n",
      "Computed operators for (4/5) M2L Levels\n",
      "Computed operators for (5/5) M2L Levels\n",
      "Total time elapsed 0 minutes and 9 seconds\n",
      "\u001b[0mGenerating sphere sources & targets\n",
      "Computing operators\n",
      "Computing octree\n",
      "Computing Inner Surface of Order 6\n",
      "Computing Outer Surface of Order 6\n",
      "Computing Inverse of Check To Equivalent Gram Matrix\n",
      "Computing M2M & L2L Operators\n",
      "Computed (1/8) M2M/L2L operators\n",
      "Computed (2/8) M2M/L2L operators\n",
      "Computed (3/8) M2M/L2L operators\n",
      "Computed (4/8) M2M/L2L operators\n",
      "Computed (5/8) M2M/L2L operators\n",
      "Computed (6/8) M2M/L2L operators\n",
      "Computed (7/8) M2M/L2L operators\n",
      "Computed (8/8) M2M/L2L operators\n",
      "Computed operators for (1/5) M2L Levels\n",
      "Computed operators for (2/5) M2L Levels\n",
      "Computed operators for (3/5) M2L Levels\n",
      "Computed operators for (4/5) M2L Levels\n",
      "Computed operators for (5/5) M2L Levels\n",
      "Total time elapsed 0 minutes and 11 seconds\n",
      "\u001b[0mGenerating sphere sources & targets\n",
      "Computing operators\n",
      "Computing octree\n",
      "Computing Inner Surface of Order 7\n",
      "Computing Outer Surface of Order 7\n",
      "Computing Inverse of Check To Equivalent Gram Matrix\n",
      "Computing M2M & L2L Operators\n",
      "Computed (1/8) M2M/L2L operators\n",
      "Computed (2/8) M2M/L2L operators\n",
      "Computed (3/8) M2M/L2L operators\n",
      "Computed (4/8) M2M/L2L operators\n",
      "Computed (5/8) M2M/L2L operators\n",
      "Computed (6/8) M2M/L2L operators\n",
      "Computed (7/8) M2M/L2L operators\n",
      "Computed (8/8) M2M/L2L operators\n",
      "Computed operators for (1/5) M2L Levels\n",
      "Computed operators for (2/5) M2L Levels\n",
      "Computed operators for (3/5) M2L Levels\n",
      "Computed operators for (4/5) M2L Levels\n",
      "Computed operators for (5/5) M2L Levels\n",
      "Total time elapsed 0 minutes and 12 seconds\n",
      "\u001b[0m"
     ]
    }
   ],
   "source": [
    "! fmm generate-test-data -c C4E4 && fmm compute-operators -c C4E4\n",
    "! fmm generate-test-data -c C5E5 && fmm compute-operators -c C5E5\n",
    "! fmm generate-test-data -c C6E6 && fmm compute-operators -c C6E6\n",
    "! fmm generate-test-data -c C7E7 && fmm compute-operators -c C7E7"
   ]
  },
  {
   "cell_type": "code",
   "execution_count": 20,
   "id": "b1d921a8",
   "metadata": {},
   "outputs": [],
   "source": [
    "# Discretisation order of check surface\n",
    "Cvec = [4, 5, 6, 7]\n",
    "\n",
    "# Discretisation order of equivalent surface\n",
    "Evec = [4, 5, 6, 7]\n",
    "\n",
    "# Load experimental data into PyExaFMM\n",
    "pyfmmvec = [Fmm(f'C{C}E{C}') for C in Cvec]"
   ]
  },
  {
   "cell_type": "code",
   "execution_count": 21,
   "id": "c06a8fe4",
   "metadata": {},
   "outputs": [],
   "source": [
    "# Load experimental data into ExaFMM-T\n",
    "exafmmvec = []\n",
    "exafmmtreevec = []\n",
    "\n",
    "for e in pyfmmvec:\n",
    "    # create a list of source instances\n",
    "    sources = laplace.init_sources(e.sources, e.source_densities)\n",
    "\n",
    "    # create a list of target instances\n",
    "    targets = laplace.init_targets(e.targets)\n",
    "    \n",
    "    # Expansion order\n",
    "    p = e.config['order_equivalent']\n",
    "    fmm = laplace.LaplaceFmm(p=p, ncrit=e.config['max_points'], filename=f'C{p}E{p}.dat')\n",
    "    exafmmvec.append(fmm)\n",
    "  \n",
    "    tree = laplace.setup(sources, targets, fmm)\n",
    "    exafmmtreevec.append(tree)"
   ]
  },
  {
   "cell_type": "code",
   "execution_count": 22,
   "id": "5184b7c4",
   "metadata": {},
   "outputs": [],
   "source": [
    "# Evaluate PyExaFMM experiments\n",
    "for e in pyfmmvec:\n",
    "    e.run()\n",
    "\n",
    "# Evaluate ExaFMM-T experiments\n",
    "trg_values = []\n",
    "for tree, fmm in list(zip(exafmmtreevec, exafmmvec)):\n",
    "    trg_values.append(laplace.evaluate(tree, fmm))"
   ]
  },
  {
   "cell_type": "code",
   "execution_count": 23,
   "id": "3fd37c04",
   "metadata": {},
   "outputs": [],
   "source": [
    "pyerrvec = []\n",
    "exerrvec = []\n",
    "\n",
    "for i in range(len(pyfmmvec)):\n",
    "    pyerrvec.append(np.mean(abs(pyfmmvec[i].target_potentials[:,0]-direct)/direct))\n",
    "    exerrvec.append(np.mean(abs(trg_values[i][:,0]-direct)/direct))"
   ]
  },
  {
   "cell_type": "code",
   "execution_count": 24,
   "id": "b8606bf7",
   "metadata": {},
   "outputs": [
    {
     "data": {
      "text/plain": [
       "[0.00010006761, 4.547916e-06, 2.413275e-06, 1.9974611e-06]"
      ]
     },
     "execution_count": 24,
     "metadata": {},
     "output_type": "execute_result"
    }
   ],
   "source": [
    "pyerrvec"
   ]
  },
  {
   "cell_type": "code",
   "execution_count": 25,
   "id": "78047ea3",
   "metadata": {},
   "outputs": [
    {
     "data": {
      "text/plain": [
       "[8.747951e-05, 4.1538833e-06, 1.665213e-06, 2.8606285e-06]"
      ]
     },
     "execution_count": 25,
     "metadata": {},
     "output_type": "execute_result"
    }
   ],
   "source": [
    "exerrvec"
   ]
  },
  {
   "cell_type": "code",
   "execution_count": 26,
   "id": "e9ef269a",
   "metadata": {},
   "outputs": [
    {
     "data": {
      "text/plain": [
       "0.0001"
      ]
     },
     "execution_count": 26,
     "metadata": {},
     "output_type": "execute_result"
    }
   ],
   "source": [
    "1e-4"
   ]
  },
  {
   "cell_type": "code",
   "execution_count": null,
   "id": "7b81e9f9",
   "metadata": {},
   "outputs": [],
   "source": []
  }
 ],
 "metadata": {
  "kernelspec": {
   "display_name": "Python 3",
   "language": "python",
   "name": "python3"
  },
  "language_info": {
   "codemirror_mode": {
    "name": "ipython",
    "version": 3
   },
   "file_extension": ".py",
   "mimetype": "text/x-python",
   "name": "python",
   "nbconvert_exporter": "python",
   "pygments_lexer": "ipython3",
   "version": "3.8.10"
  }
 },
 "nbformat": 4,
 "nbformat_minor": 5
}
