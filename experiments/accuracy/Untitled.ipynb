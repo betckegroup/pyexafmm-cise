{
 "cells": [
  {
   "cell_type": "code",
   "execution_count": 1,
   "id": "85e07f68",
   "metadata": {},
   "outputs": [],
   "source": [
    "import time\n",
    "\n",
    "import numpy as np\n",
    "\n",
    "from fmm import Fmm\n",
    "from fmm.kernel import *"
   ]
  },
  {
   "cell_type": "code",
   "execution_count": 2,
   "id": "da7cc356",
   "metadata": {},
   "outputs": [],
   "source": [
    "e = Fmm('test')"
   ]
  },
  {
   "cell_type": "code",
   "execution_count": 3,
   "id": "c442bab1",
   "metadata": {},
   "outputs": [],
   "source": [
    "e.run()"
   ]
  },
  {
   "cell_type": "code",
   "execution_count": 4,
   "id": "fcca8899",
   "metadata": {},
   "outputs": [
    {
     "name": "stdout",
     "output_type": "stream",
     "text": [
      "Compile time 1.4166638851165771\n"
     ]
    }
   ],
   "source": [
    "s = time.time()\n",
    "r1 = laplace_gradient(e.sources, e.targets, e.source_densities)\n",
    "print(f'Compile time {time.time()-s}')"
   ]
  },
  {
   "cell_type": "code",
   "execution_count": 9,
   "id": "9d868e7e",
   "metadata": {},
   "outputs": [
    {
     "name": "stdout",
     "output_type": "stream",
     "text": [
      "Run time 1.4686241149902344\n"
     ]
    }
   ],
   "source": [
    "s = time.time()\n",
    "r2 = laplace_gradient(e.sources, e.targets, e.source_densities)\n",
    "print(f'Run time {time.time()-s}')"
   ]
  },
  {
   "cell_type": "code",
   "execution_count": 10,
   "id": "b56c190b",
   "metadata": {},
   "outputs": [],
   "source": [
    "e = Fmm('test')"
   ]
  },
  {
   "cell_type": "code",
   "execution_count": 11,
   "id": "8a8e7b59",
   "metadata": {},
   "outputs": [
    {
     "name": "stdout",
     "output_type": "stream",
     "text": [
      "Run time 0.37634825706481934\n"
     ]
    }
   ],
   "source": [
    "s = time.time()\n",
    "e.run()\n",
    "print(f'Run time {time.time()-s}')"
   ]
  },
  {
   "cell_type": "code",
   "execution_count": 13,
   "id": "dfb54fcc",
   "metadata": {},
   "outputs": [
    {
     "data": {
      "text/plain": [
       "array([[ 555.02246,  282.95575,  602.39734,  448.9055 ],\n",
       "       [ 507.7668 ,  728.1406 ,  836.08984,  150.34557],\n",
       "       [ 567.05273,  733.8954 ,  423.6351 ,  367.00122],\n",
       "       ...,\n",
       "       [ 515.74805, -463.98212, -511.38147, -427.25092],\n",
       "       [ 535.14954, -305.47162, -636.3563 , -557.47595],\n",
       "       [ 549.2261 , -272.41443, -617.6881 ,  -90.58121]], dtype=float32)"
      ]
     },
     "execution_count": 13,
     "metadata": {},
     "output_type": "execute_result"
    }
   ],
   "source": [
    "e.target_potentials"
   ]
  },
  {
   "cell_type": "code",
   "execution_count": 6,
   "id": "721036d1",
   "metadata": {},
   "outputs": [
    {
     "data": {
      "text/plain": [
       "array([[ 283.3415 ,  602.8579 ,  448.8763 ],\n",
       "       [ 728.319  ,  836.0533 ,  150.27887],\n",
       "       [ 731.808  ,  421.88794,  366.041  ],\n",
       "       ...,\n",
       "       [-464.09085, -511.3172 , -427.3405 ],\n",
       "       [-305.128  , -636.4044 , -557.71857],\n",
       "       [-272.34122, -617.55475,  -90.45561]], dtype=float32)"
      ]
     },
     "execution_count": 6,
     "metadata": {},
     "output_type": "execute_result"
    }
   ],
   "source": [
    "r1"
   ]
  },
  {
   "cell_type": "code",
   "execution_count": 5,
   "id": "6dcc2a30",
   "metadata": {},
   "outputs": [
    {
     "data": {
      "text/plain": [
       "array([[ 283.34146,  602.8579 ,  448.87628],\n",
       "       [ 728.319  ,  836.0532 ,  150.27887],\n",
       "       [ 731.808  ,  421.88797,  366.04095],\n",
       "       ...,\n",
       "       [-464.09082, -511.3172 , -427.3405 ],\n",
       "       [-305.12805, -636.4044 , -557.71857],\n",
       "       [-272.3412 , -617.5548 ,  -90.45561]], dtype=float32)"
      ]
     },
     "execution_count": 5,
     "metadata": {},
     "output_type": "execute_result"
    }
   ],
   "source": [
    "r1"
   ]
  },
  {
   "cell_type": "code",
   "execution_count": 4,
   "id": "7d2255a6",
   "metadata": {},
   "outputs": [
    {
     "ename": "NameError",
     "evalue": "name 'r2' is not defined",
     "output_type": "error",
     "traceback": [
      "\u001b[0;31m---------------------------------------------------------------------------\u001b[0m",
      "\u001b[0;31mNameError\u001b[0m                                 Traceback (most recent call last)",
      "\u001b[0;32m<ipython-input-4-facef69d505b>\u001b[0m in \u001b[0;36m<module>\u001b[0;34m\u001b[0m\n\u001b[0;32m----> 1\u001b[0;31m \u001b[0mr2\u001b[0m\u001b[0;34m\u001b[0m\u001b[0;34m\u001b[0m\u001b[0m\n\u001b[0m",
      "\u001b[0;31mNameError\u001b[0m: name 'r2' is not defined"
     ]
    }
   ],
   "source": [
    "r2"
   ]
  },
  {
   "cell_type": "code",
   "execution_count": null,
   "id": "ed013026",
   "metadata": {},
   "outputs": [],
   "source": []
  }
 ],
 "metadata": {
  "kernelspec": {
   "display_name": "Python 3",
   "language": "python",
   "name": "python3"
  },
  "language_info": {
   "codemirror_mode": {
    "name": "ipython",
    "version": 3
   },
   "file_extension": ".py",
   "mimetype": "text/x-python",
   "name": "python",
   "nbconvert_exporter": "python",
   "pygments_lexer": "ipython3",
   "version": "3.8.10"
  }
 },
 "nbformat": 4,
 "nbformat_minor": 5
}
