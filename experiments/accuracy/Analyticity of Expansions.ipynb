{
 "cells": [
  {
   "cell_type": "code",
   "execution_count": 1,
   "id": "decreased-promotion",
   "metadata": {},
   "outputs": [],
   "source": [
    "%matplotlib qt\n",
    "\n",
    "import os\n",
    "import pathlib\n",
    "\n",
    "import matplotlib.pyplot as plt\n",
    "from mpl_toolkits.mplot3d.art3d import Poly3DCollection\n",
    "\n",
    "import numpy as np\n",
    "\n",
    "# ExaFMM-T\n",
    "import exafmm.laplace as laplace\n",
    "\n",
    "# PyExaFMM\n",
    "from fmm import Fmm\n",
    "from fmm.kernel import laplace_p2p_serial, laplace_gradient\n",
    "from fmm.surface import scale_surface\n",
    "\n",
    "# Adaptoctree\n",
    "import adaptoctree.morton as morton\n",
    "import adaptoctree.tree as tree\n",
    "\n",
    "# Plotting parameters\n",
    "plt.rc('font', family='serif', serif='Times')\n",
    "plt.rc('text', usetex=True)\n",
    "plt.rc('xtick', labelsize=8)\n",
    "plt.rc('ytick', labelsize=8)\n",
    "plt.rc('axes', labelsize=8)\n",
    "\n",
    "# Dimensions for column plots\n",
    "# width = 3.487 # half page plot width\n",
    "width = 4.328 # full page plot width\n",
    "height = width / 1.618 # golden ratio\n",
    "\n",
    "HERE = pathlib.Path(os.getcwd())\n",
    "FIGURE_SAVEPATH = os.path.abspath(HERE.parent.parent / 'article/figures')"
   ]
  },
  {
   "cell_type": "markdown",
   "id": "e977c4a8",
   "metadata": {},
   "source": [
    "## Generate Test Data\n",
    "Uncomment to generate test data"
   ]
  },
  {
   "cell_type": "code",
   "execution_count": 2,
   "id": "91006807",
   "metadata": {
    "scrolled": true
   },
   "outputs": [],
   "source": [
    "# ! rm test.hdf5 && fmm generate-test-data -c test && fmm compute-operators -c test\n",
    "# ! rm C3E3.hdf5 && fmm generate-test-data -c C3E3 && fmm compute-operators -c C3E3\n",
    "# ! rm C4E4.hdf5 && fmm generate-test-data -c C4E4 && fmm compute-operators -c C4E4\n",
    "# ! rm C5E5.hdf5 && fmm generate-test-data -c C5E5 && fmm compute-operators -c C5E5\n",
    "# ! rm C6E6.hdf5 && fmm generate-test-data -c C6E6 && fmm compute-operators -c C6E6\n",
    "# ! rm C7E7.hdf5 && fmm generate-test-data -c C7E7 && fmm compute-operators -c C7E7"
   ]
  },
  {
   "cell_type": "code",
   "execution_count": 9,
   "id": "72d60921",
   "metadata": {},
   "outputs": [
    {
     "data": {
      "text/plain": [
       "array([[ 283.3415 ,  602.8579 ,  448.8763 ],\n",
       "       [ 728.319  ,  836.0533 ,  150.27887],\n",
       "       [ 731.808  ,  421.88794,  366.041  ],\n",
       "       ...,\n",
       "       [-464.09085, -511.3172 , -427.3405 ],\n",
       "       [-305.128  , -636.4044 , -557.71857],\n",
       "       [-272.34122, -617.55475,  -90.45561]], dtype=float32)"
      ]
     },
     "execution_count": 9,
     "metadata": {},
     "output_type": "execute_result"
    }
   ],
   "source": [
    "# Compile test experiment to cache numba functions\n",
    "e = Fmm('test')\n",
    "e.run()\n",
    "laplace_p2p_serial(e.sources, e.targets, e.source_densities)\n",
    "laplace_gradient(e.sources, e.targets, e.source_densities)"
   ]
  },
  {
   "cell_type": "markdown",
   "id": "ac495cdc",
   "metadata": {},
   "source": [
    "## Compare Analyticity of Expansions from PyExaFMM and ExaFMM-T\n",
    "\n",
    "How does discretisation effect the quality of the expansions? We check the analyticity of multipole expansions by computing the approximated potential at points distributed on the surface of a sphere surrounding the equivalent surface, in the far-field. As the radius of this sphere is increased, we can demonstrate the accuracy of the multipole expansion away from the equivalent surface. We repeat a similar experiment for the local expansions."
   ]
  },
  {
   "cell_type": "code",
   "execution_count": 10,
   "id": "3a5aca77",
   "metadata": {},
   "outputs": [],
   "source": [
    "def sphere_data(npoints, r, c):\n",
    "    \"\"\"\n",
    "    Generate npoints randomly distributed on the\n",
    "        surface of a sphere with radius r, and center c\n",
    "    \"\"\"\n",
    "    np.random.seed(0)\n",
    "    \n",
    "    phi = np.random.rand(npoints)*2*np.pi\n",
    "    costheta = (np.random.rand(npoints)-0.5)*2\n",
    "\n",
    "    theta = np.arccos(costheta)\n",
    "\n",
    "    x = r * np.sin(theta) * np.cos(phi)\n",
    "    y = r * np.sin(theta) * np.sin(phi)\n",
    "    z = r * np.cos(theta)\n",
    "\n",
    "    sources = np.vstack((x, y, z))\n",
    "\n",
    "    return sources.T + c"
   ]
  },
  {
   "cell_type": "code",
   "execution_count": 11,
   "id": "be539cdd",
   "metadata": {},
   "outputs": [],
   "source": [
    "# test = sphere_data(1000, 10, np.array([10, 10, 0]))\n",
    "\n",
    "# ax = plt.axes(projection='3d')\n",
    "# ax.scatter3D(test[:, 0], test[:, 1], test[:, 2], c='k', s=1)\n",
    "# plt.show()"
   ]
  },
  {
   "cell_type": "code",
   "execution_count": 12,
   "id": "0cdcd16f",
   "metadata": {},
   "outputs": [],
   "source": [
    "# Discretisation order of check surface\n",
    "Cvec = [2, 3, 4, 5, 6, 7]\n",
    "\n",
    "# Discretisation order of equivalent surface\n",
    "Evec = [2, 3, 4, 5, 6, 7]\n",
    "\n",
    "# Load experimental data into PyExaFMM\n",
    "pyfmmvec = [Fmm(f'C{C}E{C}') for C in Cvec]"
   ]
  },
  {
   "cell_type": "code",
   "execution_count": 13,
   "id": "62e7d623",
   "metadata": {},
   "outputs": [],
   "source": [
    "# Load experimental data into ExaFMM-T\n",
    "exafmmvec = []\n",
    "exafmmtreevec = []\n",
    "\n",
    "for e in pyfmmvec:\n",
    "    # create a list of source instances\n",
    "    sources = laplace.init_sources(e.sources, e.source_densities)\n",
    "\n",
    "    # create a list of target instances\n",
    "    targets = laplace.init_targets(e.targets)\n",
    "    \n",
    "    # Expansion order\n",
    "    p = e.config['order_equivalent']\n",
    "    fmm = laplace.LaplaceFmm(p=p, ncrit=e.config['max_points'], filename=f'C{p}E{p}.dat')\n",
    "    exafmmvec.append(fmm)\n",
    "    \n",
    "    tree = laplace.setup(sources, targets, fmm)\n",
    "    exafmmtreevec.append(tree)"
   ]
  },
  {
   "cell_type": "code",
   "execution_count": 14,
   "id": "f8c7f156",
   "metadata": {},
   "outputs": [],
   "source": [
    "# Evaluate PyExaFMM experiments\n",
    "for e in pyfmmvec:\n",
    "    e.run()"
   ]
  },
  {
   "cell_type": "code",
   "execution_count": 15,
   "id": "e10a9e18",
   "metadata": {},
   "outputs": [],
   "source": [
    "# Evaluate ExaFMM-T experiments\n",
    "ex_target_potentials = []\n",
    "for tree, fmm in list(zip(exafmmtreevec, exafmmvec)):\n",
    "    ex_target_potentials.append(laplace.evaluate(tree, fmm))"
   ]
  },
  {
   "cell_type": "markdown",
   "id": "68eb67d9",
   "metadata": {},
   "source": [
    "### Check convergence of multipole expansion of root node"
   ]
  },
  {
   "cell_type": "code",
   "execution_count": 16,
   "id": "3bc3ef4c",
   "metadata": {},
   "outputs": [],
   "source": [
    "# Create surfaces\n",
    "equivalent_surfaces = [\n",
    "    e.equivalent_surface for e in pyfmmvec\n",
    "]\n",
    "\n",
    "upward_equivalent_surfaces = [scale_surface(\n",
    "    surf=equivalent_surfaces[i], radius=pyfmmvec[i].r0, \n",
    "    level=0, center=pyfmmvec[i].x0, alpha=pyfmmvec[i].alpha_outer\n",
    ") for i in range(len(pyfmmvec))]\n",
    "\n",
    "# Extract multipole expansion at root node\n",
    "pyfmm_multipole_expansions = [\n",
    "    e.multipole_expansions[e.key_to_index[0]:e.key_to_index[0]+e.nequivalent_points]\n",
    "    for e in pyfmmvec\n",
    "]\n",
    "\n",
    "exafmm_multipole_expansions = [\n",
    "    np.array(tree.nodes[0].up_equiv) for tree in exafmmtreevec\n",
    "]"
   ]
  },
  {
   "cell_type": "code",
   "execution_count": 17,
   "id": "4a6484bf",
   "metadata": {},
   "outputs": [],
   "source": [
    "# Create spheres centered on the root node with radii such that\n",
    "# the root node's multipole expansion is valid\n",
    "npoints = 1000\n",
    "r0 = pyfmmvec[0].r0\n",
    "x0 = pyfmmvec[0].x0\n",
    "\n",
    "# Start of far-field\n",
    "r = r0*3\n",
    "c = x0\n",
    "rvec = np.linspace(r, 10*r, 10)\n",
    "spherevec = [sphere_data(npoints, r, c) for r in rvec]\n",
    "\n",
    "\n",
    "# Store results for each experiment\n",
    "pyfmm_results = [[] for i in range(len(pyfmmvec))]\n",
    "exafmm_results = [[] for i in range(len(pyfmmvec))]\n",
    "direct_results = [[] for i in range(len(pyfmmvec))]\n",
    "\n",
    "\n",
    "# Compare expansion results with direct computation at spheres of increasing radius\n",
    "# surrounding the upward equivalent surface of the root node.\n",
    "for e_idx in range(len(pyfmmvec)):\n",
    "    for i, sphere in enumerate(spherevec):\n",
    "\n",
    "        pyfmm_results[e_idx].append(\n",
    "            laplace_p2p_serial(\n",
    "                sources=upward_equivalent_surfaces[e_idx],\n",
    "                targets=sphere,\n",
    "                source_densities=pyfmm_multipole_expansions[e_idx]\n",
    "            )\n",
    "        )\n",
    "\n",
    "        exafmm_results[e_idx].append(\n",
    "            laplace_p2p_serial(\n",
    "                sources=upward_equivalent_surfaces[e_idx],\n",
    "                targets=sphere,\n",
    "                source_densities=exafmm_multipole_expansions[e_idx]\n",
    "            )\n",
    "        )\n",
    "\n",
    "        direct_results[e_idx].append(\n",
    "            laplace_p2p_serial(\n",
    "                sources=pyfmmvec[e_idx].sources,\n",
    "                targets=sphere,\n",
    "                source_densities=pyfmmvec[e_idx].source_densities\n",
    "            )\n",
    "        )\n",
    "        \n",
    "pyfmm_results = np.array(pyfmm_results)\n",
    "exafmm_results = np.array(exafmm_results)\n",
    "direct_results = np.array(direct_results)"
   ]
  },
  {
   "cell_type": "code",
   "execution_count": 18,
   "id": "44585e3a",
   "metadata": {},
   "outputs": [],
   "source": [
    "# Compute relative errors of multipole expansions of PyFMM and ExaFMM-T\n",
    "pyfmm_relative_errors = [[] for i in range(len(pyfmmvec))]\n",
    "exafmm_relative_errors = [[] for i in range(len(pyfmmvec))]\n",
    "\n",
    "for e_idx in range(len(pyfmmvec)):\n",
    "    for sph_idx in range(len(spherevec)):\n",
    "        direct = direct_results[e_idx][sph_idx]\n",
    "        pyfmm_estimate = pyfmm_results[e_idx][sph_idx]\n",
    "        exafmm_estimate = exafmm_results[e_idx][sph_idx]\n",
    "        \n",
    "        pyfmm_err = abs(direct-pyfmm_estimate)/direct\n",
    "        exafmm_err = abs(direct-exafmm_estimate)/direct\n",
    "\n",
    "        pyfmm_relative_errors[e_idx].append(np.mean(pyfmm_err))\n",
    "        exafmm_relative_errors[e_idx].append(np.mean(exafmm_err))\n",
    "        \n",
    "pyfmm_relative_errors = np.array(pyfmm_relative_errors)\n",
    "exafmm_relative_errors = np.array(exafmm_relative_errors)"
   ]
  },
  {
   "cell_type": "code",
   "execution_count": 19,
   "id": "781b11e3",
   "metadata": {
    "scrolled": true
   },
   "outputs": [],
   "source": [
    "fig, ax = plt.subplots()\n",
    "fig.subplots_adjust(left=.15, bottom=.16, right=.99, top=.97)\n",
    "\n",
    "lines = ['solid', 'dashed', 'dashdot', 'dotted', 'solid', 'dashed']\n",
    "markers = ['.', 'o', 'v', '+', 'D', 's']\n",
    "\n",
    "for e_idx in range(len(pyfmmvec)):\n",
    "    ax.semilogy(\n",
    "        rvec, \n",
    "        pyfmm_relative_errors[e_idx], \n",
    "        marker=markers[e_idx], \n",
    "        linestyle=lines[e_idx],\n",
    "        linewidth='0.4',\n",
    "        markersize=2\n",
    "    )\n",
    "\n",
    "# Label with number of coefficients rather than expansion order\n",
    "legend_labels = [6*(order-1)**2 + 2 for order in Evec]\n",
    "plt.legend(legend_labels)\n",
    "plt.xlabel('$R_s$')\n",
    "plt.ylabel('Relative Error $\\epsilon_{rel}$')\n",
    "fig.set_size_inches(width, height)\n",
    "fp = FIGURE_SAVEPATH  + '/pyexafmm_multipole_convergence.pdf'\n",
    "plt.savefig(fp)"
   ]
  },
  {
   "cell_type": "code",
   "execution_count": 20,
   "id": "945ac0ee",
   "metadata": {},
   "outputs": [],
   "source": [
    "fig, ax = plt.subplots()\n",
    "fig.subplots_adjust(left=.15, bottom=.16, right=.99, top=.97)\n",
    "\n",
    "lines = ['solid', 'dashed', 'dashdot', 'dotted', 'solid', 'dashed']\n",
    "markers = ['.', 'o', 'v', '+', 'D', 's']\n",
    "\n",
    "for e_idx in range(len(pyfmmvec)):\n",
    "    ax.semilogy(\n",
    "        rvec, \n",
    "        exafmm_relative_errors[e_idx], \n",
    "        marker=markers[e_idx], \n",
    "        linestyle=lines[e_idx],\n",
    "        linewidth='0.4',\n",
    "        markersize=2\n",
    "    )\n",
    "\n",
    "# Label with number of coefficients\n",
    "legend_labels = [ 6*(order-1)**2 + 2 for order in Evec]\n",
    "plt.legend(legend_labels)\n",
    "plt.xlabel('$R_s$')\n",
    "plt.ylabel('Relative Error $\\epsilon_{rel}$')\n",
    "fig.set_size_inches(width, height)\n",
    "fp = FIGURE_SAVEPATH  + '/exafmm_multipole_convergence.pdf'\n",
    "plt.savefig(fp)\n",
    "plt.show()"
   ]
  },
  {
   "cell_type": "markdown",
   "id": "8ff62cd0",
   "metadata": {},
   "source": [
    "### Check convergence of local expansion of a given leaf node"
   ]
  },
  {
   "cell_type": "code",
   "execution_count": 21,
   "id": "3390c8cf",
   "metadata": {},
   "outputs": [],
   "source": [
    "# generate random charges for sources\n",
    "e = Fmm('test')\n",
    "\n",
    "# Displace points to +ve axis for simple conversion to Morton key representation in PyExaFMM\n",
    "points = e.sources + 0.5\n",
    "src_charges = e.source_densities\n",
    "\n",
    "# create a list of source instances\n",
    "sources = laplace.init_sources(points.astype(np.float32), src_charges)\n",
    "\n",
    "# create a list of target instances\n",
    "targets = laplace.init_targets(points)\n",
    "\n",
    "fmm = laplace.LaplaceFmm(p=e.config['order_equivalent'], ncrit=150, filename=\"test_file.dat\")\n",
    "extree = laplace.setup(sources, targets, fmm)\n",
    "depth = np.max([node.level for node in extree.nodes])\n",
    "\n",
    "d = np.array([extree.nodes[0].x[0], extree.nodes[0].x[1], extree.nodes[0].x[2]]) + extree.nodes[0].r\n",
    "\n",
    "exanchors = [\n",
    "    np.round(np.array([(n.x[0]-n.r)/(1/2**n.level), (n.x[1]-n.r)/(1/2**n.level), (n.x[2]-n.r)/(1/2**n.level), n.level])).astype(np.int64)\n",
    "    for n in extree.leafs\n",
    "] \n",
    "\n",
    "exleaves = np.array([morton.encode_anchor(a) for a in exanchors])\n",
    "\n",
    "# exanchors = [\n",
    "#     np.round(np.array([(n.x[0]-n.r)/(1/2**n.level), (n.x[1]-n.r)/(1/2**n.level), (n.x[2]-n.r)/(1/2**n.level), n.level])).astype(np.int64)\n",
    "#     for n in extree.nodes\n",
    "# ]\n",
    "\n",
    "# exnodes =  np.array([morton.encode_anchor(a) for a in exanchors])\n",
    "\n",
    "# exnodes.sort()\n",
    "# exleaves.sort()"
   ]
  },
  {
   "cell_type": "code",
   "execution_count": 22,
   "id": "2d6c0d4c",
   "metadata": {},
   "outputs": [],
   "source": [
    "def find_vertices(anchor, r0, x0):\n",
    "    \n",
    "    level = anchor[-1]\n",
    "    scale = 1./(1 << level)\n",
    "    r = r0*scale\n",
    "    \n",
    "    vertices = np.array([\n",
    "        [0, 0, 0],\n",
    "        [1, 0, 0],\n",
    "        [1, 1, 0],\n",
    "        [0, 1, 0],\n",
    "        [0, 0, 1],\n",
    "        [1, 0, 1],\n",
    "        [1, 1, 1],\n",
    "        [0, 1, 1]\n",
    "    ]) + anchor[:3]\n",
    "    \n",
    "    vertices = vertices*scale + (x0-r0)\n",
    "\n",
    "    return vertices, ([\n",
    "        [vertices[0], vertices[1], vertices[2], vertices[3]],\n",
    "        [vertices[4], vertices[5], vertices[6], vertices[7]], \n",
    "        [vertices[0], vertices[1], vertices[5], vertices[4]], \n",
    "        [vertices[2], vertices[3], vertices[7], vertices[6]], \n",
    "        [vertices[1], vertices[2], vertices[6], vertices[5]],\n",
    "        [vertices[4], vertices[7], vertices[3], vertices[0]]\n",
    "    ])\n",
    "\n",
    "\n",
    "def plot_node(ax, key, r0, x0, c='gray'):\n",
    "    anchor = morton.decode_key(key)\n",
    "    vertices, edges = find_vertices(anchor, r0, x0)\n",
    "    zline = vertices[:, 2]\n",
    "    xline = vertices[:, 0]\n",
    "    yline = vertices[:, 1]\n",
    "    ax.scatter3D(xline, yline, zline, c='gray')\n",
    "    ax.add_collection3d(Poly3DCollection(edges, facecolor=c, edgecolors='black', alpha=0.1))"
   ]
  },
  {
   "cell_type": "code",
   "execution_count": 23,
   "id": "d8713efd",
   "metadata": {},
   "outputs": [],
   "source": [
    "leaf_idx = 34\n",
    "node = extree.leafs[leaf_idx]\n",
    "\n",
    "trg_values = laplace.evaluate(extree, fmm)"
   ]
  },
  {
   "cell_type": "code",
   "execution_count": 24,
   "id": "33cb718e",
   "metadata": {},
   "outputs": [],
   "source": [
    "# e = Fmm('test')\n",
    "e.run()"
   ]
  },
  {
   "cell_type": "code",
   "execution_count": 59,
   "id": "74fe8f97",
   "metadata": {},
   "outputs": [],
   "source": [
    "idx = np.where(e.complete == exleaves[leaf_idx])[0][0]\n",
    "local_expansion = e.local_expansions[\n",
    "    e.key_to_index[exleaves[leaf_idx]]*e.nequivalent_points:\n",
    "    e.key_to_index[exleaves[leaf_idx]]*e.nequivalent_points+e.nequivalent_points\n",
    "]\n",
    "\n",
    "targets = e.targets[\n",
    "    e.target_index_pointer[\n",
    "        e.key_to_leaf_index[exleaves[leaf_idx]]:e.key_to_leaf_index[exleaves[leaf_idx+1]]\n",
    "    ]\n",
    "]"
   ]
  },
  {
   "cell_type": "code",
   "execution_count": 67,
   "id": "bc9b7a1b",
   "metadata": {},
   "outputs": [],
   "source": [
    "# Start of local-field\n",
    "c = morton.find_physical_center_from_key(exleaves[leaf_idx], x0, r0)\n",
    "r = r0 / (1 << morton.find_level(exleaves[leaf_idx]))\n",
    "\n",
    "downward_equivalent_surface = scale_surface(\n",
    "    e.equivalent_surface, \n",
    "    e.r0, \n",
    "    morton.find_level(exleaves[leaf_idx]),\n",
    "    c, \n",
    "    e.alpha_outer\n",
    ")\n",
    "\n",
    "rvec = np.linspace(0.1*r, 0.01*r, 3)\n",
    "spherevec = [sphere_data(npoints, r, c) for r in rvec]\n",
    "\n",
    "\n",
    "# Compare expansion results with direct computation at spheres of decreasing radius\n",
    "# inside the downward equivalent surface of a given leaf node.\n",
    "pyfmm_results = []\n",
    "exafmm_results = []\n",
    "direct_results = []\n",
    "\n",
    "for i, sphere in enumerate(spherevec):\n",
    "\n",
    "    pyfmm_results.append(\n",
    "        laplace_p2p_serial(\n",
    "            sources=downward_equivalent_surface,\n",
    "            targets=targets,\n",
    "            source_densities=local_expansion\n",
    "        )\n",
    "    )\n",
    "    \n",
    "    exafmm_results.append(\n",
    "        laplace_p2p_serial(\n",
    "            sources=downward_equivalent_surface,\n",
    "            targets=targets,\n",
    "            source_densities=np.array(extree.leafs[leaf_idx].dn_equiv, np.float32)\n",
    "        )\n",
    "    )\n",
    "    direct_results.append()\n",
    "\n",
    "pyfmm_results = np.array(pyfmm_results)\n",
    "exafmm_results = np.array(exafmm_results)"
   ]
  },
  {
   "cell_type": "code",
   "execution_count": 69,
   "id": "02c411d8",
   "metadata": {},
   "outputs": [
    {
     "data": {
      "text/plain": [
       "array([[183.68677],\n",
       "       [183.68677],\n",
       "       [183.68677]], dtype=float32)"
      ]
     },
     "execution_count": 69,
     "metadata": {},
     "output_type": "execute_result"
    }
   ],
   "source": [
    "exafmm_results"
   ]
  },
  {
   "cell_type": "code",
   "execution_count": 68,
   "id": "89d00e46",
   "metadata": {},
   "outputs": [
    {
     "data": {
      "text/plain": [
       "array([[162.1432],\n",
       "       [162.1432],\n",
       "       [162.1432]], dtype=float32)"
      ]
     },
     "execution_count": 68,
     "metadata": {},
     "output_type": "execute_result"
    }
   ],
   "source": [
    "pyfmm_results"
   ]
  },
  {
   "cell_type": "markdown",
   "id": "7cadec06",
   "metadata": {},
   "source": [
    "### Convergence of Potentials"
   ]
  },
  {
   "cell_type": "code",
   "execution_count": 70,
   "id": "80b95999",
   "metadata": {},
   "outputs": [],
   "source": [
    "# Calculate potential directly\n",
    "direct_potential = laplace_p2p_serial(\n",
    "    sources=pyfmmvec[0].sources,\n",
    "    targets=pyfmmvec[0].targets, \n",
    "    source_densities=pyfmmvec[0].source_densities\n",
    ")"
   ]
  },
  {
   "cell_type": "code",
   "execution_count": 75,
   "id": "bcd501ed",
   "metadata": {},
   "outputs": [],
   "source": [
    "# Store results for each experiment\n",
    "pyfmm_potential_errors = []\n",
    "exafmm_potential_errors = []\n",
    "\n",
    "\n",
    "# Compare expansion results with direct computation at spheres of increasing radius\n",
    "# surrounding the upward equivalent surface of the root node.\n",
    "for e_idx in range(len(pyfmmvec)):\n",
    "    pyfmm_estimate = pyfmmvec[e_idx].target_potentials\n",
    "    pyfmm_error = np.mean(abs(direct_potential-pyfmm_estimate[:,0])/direct_potential)\n",
    "    pyfmm_potential_errors.append(pyfmm_error)\n",
    "    \n",
    "    exafmm_estimate = ex_target_potentials[e_idx]\n",
    "    exafmm_error = np.mean(abs(direct_potential-exafmm_estimate[:,0])/direct_potential)\n",
    "    exafmm_potential_errors.append(exafmm_error)"
   ]
  },
  {
   "cell_type": "code",
   "execution_count": 78,
   "id": "8dc4dcac",
   "metadata": {},
   "outputs": [],
   "source": [
    "fig, ax = plt.subplots()\n",
    "fig.subplots_adjust(left=.15, bottom=.16, right=.99, top=.97)\n",
    "\n",
    "ax.semilogy(\n",
    "    Evec, \n",
    "    exafmm_potential_errors, \n",
    "    marker='o', \n",
    "    linestyle='--',\n",
    "    linewidth='0.4',\n",
    "    markersize=2\n",
    ")\n",
    "\n",
    "\n",
    "ax.semilogy(\n",
    "    Evec, \n",
    "    pyfmm_potential_errors, \n",
    "    marker='x', \n",
    "    linestyle=':',\n",
    "    linewidth='0.4',\n",
    "    markersize=2\n",
    ")\n",
    "\n",
    "\n",
    "# Label with number of coefficients\n",
    "legend_labels = ['ExaFMM', 'PyExaFMM']\n",
    "\n",
    "plt.legend(legend_labels)\n",
    "plt.xlabel('Order of Expansions')\n",
    "plt.ylabel('Relative Error $\\epsilon_{rel}$')\n",
    "fig.set_size_inches(width, height)\n",
    "fp = FIGURE_SAVEPATH  + '/potential_convergence.pdf'\n",
    "plt.savefig(fp)\n",
    "plt.show()"
   ]
  }
 ],
 "metadata": {
  "kernelspec": {
   "display_name": "Python 3",
   "language": "python",
   "name": "python3"
  },
  "language_info": {
   "codemirror_mode": {
    "name": "ipython",
    "version": 3
   },
   "file_extension": ".py",
   "mimetype": "text/x-python",
   "name": "python",
   "nbconvert_exporter": "python",
   "pygments_lexer": "ipython3",
   "version": "3.8.10"
  }
 },
 "nbformat": 4,
 "nbformat_minor": 5
}
