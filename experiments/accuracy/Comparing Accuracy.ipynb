{
 "cells": [
  {
   "cell_type": "code",
   "execution_count": 21,
   "id": "decreased-promotion",
   "metadata": {},
   "outputs": [],
   "source": [
    "%matplotlib qt\n",
    "\n",
    "import time\n",
    "\n",
    "import matplotlib.pyplot as plt\n",
    "\n",
    "import numpy as np\n",
    "import exafmm.laplace as laplace\n",
    "\n",
    "from fmm import Fmm\n",
    "from fmm.kernel import laplace_p2p_serial, laplace_p2p_parallel"
   ]
  },
  {
   "cell_type": "code",
   "execution_count": 22,
   "id": "45fb038c",
   "metadata": {},
   "outputs": [],
   "source": [
    "def timer(f, *args, **kwargs):\n",
    "    s = time.time()\n",
    "    res = f(*args, **kwargs)\n",
    "    print(f'Runtime: {time.time()-s:.2f} s')\n",
    "    return res"
   ]
  },
  {
   "cell_type": "code",
   "execution_count": 23,
   "id": "3070986c",
   "metadata": {},
   "outputs": [],
   "source": [
    "def sphere(npoints):\n",
    "    \n",
    "    phi = np.linspace(0, 2*np.pi, npoints)\n",
    "    costheta = (np.linspace(0, 1, npoints)-0.5)*2\n",
    "\n",
    "    theta = np.arccos(costheta)\n",
    "    r = 0.5\n",
    "\n",
    "    x = r * np.sin(theta) * np.cos(phi)\n",
    "    y = r * np.sin(theta) * np.sin(phi)\n",
    "    z = r * np.cos(theta)\n",
    "\n",
    "    sources = np.vstack((x, y, z))\n",
    "\n",
    "    return sources.T\n"
   ]
  },
  {
   "cell_type": "code",
   "execution_count": 31,
   "id": "be539cdd",
   "metadata": {},
   "outputs": [],
   "source": [
    "test = sphere(100)\n",
    "\n",
    "ax = plt.axes(projection='3d')\n",
    "ax.scatter3D(test[:, 0], test[:, 1], test[:, 2], c='k', s=1)\n",
    "plt.show()"
   ]
  },
  {
   "cell_type": "code",
   "execution_count": 5,
   "id": "0cdcd16f",
   "metadata": {},
   "outputs": [
    {
     "name": "stdout",
     "output_type": "stream",
     "text": [
      "Runtime: 0.94 s\n"
     ]
    }
   ],
   "source": [
    "exp = Fmm('test_config')\n",
    "timer(exp.run)"
   ]
  },
  {
   "cell_type": "code",
   "execution_count": 6,
   "id": "5c34a06b",
   "metadata": {},
   "outputs": [],
   "source": [
    "# Set same sources, targets and source densities\n",
    "src_coords = exp.sources\n",
    "trg_coords = exp.targets\n",
    "src_charges = exp.source_densities"
   ]
  },
  {
   "cell_type": "code",
   "execution_count": 7,
   "id": "9769f331",
   "metadata": {},
   "outputs": [],
   "source": [
    "# create a list of source instances\n",
    "sources = laplace.init_sources(src_coords, src_charges)\n",
    "\n",
    "# create a list of target instances\n",
    "targets = laplace.init_targets(trg_coords)"
   ]
  },
  {
   "cell_type": "code",
   "execution_count": 8,
   "id": "87bf6a5b",
   "metadata": {},
   "outputs": [],
   "source": [
    "fmm = laplace.LaplaceFmm(p=5, ncrit=exp.config['max_points'], filename=\"test_file.dat\")"
   ]
  },
  {
   "cell_type": "code",
   "execution_count": 9,
   "id": "29b0e1bf",
   "metadata": {},
   "outputs": [],
   "source": [
    "tree = laplace.setup(sources, targets, fmm)"
   ]
  },
  {
   "cell_type": "code",
   "execution_count": 10,
   "id": "ed96eb4e",
   "metadata": {},
   "outputs": [
    {
     "name": "stdout",
     "output_type": "stream",
     "text": [
      "Runtime: 0.38 s\n"
     ]
    }
   ],
   "source": [
    "trg_values = timer(laplace.evaluate, tree, fmm)"
   ]
  },
  {
   "cell_type": "code",
   "execution_count": 11,
   "id": "c88cfe06",
   "metadata": {},
   "outputs": [
    {
     "data": {
      "text/plain": [
       "array([1109.8365, 1013.8969, 1137.1888, ..., 1033.253 , 1073.9423,\n",
       "       1096.0267], dtype=float32)"
      ]
     },
     "execution_count": 11,
     "metadata": {},
     "output_type": "execute_result"
    }
   ],
   "source": [
    "exp.target_potentials"
   ]
  },
  {
   "cell_type": "code",
   "execution_count": 12,
   "id": "9c11ea22",
   "metadata": {},
   "outputs": [
    {
     "data": {
      "text/plain": [
       "array([1110.05684806, 1013.58162298, 1137.50210119, ..., 1032.98995011,\n",
       "       1074.04157202, 1096.24109527])"
      ]
     },
     "execution_count": 12,
     "metadata": {},
     "output_type": "execute_result"
    }
   ],
   "source": [
    "trg_values[:, 0]"
   ]
  },
  {
   "cell_type": "code",
   "execution_count": 13,
   "id": "59613a9a",
   "metadata": {},
   "outputs": [
    {
     "data": {
      "text/plain": [
       "True"
      ]
     },
     "execution_count": 13,
     "metadata": {},
     "output_type": "execute_result"
    }
   ],
   "source": [
    "np.allclose(exp.target_potentials, trg_values[:, 0], rtol=0.002, atol=0)"
   ]
  },
  {
   "cell_type": "code",
   "execution_count": null,
   "id": "9fcb9e52",
   "metadata": {},
   "outputs": [],
   "source": []
  }
 ],
 "metadata": {
  "kernelspec": {
   "display_name": "Python 3",
   "language": "python",
   "name": "python3"
  },
  "language_info": {
   "codemirror_mode": {
    "name": "ipython",
    "version": 3
   },
   "file_extension": ".py",
   "mimetype": "text/x-python",
   "name": "python",
   "nbconvert_exporter": "python",
   "pygments_lexer": "ipython3",
   "version": "3.8.10"
  }
 },
 "nbformat": 4,
 "nbformat_minor": 5
}
