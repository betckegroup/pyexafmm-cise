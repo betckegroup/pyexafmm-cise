{
 "cells": [
  {
   "cell_type": "code",
   "execution_count": 1,
   "id": "5f987c97",
   "metadata": {},
   "outputs": [],
   "source": [
    "from memory_profiler import memory_usage\n",
    "import time\n",
    "import numpy as np\n",
    "\n",
    "# ExaFMM-T\n",
    "import exafmm.laplace as laplace\n",
    "\n",
    "# PyExaFMM\n",
    "from fmm import Fmm\n",
    "from fmm.kernel import laplace_p2p_serial, laplace_gradient\n",
    "from fmm.surface import scale_surface\n",
    "\n",
    "# Adaptoctree\n",
    "import adaptoctree.morton as morton\n",
    "import adaptoctree.tree as tree"
   ]
  },
  {
   "cell_type": "code",
   "execution_count": 2,
   "id": "4c35d00c",
   "metadata": {},
   "outputs": [
    {
     "data": {
      "text/plain": [
       "array([[ 283.3415 ,  602.8579 ,  448.8763 ],\n",
       "       [ 728.319  ,  836.0533 ,  150.27887],\n",
       "       [ 731.808  ,  421.88794,  366.041  ],\n",
       "       ...,\n",
       "       [-464.09085, -511.3172 , -427.3405 ],\n",
       "       [-305.128  , -636.4044 , -557.71857],\n",
       "       [-272.34122, -617.55475,  -90.45561]], dtype=float32)"
      ]
     },
     "execution_count": 2,
     "metadata": {},
     "output_type": "execute_result"
    }
   ],
   "source": [
    "# Compile test experiment to cache numba functions\n",
    "e = Fmm('test')\n",
    "e.run()\n",
    "laplace_p2p_serial(e.sources, e.targets, e.source_densities)\n",
    "laplace_gradient(e.sources, e.targets, e.source_densities)"
   ]
  },
  {
   "cell_type": "code",
   "execution_count": 50,
   "id": "2af55c06",
   "metadata": {
    "scrolled": true
   },
   "outputs": [
    {
     "name": "stdout",
     "output_type": "stream",
     "text": [
      "Generating random sources & targets\n",
      "Computing operators\n",
      "Computing octree\n",
      "Computing Inner Surface of Order 4\n",
      "Computing Outer Surface of Order 4\n",
      "Computing Inverse of Check To Equivalent Gram Matrix\n",
      "Computing M2M & L2L Operators\n",
      "Computed (1/8) M2M/L2L operators\n",
      "Computed (2/8) M2M/L2L operators\n",
      "Computed (3/8) M2M/L2L operators\n",
      "Computed (4/8) M2M/L2L operators\n",
      "Computed (5/8) M2M/L2L operators\n",
      "Computed (6/8) M2M/L2L operators\n",
      "Computed (7/8) M2M/L2L operators\n",
      "Computed (8/8) M2M/L2L operators\n",
      "Computed operators for (1/4) M2L Levels\n",
      "Computed operators for (2/4) M2L Levels\n",
      "Computed operators for (3/4) M2L Levels\n",
      "Computed operators for (4/4) M2L Levels\n",
      "Total time elapsed 0 minutes and 12 seconds\n",
      "\u001b[0mGenerating random sources & targets\n",
      "Computing operators\n",
      "Computing octree\n",
      "Computing Inner Surface of Order 5\n",
      "Computing Outer Surface of Order 5\n",
      "Computing Inverse of Check To Equivalent Gram Matrix\n",
      "Computing M2M & L2L Operators\n",
      "Computed (1/8) M2M/L2L operators\n",
      "Computed (2/8) M2M/L2L operators\n",
      "Computed (3/8) M2M/L2L operators\n",
      "Computed (4/8) M2M/L2L operators\n",
      "Computed (5/8) M2M/L2L operators\n",
      "Computed (6/8) M2M/L2L operators\n",
      "Computed (7/8) M2M/L2L operators\n",
      "Computed (8/8) M2M/L2L operators\n",
      "Computed operators for (1/4) M2L Levels\n",
      "Computed operators for (2/4) M2L Levels\n",
      "Computed operators for (3/4) M2L Levels\n",
      "Computed operators for (4/4) M2L Levels\n",
      "Total time elapsed 0 minutes and 12 seconds\n",
      "\u001b[0mGenerating random sources & targets\n",
      "Computing operators\n",
      "Computing octree\n",
      "Computing Inner Surface of Order 6\n",
      "Computing Outer Surface of Order 6\n",
      "Computing Inverse of Check To Equivalent Gram Matrix\n",
      "Computing M2M & L2L Operators\n",
      "Computed (1/8) M2M/L2L operators\n",
      "Computed (2/8) M2M/L2L operators\n",
      "Computed (3/8) M2M/L2L operators\n",
      "Computed (4/8) M2M/L2L operators\n",
      "Computed (5/8) M2M/L2L operators\n",
      "Computed (6/8) M2M/L2L operators\n",
      "Computed (7/8) M2M/L2L operators\n",
      "Computed (8/8) M2M/L2L operators\n",
      "Computed operators for (1/4) M2L Levels\n",
      "Computed operators for (2/4) M2L Levels\n",
      "Computed operators for (3/4) M2L Levels\n",
      "Computed operators for (4/4) M2L Levels\n",
      "Total time elapsed 0 minutes and 13 seconds\n",
      "\u001b[0mGenerating random sources & targets\n",
      "Computing operators\n",
      "Computing octree\n",
      "Computing Inner Surface of Order 7\n",
      "Computing Outer Surface of Order 7\n",
      "Computing Inverse of Check To Equivalent Gram Matrix\n",
      "Computing M2M & L2L Operators\n",
      "Computed (1/8) M2M/L2L operators\n",
      "Computed (2/8) M2M/L2L operators\n",
      "Computed (3/8) M2M/L2L operators\n",
      "Computed (4/8) M2M/L2L operators\n",
      "Computed (5/8) M2M/L2L operators\n",
      "Computed (6/8) M2M/L2L operators\n",
      "Computed (7/8) M2M/L2L operators\n",
      "Computed (8/8) M2M/L2L operators\n",
      "Computed operators for (1/4) M2L Levels\n",
      "Computed operators for (2/4) M2L Levels\n",
      "Computed operators for (3/4) M2L Levels\n",
      "Computed operators for (4/4) M2L Levels\n",
      "Total time elapsed 0 minutes and 17 seconds\n",
      "\u001b[0m"
     ]
    }
   ],
   "source": [
    "# ! rm test.hdf5 && fmm generate-test-data -c test && fmm compute-operators -c test\n",
    "! rm C4E4.hdf5 && fmm generate-test-data -c C4E4 && fmm compute-operators -c C4E4\n",
    "! rm C5E5.hdf5 && fmm generate-test-data -c C5E5 && fmm compute-operators -c C5E5\n",
    "! rm C6E6.hdf5 && fmm generate-test-data -c C6E6 && fmm compute-operators -c C6E6\n",
    "! rm C7E7.hdf5 && fmm generate-test-data -c C7E7 && fmm compute-operators -c C7E7"
   ]
  },
  {
   "cell_type": "code",
   "execution_count": 51,
   "id": "d08d18d5",
   "metadata": {},
   "outputs": [],
   "source": [
    "# Discretisation order of check surface\n",
    "Cvec = [4, 5, 6, 7]\n",
    "\n",
    "# Discretisation order of equivalent surface\n",
    "Evec = [4, 5, 6, 7]\n",
    "\n",
    "# Load experimental data into PyExaFMM\n",
    "pyfmmvec = [Fmm(f'C{C}E{C}') for C in Cvec]"
   ]
  },
  {
   "cell_type": "code",
   "execution_count": 52,
   "id": "0ca75a8c",
   "metadata": {},
   "outputs": [],
   "source": [
    "# Load experimental data into ExaFMM-T\n",
    "exafmmvec = []\n",
    "exafmmtreevec = []\n",
    "\n",
    "for e in pyfmmvec:\n",
    "    # create a list of source instances\n",
    "    sources = laplace.init_sources(e.sources, e.source_densities)\n",
    "\n",
    "    # create a list of target instances\n",
    "    targets = laplace.init_targets(e.targets)\n",
    "    \n",
    "    # Expansion order\n",
    "    p = e.config['order_equivalent']\n",
    "    fmm = laplace.LaplaceFmm(p=p, ncrit=e.config['max_points'], filename=f'C{p}E{p}.dat')\n",
    "    exafmmvec.append(fmm)\n",
    "    \n",
    "    tree = laplace.setup(sources, targets, fmm)\n",
    "    exafmmtreevec.append(tree)"
   ]
  },
  {
   "cell_type": "markdown",
   "id": "768612c0",
   "metadata": {},
   "source": [
    "# Runtimes"
   ]
  },
  {
   "cell_type": "code",
   "execution_count": 53,
   "id": "e6fc31e2",
   "metadata": {},
   "outputs": [],
   "source": [
    "# Evaluate PyExaFMM experiments\n",
    "nruns = 7\n",
    "pytvec = [[] for _ in range(nruns)]\n",
    "for i in range(nruns):    \n",
    "    for e in pyfmmvec:\n",
    "        s = time.time()\n",
    "        e.run()\n",
    "        pytvec[i].append(time.time()-s)\n",
    "        \n",
    "pytvec = np.array(pytvec)"
   ]
  },
  {
   "cell_type": "code",
   "execution_count": 54,
   "id": "4d93ce68",
   "metadata": {},
   "outputs": [],
   "source": [
    "# Evaluate ExaFMM-T experiments\n",
    "nruns = 7\n",
    "extvec = [[] for _ in range(nruns)]\n",
    "for i in range(nruns):\n",
    "    for tree, fmm in list(zip(exafmmtreevec, exafmmvec)):\n",
    "        s = time.time()\n",
    "        laplace.evaluate(tree, fmm)\n",
    "        extvec[i].append(time.time()-s)\n",
    "extvec = np.array(extvec)"
   ]
  },
  {
   "cell_type": "code",
   "execution_count": 55,
   "id": "4ff4cbc7",
   "metadata": {},
   "outputs": [
    {
     "data": {
      "text/plain": [
       "array([ 13.18985489,  64.77526096,  71.32551016, 130.75818545])"
      ]
     },
     "execution_count": 55,
     "metadata": {},
     "output_type": "execute_result"
    }
   ],
   "source": [
    "pytvec.mean(axis=0)"
   ]
  },
  {
   "cell_type": "code",
   "execution_count": 56,
   "id": "79112c56",
   "metadata": {},
   "outputs": [
    {
     "data": {
      "text/plain": [
       "array([0.20564043, 1.36779165, 3.73098496, 2.33841284])"
      ]
     },
     "execution_count": 56,
     "metadata": {},
     "output_type": "execute_result"
    }
   ],
   "source": [
    "pytvec.std(axis=0)"
   ]
  },
  {
   "cell_type": "code",
   "execution_count": 57,
   "id": "a6ffcc7b",
   "metadata": {},
   "outputs": [
    {
     "data": {
      "text/plain": [
       "array([0.40737987, 1.46008154, 1.66453586, 2.11161297])"
      ]
     },
     "execution_count": 57,
     "metadata": {},
     "output_type": "execute_result"
    }
   ],
   "source": [
    "extvec.mean(axis=0)"
   ]
  },
  {
   "cell_type": "code",
   "execution_count": 58,
   "id": "4a31ffb2",
   "metadata": {},
   "outputs": [
    {
     "data": {
      "text/plain": [
       "array([0.04801554, 0.04118234, 0.04325972, 0.05655091])"
      ]
     },
     "execution_count": 58,
     "metadata": {},
     "output_type": "execute_result"
    }
   ],
   "source": [
    "extvec.std(axis=0)"
   ]
  },
  {
   "cell_type": "markdown",
   "id": "2ac47d17",
   "metadata": {},
   "source": [
    "# Memory"
   ]
  },
  {
   "cell_type": "code",
   "execution_count": 59,
   "id": "b00bb644",
   "metadata": {},
   "outputs": [
    {
     "data": {
      "text/plain": [
       "32768"
      ]
     },
     "execution_count": 59,
     "metadata": {},
     "output_type": "execute_result"
    }
   ],
   "source": [
    "pyfmmvec[-1].nleaves"
   ]
  },
  {
   "cell_type": "code",
   "execution_count": 60,
   "id": "6e2700a1",
   "metadata": {},
   "outputs": [],
   "source": [
    "pymemvec = []\n",
    "\n",
    "for e in pyfmmvec:\n",
    "    pymemvec.append(max(memory_usage(e.run)))"
   ]
  },
  {
   "cell_type": "code",
   "execution_count": 61,
   "id": "9e5fe941",
   "metadata": {},
   "outputs": [
    {
     "data": {
      "text/plain": [
       "[4929.77734375, 4929.83203125, 4929.83203125, 4929.83203125]"
      ]
     },
     "execution_count": 61,
     "metadata": {},
     "output_type": "execute_result"
    }
   ],
   "source": [
    "pymemvec"
   ]
  },
  {
   "cell_type": "code",
   "execution_count": 62,
   "id": "746e9f82",
   "metadata": {
    "scrolled": true
   },
   "outputs": [],
   "source": [
    "exmemvec = []\n",
    "\n",
    "for tree, fmm in list(zip(exafmmtreevec, exafmmvec)):\n",
    "    def f(): laplace.evaluate(tree, fmm)\n",
    "    exmemvec.append(max(memory_usage(f)))"
   ]
  },
  {
   "cell_type": "code",
   "execution_count": 63,
   "id": "1e8310e1",
   "metadata": {},
   "outputs": [
    {
     "data": {
      "text/plain": [
       "[2979.82421875, 3321.06640625, 3553.87890625, 3875.046875]"
      ]
     },
     "execution_count": 63,
     "metadata": {},
     "output_type": "execute_result"
    }
   ],
   "source": [
    "exmemvec"
   ]
  },
  {
   "cell_type": "markdown",
   "id": "0b5d2b82",
   "metadata": {},
   "source": [
    "# Accuracy"
   ]
  },
  {
   "cell_type": "code",
   "execution_count": 13,
   "id": "d2315cf7",
   "metadata": {},
   "outputs": [],
   "source": [
    "direct = laplace_p2p_serial(\n",
    "    pyfmmvec[0].sources, \n",
    "    pyfmmvec[0].targets, \n",
    "    pyfmmvec[0].source_densities\n",
    ")"
   ]
  },
  {
   "cell_type": "code",
   "execution_count": 14,
   "id": "29c733ac",
   "metadata": {},
   "outputs": [],
   "source": [
    "pyfmmvec = [Fmm(f'C{C}E{C}') for C in Cvec]\n",
    "\n",
    "for e in pyfmmvec:\n",
    "    e.run()"
   ]
  },
  {
   "cell_type": "code",
   "execution_count": 17,
   "id": "bda4b3a4",
   "metadata": {},
   "outputs": [
    {
     "data": {
      "text/plain": [
       "1888"
      ]
     },
     "execution_count": 17,
     "metadata": {},
     "output_type": "execute_result"
    }
   ],
   "source": [
    "pyfmmvec[-1].nleaves"
   ]
  },
  {
   "cell_type": "code",
   "execution_count": null,
   "id": "80295d91",
   "metadata": {},
   "outputs": [],
   "source": []
  }
 ],
 "metadata": {
  "kernelspec": {
   "display_name": "Python 3",
   "language": "python",
   "name": "python3"
  },
  "language_info": {
   "codemirror_mode": {
    "name": "ipython",
    "version": 3
   },
   "file_extension": ".py",
   "mimetype": "text/x-python",
   "name": "python",
   "nbconvert_exporter": "python",
   "pygments_lexer": "ipython3",
   "version": "3.8.10"
  }
 },
 "nbformat": 4,
 "nbformat_minor": 5
}
