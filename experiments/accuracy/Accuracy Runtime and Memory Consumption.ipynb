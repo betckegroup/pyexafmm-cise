{
 "cells": [
  {
   "cell_type": "code",
   "execution_count": 7,
   "id": "5f987c97",
   "metadata": {},
   "outputs": [],
   "source": [
    "from memory_profiler import memory_usage\n",
    "import time\n",
    "import numpy as np\n",
    "\n",
    "# ExaFMM-T\n",
    "import exafmm.laplace as laplace\n",
    "\n",
    "# PyExaFMM\n",
    "from fmm import Fmm\n",
    "from fmm.kernel import laplace_p2p_serial, laplace_gradient\n",
    "from fmm.surface import scale_surface\n",
    "\n",
    "# Adaptoctree\n",
    "import adaptoctree.morton as morton\n",
    "import adaptoctree.tree as tree"
   ]
  },
  {
   "cell_type": "code",
   "execution_count": 8,
   "id": "4c35d00c",
   "metadata": {},
   "outputs": [
    {
     "data": {
      "text/plain": [
       "array([[  505.32437622,  1662.06575545, -1036.23303044],\n",
       "       [ -319.91075759,   370.52167043,  1357.60678574],\n",
       "       [  344.01185189,   913.15129831,   112.52339329],\n",
       "       ...,\n",
       "       [ -155.78901703,  -214.95415479,  -778.77791716],\n",
       "       [ -168.37581363,  -681.57519089,  -444.27740462],\n",
       "       [ -190.25537075,  -121.56253011,  -868.31197325]])"
      ]
     },
     "execution_count": 8,
     "metadata": {},
     "output_type": "execute_result"
    }
   ],
   "source": [
    "# Compile test experiment to cache numba functions\n",
    "e = Fmm('test')\n",
    "e.run()\n",
    "laplace_p2p_serial(e.sources, e.targets, e.source_densities)\n",
    "laplace_gradient(e.sources, e.targets, e.source_densities)"
   ]
  },
  {
   "cell_type": "code",
   "execution_count": 15,
   "id": "2af55c06",
   "metadata": {
    "scrolled": true
   },
   "outputs": [],
   "source": [
    "# ! rm test.hdf5 && fmm generate-test-data -c test && fmm compute-operators -c test\n",
    "# ! rm 10_6_r.hdf5 && fmm generate-test-data -c 10_6_r && fmm compute-operators -c 10_6_r\n",
    "# ! rm 10_6_s.hdf5 && fmm generate-test-data -c 10_6_s && fmm compute-operators -c 10_6_s\n",
    "# ! rm 100_6_r.hdf5 && fmm generate-test-data -c 100_6_r && fmm compute-operators -c 100_6_r\n",
    "# ! rm 100_6_s.hdf5 && fmm generate-test-data -c 100_6_s && fmm compute-operators -c 100_6_s\n",
    "# ! rm full_6_r.hdf5 && fmm generate-test-data -c full_6_r && fmm compute-operators -c full_6_r\n",
    "# ! rm full_6_s.hdf5 && fmm generate-test-data -c full_6_s && fmm compute-operators -c full_6_s\n"
   ]
  },
  {
   "cell_type": "code",
   "execution_count": 9,
   "id": "d08d18d5",
   "metadata": {},
   "outputs": [],
   "source": [
    "# Discretisation order of check surface\n",
    "pvec = [6]\n",
    "kvec = [10, 100, 'full']\n",
    "\n",
    "\n",
    "# Load experimental data into PyExaFMM\n",
    "pyfmmvec = []\n",
    "\n",
    "for p in pvec:\n",
    "    for k in kvec:\n",
    "        pyfmmvec.append(Fmm(f'{k}_{p}_r'))\n",
    "        pyfmmvec.append(Fmm(f'{k}_{p}_s'))"
   ]
  },
  {
   "cell_type": "code",
   "execution_count": 10,
   "id": "0ca75a8c",
   "metadata": {},
   "outputs": [],
   "source": [
    "# Load experimental data into ExaFMM-T\n",
    "exafmmvec = []\n",
    "exafmmtreevec = []\n",
    "\n",
    "for e in pyfmmvec:\n",
    "    # create a list of source instances\n",
    "    sources = laplace.init_sources(e.sources, e.source_densities)\n",
    "\n",
    "    # create a list of target instances\n",
    "    targets = laplace.init_targets(e.targets)\n",
    "    \n",
    "    # Expansion order\n",
    "    p = e.config['order_equivalent']\n",
    "    k = e.config['target_rank']\n",
    "    fmm = laplace.LaplaceFmm(p=p, ncrit=e.config['max_points'], filename=f'{p}_{k}.dat')\n",
    "    exafmmvec.append(fmm)\n",
    "    \n",
    "    tree = laplace.setup(sources, targets, fmm)\n",
    "    exafmmtreevec.append(tree)"
   ]
  },
  {
   "cell_type": "markdown",
   "id": "768612c0",
   "metadata": {},
   "source": [
    "# Runtimes"
   ]
  },
  {
   "cell_type": "code",
   "execution_count": 11,
   "id": "e6fc31e2",
   "metadata": {},
   "outputs": [],
   "source": [
    "# Evaluate PyExaFMM experiments\n",
    "nruns = 3\n",
    "pytvec = [[] for _ in range(nruns)]\n",
    "for i in range(nruns):\n",
    "    for e in pyfmmvec:\n",
    "        e.clear()\n",
    "    \n",
    "    for e in pyfmmvec:\n",
    "        s = time.time()\n",
    "        e.run()\n",
    "        pytvec[i].append(time.time()-s)\n",
    "        \n",
    "pytvec = np.array(pytvec)"
   ]
  },
  {
   "cell_type": "code",
   "execution_count": 12,
   "id": "4d93ce68",
   "metadata": {},
   "outputs": [],
   "source": [
    "# Evaluate ExaFMM-T experiments\n",
    "nruns = 3\n",
    "extvec = [[] for _ in range(nruns)]\n",
    "exfmmresvec = []\n",
    "for i in range(nruns):\n",
    "    for tree, fmm in list(zip(exafmmtreevec, exafmmvec)):\n",
    "        laplace.clear_values(tree)\n",
    "\n",
    "    for tree, fmm in list(zip(exafmmtreevec, exafmmvec)):\n",
    "        \n",
    "        s = time.time()\n",
    "        res = laplace.evaluate(tree, fmm)\n",
    "        extvec[i].append(time.time()-s)\n",
    "        exfmmresvec.append(res)\n",
    "extvec = np.array(extvec)"
   ]
  },
  {
   "cell_type": "code",
   "execution_count": 13,
   "id": "4ff4cbc7",
   "metadata": {},
   "outputs": [
    {
     "data": {
      "text/plain": [
       "array([17.53064911, 10.70198862, 36.67679302, 13.61126566, 50.49963975,\n",
       "       15.75248583])"
      ]
     },
     "execution_count": 13,
     "metadata": {},
     "output_type": "execute_result"
    }
   ],
   "source": [
    "pytvec.mean(axis=0)"
   ]
  },
  {
   "cell_type": "code",
   "execution_count": 14,
   "id": "79112c56",
   "metadata": {},
   "outputs": [
    {
     "data": {
      "text/plain": [
       "array([0.3411261 , 0.33536214, 0.40289807, 0.30169086, 0.7255402 ,\n",
       "       0.14281761])"
      ]
     },
     "execution_count": 14,
     "metadata": {},
     "output_type": "execute_result"
    }
   ],
   "source": [
    "pytvec.std(axis=0)"
   ]
  },
  {
   "cell_type": "code",
   "execution_count": 19,
   "id": "a6ffcc7b",
   "metadata": {},
   "outputs": [
    {
     "data": {
      "text/plain": [
       "array([1.10357436, 0.92380365, 1.11018976, 0.91403898, 1.11117069,\n",
       "       0.91608095])"
      ]
     },
     "execution_count": 19,
     "metadata": {},
     "output_type": "execute_result"
    }
   ],
   "source": [
    "extvec.mean(axis=0)"
   ]
  },
  {
   "cell_type": "code",
   "execution_count": 17,
   "id": "4a31ffb2",
   "metadata": {},
   "outputs": [
    {
     "data": {
      "text/plain": [
       "array([0.02841402, 0.0027724 ])"
      ]
     },
     "execution_count": 17,
     "metadata": {},
     "output_type": "execute_result"
    }
   ],
   "source": [
    "extvec.std(axis=0)[:2]"
   ]
  },
  {
   "cell_type": "code",
   "execution_count": 18,
   "id": "0cda55fe",
   "metadata": {},
   "outputs": [
    {
     "data": {
      "text/plain": [
       "array([[16.91309781, 12.13353608, 34.2561156 , 15.96792107, 49.61333541,\n",
       "        18.29974588],\n",
       "       [15.21503256, 11.19788394, 32.23907652, 14.53404942, 43.43984326,\n",
       "        16.36372929],\n",
       "       [15.58419943, 11.42625161, 32.68807652, 14.23506745, 43.68650104,\n",
       "        17.01312529]])"
      ]
     },
     "execution_count": 18,
     "metadata": {},
     "output_type": "execute_result"
    }
   ],
   "source": [
    "pytvec/extvec"
   ]
  },
  {
   "cell_type": "markdown",
   "id": "2ac47d17",
   "metadata": {},
   "source": [
    "# Memory\n",
    "\n",
    "Run separately as scripts, without loading anything else up, for accurate results."
   ]
  },
  {
   "cell_type": "code",
   "execution_count": 3,
   "id": "2e4852c1",
   "metadata": {},
   "outputs": [],
   "source": [
    "# ! python py_memory.py"
   ]
  },
  {
   "cell_type": "code",
   "execution_count": 4,
   "id": "6e2700a1",
   "metadata": {},
   "outputs": [],
   "source": [
    "# ! python ex_memory.py"
   ]
  },
  {
   "cell_type": "markdown",
   "id": "452ecf3a",
   "metadata": {},
   "source": [
    "# Accuracy"
   ]
  },
  {
   "cell_type": "code",
   "execution_count": 9,
   "id": "f0661f8f",
   "metadata": {},
   "outputs": [],
   "source": [
    "# idx = 0\n",
    "# dtype = str(pyfmmvec[idx].config['data_type'])\n",
    "# print(dtype)\n",
    "\n",
    "# direct = laplace_p2p_serial(\n",
    "#     pyfmmvec[idx].sources, \n",
    "#     pyfmmvec[idx].targets, \n",
    "#     pyfmmvec[idx].source_densities\n",
    "# )\n",
    "\n",
    "# with open(f'direct_{dtype}.pkl', 'wb') as f:\n",
    "#     np.save(f, direct)"
   ]
  },
  {
   "cell_type": "code",
   "execution_count": 20,
   "id": "e06742e4",
   "metadata": {},
   "outputs": [],
   "source": [
    "with open('direct_sphere.pkl', 'rb') as f:\n",
    "    direct_sphere = np.load(f)"
   ]
  },
  {
   "cell_type": "code",
   "execution_count": 21,
   "id": "89cbb474",
   "metadata": {},
   "outputs": [],
   "source": [
    "with open('direct_random.pkl', 'rb') as f:\n",
    "    direct_random = np.load(f)"
   ]
  },
  {
   "cell_type": "code",
   "execution_count": 22,
   "id": "0fb0ac8e",
   "metadata": {},
   "outputs": [],
   "source": [
    "random_pyexperiments = [pyfmmvec[0], pyfmmvec[2], pyfmmvec[4]]\n",
    "random_pyerrors = []\n",
    "\n",
    "for e in random_pyexperiments:\n",
    "    \n",
    "    error = np.mean(abs(e.target_potentials[:,0]-direct_random)/direct_random)\n",
    "    random_pyerrors.append(error)\n",
    "    \n",
    "    \n",
    "random_exexperiments = [exfmmresvec[0], exfmmresvec[2], exfmmresvec[4]]\n",
    "random_exerrors = []\n",
    "\n",
    "for e in random_exexperiments:\n",
    "    \n",
    "    error = np.mean(abs(e[:,0]-direct_random)/direct_random)\n",
    "    random_exerrors.append(error)"
   ]
  },
  {
   "cell_type": "code",
   "execution_count": 23,
   "id": "d48f59ea",
   "metadata": {},
   "outputs": [],
   "source": [
    "sphere_pyexperiments = [pyfmmvec[1], pyfmmvec[3], pyfmmvec[5]]\n",
    "sphere_pyerrors = []\n",
    "\n",
    "for e in sphere_pyexperiments:\n",
    "    \n",
    "    error = np.mean(abs(e.target_potentials[:,0]-direct_sphere)/direct_sphere)\n",
    "    sphere_pyerrors.append(error)\n",
    "    \n",
    "    \n",
    "sphere_exexperiments = [exfmmresvec[1], exfmmresvec[3], exfmmresvec[5]]\n",
    "sphere_exerrors = []\n",
    "\n",
    "for e in sphere_exexperiments:\n",
    "    \n",
    "    error = np.mean(abs(e[:,0]-direct_sphere)/direct_sphere)\n",
    "    sphere_exerrors.append(error)"
   ]
  },
  {
   "cell_type": "code",
   "execution_count": 24,
   "id": "846eadef",
   "metadata": {},
   "outputs": [
    {
     "name": "stdout",
     "output_type": "stream",
     "text": [
      "[3.3060505505988473e-07, 3.3060505505988473e-07, 3.3060505505988473e-07]\n"
     ]
    }
   ],
   "source": [
    "print(random_exerrors)"
   ]
  },
  {
   "cell_type": "code",
   "execution_count": 25,
   "id": "5dc905c2",
   "metadata": {},
   "outputs": [
    {
     "name": "stdout",
     "output_type": "stream",
     "text": [
      "[0.00014588679303668398, 3.958786884452618e-07, 3.936711732894845e-07]\n"
     ]
    }
   ],
   "source": [
    "print(random_pyerrors)"
   ]
  },
  {
   "cell_type": "code",
   "execution_count": 26,
   "id": "18636d00",
   "metadata": {},
   "outputs": [
    {
     "data": {
      "text/plain": [
       "[0.0004635461330072312, 4.5839533142968973e-07, 4.6142721735511585e-07]"
      ]
     },
     "execution_count": 26,
     "metadata": {},
     "output_type": "execute_result"
    }
   ],
   "source": [
    "sphere_pyerrors"
   ]
  },
  {
   "cell_type": "code",
   "execution_count": 27,
   "id": "1237bd1d",
   "metadata": {},
   "outputs": [
    {
     "data": {
      "text/plain": [
       "[3.8241347309400043e-07, 3.8241347309400043e-07, 3.8241347309400043e-07]"
      ]
     },
     "execution_count": 27,
     "metadata": {},
     "output_type": "execute_result"
    }
   ],
   "source": [
    "sphere_exerrors"
   ]
  },
  {
   "cell_type": "code",
   "execution_count": 21,
   "id": "1eb96ff6",
   "metadata": {},
   "outputs": [
    {
     "data": {
      "text/plain": [
       "10"
      ]
     },
     "execution_count": 21,
     "metadata": {},
     "output_type": "execute_result"
    }
   ],
   "source": [
    "sphere_pyexperiments[0].config['target_rank']"
   ]
  },
  {
   "cell_type": "code",
   "execution_count": null,
   "id": "45fd4e78",
   "metadata": {},
   "outputs": [],
   "source": []
  }
 ],
 "metadata": {
  "kernelspec": {
   "display_name": "Python 3 (ipykernel)",
   "language": "python",
   "name": "python3"
  },
  "language_info": {
   "codemirror_mode": {
    "name": "ipython",
    "version": 3
   },
   "file_extension": ".py",
   "mimetype": "text/x-python",
   "name": "python",
   "nbconvert_exporter": "python",
   "pygments_lexer": "ipython3",
   "version": "3.8.10"
  }
 },
 "nbformat": 4,
 "nbformat_minor": 5
}
