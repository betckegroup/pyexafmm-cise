{
 "cells": [
  {
   "cell_type": "code",
   "execution_count": 1,
   "id": "5f987c97",
   "metadata": {},
   "outputs": [],
   "source": [
    "from memory_profiler import memory_usage\n",
    "import time\n",
    "import numpy as np\n",
    "\n",
    "# ExaFMM-T\n",
    "import exafmm.laplace as laplace\n",
    "\n",
    "# PyExaFMM\n",
    "from fmm import Fmm\n",
    "from fmm.kernel import laplace_p2p_serial, laplace_gradient\n",
    "from fmm.surface import scale_surface\n",
    "\n",
    "# Adaptoctree\n",
    "import adaptoctree.morton as morton\n",
    "import adaptoctree.tree as tree"
   ]
  },
  {
   "cell_type": "code",
   "execution_count": 2,
   "id": "4c35d00c",
   "metadata": {},
   "outputs": [
    {
     "data": {
      "text/plain": [
       "array([[  505.32437622,  1662.06575545, -1036.23303044],\n",
       "       [ -319.91075759,   370.52167043,  1357.60678574],\n",
       "       [  344.01185189,   913.15129831,   112.52339329],\n",
       "       ...,\n",
       "       [ -155.78901703,  -214.95415479,  -778.77791716],\n",
       "       [ -168.37581363,  -681.57519089,  -444.27740462],\n",
       "       [ -190.25537075,  -121.56253011,  -868.31197325]])"
      ]
     },
     "execution_count": 2,
     "metadata": {},
     "output_type": "execute_result"
    }
   ],
   "source": [
    "# Compile test experiment to cache numba functions\n",
    "e = Fmm('test')\n",
    "e.run()\n",
    "laplace_p2p_serial(e.sources, e.targets, e.source_densities)\n",
    "laplace_gradient(e.sources, e.targets, e.source_densities)"
   ]
  },
  {
   "cell_type": "code",
   "execution_count": 3,
   "id": "2af55c06",
   "metadata": {
    "scrolled": true
   },
   "outputs": [],
   "source": [
    "# ! rm test.hdf5 && fmm generate-test-data -c test && fmm compute-operators -c test\n",
    "# ! rm 10_6_r.hdf5 && fmm generate-test-data -c 10_6_r && fmm compute-operators -c 10_6_r\n",
    "# ! rm 10_6_s.hdf5 && fmm generate-test-data -c 10_6_s && fmm compute-operators -c 10_6_s\n",
    "# ! rm 100_6_r.hdf5 && fmm generate-test-data -c 100_6_r && fmm compute-operators -c 100_6_r\n",
    "# ! rm 100_6_s.hdf5 && fmm generate-test-data -c 100_6_s && fmm compute-operators -c 100_6_s\n",
    "# ! rm full_6_r.hdf5 && fmm generate-test-data -c full_6_r && fmm compute-operators -c full_6_r\n",
    "# ! rm full_6_s.hdf5 && fmm generate-test-data -c full_6_s && fmm compute-operators -c full_6_s\n",
    "\n",
    "# ! rm test.hdf5 && fmm generate-test-data -c test && fmm compute-operators -c test\n",
    "# ! rm 10_10_r.hdf5 && fmm generate-test-data -c 10_10_r && fmm compute-operators -c 10_10_r\n",
    "# ! rm 10_10_s.hdf5 && fmm generate-test-data -c 10_10_s && fmm compute-operators -c 10_10_s\n",
    "# ! rm 100_10_r.hdf5 && fmm generate-test-data -c 100_10_r && fmm compute-operators -c 100_10_r\n",
    "# ! rm 100_10_s.hdf5 && fmm generate-test-data -c 100_10_s && fmm compute-operators -c 100_10_s\n",
    "# ! rm full_10_r.hdf5 && fmm generate-test-data -c full_10_r && fmm compute-operators -c full_10_r\n",
    "# ! rm full_10_s.hdf5 && fmm generate-test-data -c full_10_s && fmm compute-operators -c full_10_s"
   ]
  },
  {
   "cell_type": "code",
   "execution_count": 4,
   "id": "d08d18d5",
   "metadata": {},
   "outputs": [],
   "source": [
    "# Discretisation order of check surface\n",
    "pvec = [6]\n",
    "kvec = [10, 100, 'full']\n",
    "\n",
    "\n",
    "# Load experimental data into PyExaFMM\n",
    "pyfmmvec = []\n",
    "\n",
    "for p in pvec:\n",
    "    for k in kvec:\n",
    "        pyfmmvec.append(Fmm(f'{k}_{p}_r'))\n",
    "        pyfmmvec.append(Fmm(f'{k}_{p}_s'))"
   ]
  },
  {
   "cell_type": "code",
   "execution_count": 7,
   "id": "0ca75a8c",
   "metadata": {},
   "outputs": [],
   "source": [
    "# Load experimental data into ExaFMM-T\n",
    "exafmmvec = []\n",
    "exafmmtreevec = []\n",
    "\n",
    "for e in pyfmmvec:\n",
    "    # create a list of source instances\n",
    "    sources = laplace.init_sources(e.sources, e.source_densities)\n",
    "\n",
    "    # create a list of target instances\n",
    "    targets = laplace.init_targets(e.targets)\n",
    "    \n",
    "    # Expansion order\n",
    "    p = e.config['order_equivalent']\n",
    "    k = e.config['target_rank']\n",
    "    fmm = laplace.LaplaceFmm(p=p, ncrit=e.config['max_points'], filename=f'{p}_{k}.dat')\n",
    "    exafmmvec.append(fmm)\n",
    "    \n",
    "    tree = laplace.setup(sources, targets, fmm)\n",
    "    exafmmtreevec.append(tree)"
   ]
  },
  {
   "cell_type": "markdown",
   "id": "768612c0",
   "metadata": {},
   "source": [
    "# Runtimes"
   ]
  },
  {
   "cell_type": "code",
   "execution_count": 5,
   "id": "e6fc31e2",
   "metadata": {},
   "outputs": [],
   "source": [
    "# Evaluate PyExaFMM experiments\n",
    "nruns = 1\n",
    "pytvec = [[] for _ in range(nruns)]\n",
    "for i in range(nruns):\n",
    "    for e in pyfmmvec:\n",
    "        e.clear()\n",
    "    \n",
    "    for e in pyfmmvec:\n",
    "        s = time.time()\n",
    "        e.run()\n",
    "        pytvec[i].append(time.time()-s)\n",
    "        \n",
    "pytvec = np.array(pytvec)"
   ]
  },
  {
   "cell_type": "code",
   "execution_count": 8,
   "id": "4d93ce68",
   "metadata": {},
   "outputs": [],
   "source": [
    "# Evaluate ExaFMM-T experiments\n",
    "nruns = 1\n",
    "extvec = [[] for _ in range(nruns)]\n",
    "exfmmresvec = []\n",
    "for i in range(nruns):\n",
    "    for tree, fmm in list(zip(exafmmtreevec, exafmmvec)):\n",
    "        laplace.clear_values(tree)\n",
    "\n",
    "    for tree, fmm in list(zip(exafmmtreevec, exafmmvec)):\n",
    "        \n",
    "        s = time.time()\n",
    "        res = laplace.evaluate(tree, fmm)\n",
    "        extvec[i].append(time.time()-s)\n",
    "        exfmmresvec.append(res)\n",
    "extvec = np.array(extvec)"
   ]
  },
  {
   "cell_type": "code",
   "execution_count": 6,
   "id": "4ff4cbc7",
   "metadata": {},
   "outputs": [
    {
     "data": {
      "text/plain": [
       "array([18.5699594 , 15.09127378, 26.8401165 , 15.83036327, 59.61733389,\n",
       "       18.29960728])"
      ]
     },
     "execution_count": 6,
     "metadata": {},
     "output_type": "execute_result"
    }
   ],
   "source": [
    "pytvec.mean(axis=0)"
   ]
  },
  {
   "cell_type": "code",
   "execution_count": 45,
   "id": "79112c56",
   "metadata": {},
   "outputs": [
    {
     "data": {
      "text/plain": [
       "array([0., 0., 0., 0., 0., 0.])"
      ]
     },
     "execution_count": 45,
     "metadata": {},
     "output_type": "execute_result"
    }
   ],
   "source": [
    "pytvec.std(axis=0)"
   ]
  },
  {
   "cell_type": "code",
   "execution_count": 13,
   "id": "a6ffcc7b",
   "metadata": {},
   "outputs": [
    {
     "data": {
      "text/plain": [
       "array([2.49864817, 1.95940399])"
      ]
     },
     "execution_count": 13,
     "metadata": {},
     "output_type": "execute_result"
    }
   ],
   "source": [
    "extvec.mean(axis=0)[:2]"
   ]
  },
  {
   "cell_type": "code",
   "execution_count": 14,
   "id": "4a31ffb2",
   "metadata": {},
   "outputs": [
    {
     "data": {
      "text/plain": [
       "array([0., 0.])"
      ]
     },
     "execution_count": 14,
     "metadata": {},
     "output_type": "execute_result"
    }
   ],
   "source": [
    "extvec.std(axis=0)[:2]"
   ]
  },
  {
   "cell_type": "code",
   "execution_count": 15,
   "id": "af9a5ac6",
   "metadata": {},
   "outputs": [
    {
     "data": {
      "text/plain": [
       "10"
      ]
     },
     "execution_count": 15,
     "metadata": {},
     "output_type": "execute_result"
    }
   ],
   "source": [
    "pyfmmvec[0].config['target_rank']"
   ]
  },
  {
   "cell_type": "code",
   "execution_count": 16,
   "id": "0cda55fe",
   "metadata": {},
   "outputs": [
    {
     "data": {
      "text/plain": [
       "array([[ 7.43200249,  7.70197154, 13.67345524,  8.9870119 , 22.61878072,\n",
       "        10.51803743]])"
      ]
     },
     "execution_count": 16,
     "metadata": {},
     "output_type": "execute_result"
    }
   ],
   "source": [
    "pytvec/extvec"
   ]
  },
  {
   "cell_type": "markdown",
   "id": "2ac47d17",
   "metadata": {},
   "source": [
    "# Memory"
   ]
  },
  {
   "cell_type": "code",
   "execution_count": 3,
   "id": "2e4852c1",
   "metadata": {},
   "outputs": [],
   "source": [
    "# Discretisation order of check surface\n",
    "pvec = [6]\n",
    "kvec = [10, 100, 'full']\n",
    "\n",
    "\n",
    "# Load experimental data into PyExaFMM\n",
    "pyfmmvec = []\n",
    "\n",
    "for p in pvec:\n",
    "    for k in kvec:\n",
    "        pyfmmvec.append(Fmm(f'{k}_{p}_r'))\n",
    "        pyfmmvec.append(Fmm(f'{k}_{p}_s'))"
   ]
  },
  {
   "cell_type": "code",
   "execution_count": null,
   "id": "6e2700a1",
   "metadata": {},
   "outputs": [],
   "source": [
    "pymemvec = []\n",
    "\n",
    "for e in pyfmmvec:\n",
    "    pymemvec.append(max(memory_usage(e.run)))"
   ]
  },
  {
   "cell_type": "code",
   "execution_count": null,
   "id": "545731cf",
   "metadata": {},
   "outputs": [],
   "source": [
    "pymemvec"
   ]
  },
  {
   "cell_type": "code",
   "execution_count": 10,
   "id": "746e9f82",
   "metadata": {
    "scrolled": true
   },
   "outputs": [
    {
     "ename": "NameError",
     "evalue": "name 'exafmmtreevec' is not defined",
     "output_type": "error",
     "traceback": [
      "\u001b[0;31m---------------------------------------------------------------------------\u001b[0m",
      "\u001b[0;31mNameError\u001b[0m                                 Traceback (most recent call last)",
      "\u001b[0;32m/tmp/ipykernel_804839/2020205572.py\u001b[0m in \u001b[0;36m<module>\u001b[0;34m\u001b[0m\n\u001b[0;32m----> 1\u001b[0;31m \u001b[0;32mfor\u001b[0m \u001b[0mtree\u001b[0m\u001b[0;34m,\u001b[0m \u001b[0mfmm\u001b[0m \u001b[0;32min\u001b[0m \u001b[0mlist\u001b[0m\u001b[0;34m(\u001b[0m\u001b[0mzip\u001b[0m\u001b[0;34m(\u001b[0m\u001b[0mexafmmtreevec\u001b[0m\u001b[0;34m,\u001b[0m \u001b[0mexafmmvec\u001b[0m\u001b[0;34m)\u001b[0m\u001b[0;34m)\u001b[0m\u001b[0;34m:\u001b[0m\u001b[0;34m\u001b[0m\u001b[0;34m\u001b[0m\u001b[0m\n\u001b[0m\u001b[1;32m      2\u001b[0m     \u001b[0mlaplace\u001b[0m\u001b[0;34m.\u001b[0m\u001b[0mclear_values\u001b[0m\u001b[0;34m(\u001b[0m\u001b[0mtree\u001b[0m\u001b[0;34m)\u001b[0m\u001b[0;34m\u001b[0m\u001b[0;34m\u001b[0m\u001b[0m\n\u001b[1;32m      3\u001b[0m \u001b[0;34m\u001b[0m\u001b[0m\n\u001b[1;32m      4\u001b[0m \u001b[0mexmemvec\u001b[0m \u001b[0;34m=\u001b[0m \u001b[0;34m[\u001b[0m\u001b[0;34m]\u001b[0m\u001b[0;34m\u001b[0m\u001b[0;34m\u001b[0m\u001b[0m\n\u001b[1;32m      5\u001b[0m \u001b[0;34m\u001b[0m\u001b[0m\n",
      "\u001b[0;31mNameError\u001b[0m: name 'exafmmtreevec' is not defined"
     ]
    }
   ],
   "source": [
    "for tree, fmm in list(zip(exafmmtreevec, exafmmvec)):\n",
    "    laplace.clear_values(tree)\n",
    "\n",
    "exmemvec = []\n",
    "\n",
    "for tree, fmm in list(zip(exafmmtreevec, exafmmvec)):\n",
    "    def f(): laplace.evaluate(tree, fmm)\n",
    "    exmemvec.append(max(memory_usage(f)))"
   ]
  },
  {
   "cell_type": "code",
   "execution_count": 26,
   "id": "e16cac02",
   "metadata": {},
   "outputs": [
    {
     "data": {
      "text/plain": [
       "[5477.78515625,\n",
       " 5388.95703125,\n",
       " 4924.71875,\n",
       " 5387.90625,\n",
       " 5477.92578125,\n",
       " 5388.70703125]"
      ]
     },
     "execution_count": 26,
     "metadata": {},
     "output_type": "execute_result"
    }
   ],
   "source": [
    "exmemvec"
   ]
  },
  {
   "cell_type": "markdown",
   "id": "452ecf3a",
   "metadata": {},
   "source": [
    "# Accuracy"
   ]
  },
  {
   "cell_type": "code",
   "execution_count": 9,
   "id": "f0661f8f",
   "metadata": {},
   "outputs": [],
   "source": [
    "# idx = 0\n",
    "# dtype = str(pyfmmvec[idx].config['data_type'])\n",
    "# print(dtype)\n",
    "\n",
    "# direct = laplace_p2p_serial(\n",
    "#     pyfmmvec[idx].sources, \n",
    "#     pyfmmvec[idx].targets, \n",
    "#     pyfmmvec[idx].source_densities\n",
    "# )\n",
    "\n",
    "# with open(f'direct_{dtype}.pkl', 'wb') as f:\n",
    "#     np.save(f, direct)"
   ]
  },
  {
   "cell_type": "code",
   "execution_count": 10,
   "id": "3e7756de",
   "metadata": {},
   "outputs": [],
   "source": [
    "with open('direct_sphere.pkl', 'rb') as f:\n",
    "    direct_sphere = np.load(f)"
   ]
  },
  {
   "cell_type": "code",
   "execution_count": 11,
   "id": "89cbb474",
   "metadata": {},
   "outputs": [],
   "source": [
    "with open('direct_random.pkl', 'rb') as f:\n",
    "    direct_random = np.load(f)"
   ]
  },
  {
   "cell_type": "code",
   "execution_count": 12,
   "id": "0fb0ac8e",
   "metadata": {},
   "outputs": [],
   "source": [
    "random_pyexperiments = [pyfmmvec[0], pyfmmvec[2], pyfmmvec[4]]\n",
    "random_pyerrors = []\n",
    "\n",
    "for e in random_pyexperiments:\n",
    "    \n",
    "    error = np.mean(abs(e.target_potentials[:,0]-direct_random)/direct_random)\n",
    "    random_pyerrors.append(error)\n",
    "    \n",
    "    \n",
    "random_exexperiments = [exfmmresvec[0], exfmmresvec[2], exfmmresvec[4]]\n",
    "random_exerrors = []\n",
    "\n",
    "for e in random_exexperiments:\n",
    "    \n",
    "    error = np.mean(abs(e[:,0]-direct_random)/direct_random)\n",
    "    random_exerrors.append(error)"
   ]
  },
  {
   "cell_type": "code",
   "execution_count": 13,
   "id": "4145465c",
   "metadata": {},
   "outputs": [],
   "source": [
    "sphere_pyexperiments = [pyfmmvec[1], pyfmmvec[3], pyfmmvec[5]]\n",
    "sphere_pyerrors = []\n",
    "\n",
    "for e in sphere_pyexperiments:\n",
    "    \n",
    "    error = np.mean(abs(e.target_potentials[:,0]-direct_sphere)/direct_sphere)\n",
    "    sphere_pyerrors.append(error)\n",
    "    \n",
    "    \n",
    "sphere_exexperiments = [exfmmresvec[1], exfmmresvec[3], exfmmresvec[5]]\n",
    "sphere_exerrors = []\n",
    "\n",
    "for e in sphere_exexperiments:\n",
    "    \n",
    "    error = np.mean(abs(e[:,0]-direct_sphere)/direct_sphere)\n",
    "    sphere_exerrors.append(error)"
   ]
  },
  {
   "cell_type": "code",
   "execution_count": 14,
   "id": "846eadef",
   "metadata": {},
   "outputs": [
    {
     "name": "stdout",
     "output_type": "stream",
     "text": [
      "[3.3060505505988473e-07, 2.862516966947806e-06, 3.3060505505988473e-07]\n"
     ]
    }
   ],
   "source": [
    "print(random_exerrors)"
   ]
  },
  {
   "cell_type": "code",
   "execution_count": 15,
   "id": "5dc905c2",
   "metadata": {},
   "outputs": [
    {
     "name": "stdout",
     "output_type": "stream",
     "text": [
      "[0.00014588679303668398, 3.4635811419415778e-06, 3.936711732894845e-07]\n"
     ]
    }
   ],
   "source": [
    "print(random_pyerrors)"
   ]
  },
  {
   "cell_type": "code",
   "execution_count": 16,
   "id": "2829470b",
   "metadata": {},
   "outputs": [
    {
     "data": {
      "text/plain": [
       "[0.0004635461330072312, 4.5839533142968973e-07, 4.6142721735511585e-07]"
      ]
     },
     "execution_count": 16,
     "metadata": {},
     "output_type": "execute_result"
    }
   ],
   "source": [
    "sphere_pyerrors"
   ]
  },
  {
   "cell_type": "code",
   "execution_count": 17,
   "id": "f598ad58",
   "metadata": {},
   "outputs": [
    {
     "data": {
      "text/plain": [
       "[3.8241347309400043e-07, 3.8241347309400043e-07, 3.8241347309400043e-07]"
      ]
     },
     "execution_count": 17,
     "metadata": {},
     "output_type": "execute_result"
    }
   ],
   "source": [
    "sphere_exerrors"
   ]
  },
  {
   "cell_type": "code",
   "execution_count": 21,
   "id": "221c5970",
   "metadata": {},
   "outputs": [
    {
     "data": {
      "text/plain": [
       "10"
      ]
     },
     "execution_count": 21,
     "metadata": {},
     "output_type": "execute_result"
    }
   ],
   "source": [
    "sphere_pyexperiments[0].config['target_rank']"
   ]
  },
  {
   "cell_type": "code",
   "execution_count": null,
   "id": "85ef2ee3",
   "metadata": {},
   "outputs": [],
   "source": []
  }
 ],
 "metadata": {
  "kernelspec": {
   "display_name": "Python 3 (ipykernel)",
   "language": "python",
   "name": "python3"
  },
  "language_info": {
   "codemirror_mode": {
    "name": "ipython",
    "version": 3
   },
   "file_extension": ".py",
   "mimetype": "text/x-python",
   "name": "python",
   "nbconvert_exporter": "python",
   "pygments_lexer": "ipython3",
   "version": "3.8.10"
  }
 },
 "nbformat": 4,
 "nbformat_minor": 5
}
