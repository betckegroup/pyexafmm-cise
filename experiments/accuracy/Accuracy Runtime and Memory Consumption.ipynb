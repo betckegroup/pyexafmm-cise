{
 "cells": [
  {
   "cell_type": "code",
   "execution_count": 1,
   "id": "5f987c97",
   "metadata": {},
   "outputs": [],
   "source": [
    "from memory_profiler import memory_usage\n",
    "import time\n",
    "import numpy as np\n",
    "\n",
    "# ExaFMM-T\n",
    "import exafmm.laplace as laplace\n",
    "\n",
    "# PyExaFMM\n",
    "from fmm import Fmm\n",
    "from fmm.kernel import laplace_p2p_serial, laplace_gradient\n",
    "from fmm.surface import scale_surface\n",
    "\n",
    "# Adaptoctree\n",
    "import adaptoctree.morton as morton\n",
    "import adaptoctree.tree as tree"
   ]
  },
  {
   "cell_type": "code",
   "execution_count": 2,
   "id": "4c35d00c",
   "metadata": {},
   "outputs": [
    {
     "data": {
      "text/plain": [
       "array([[  505.32437622,  1662.06575545, -1036.23303044],\n",
       "       [ -319.91075759,   370.52167043,  1357.60678574],\n",
       "       [  344.01185189,   913.15129831,   112.52339329],\n",
       "       ...,\n",
       "       [ -155.78901703,  -214.95415479,  -778.77791716],\n",
       "       [ -168.37581363,  -681.57519089,  -444.27740462],\n",
       "       [ -190.25537075,  -121.56253011,  -868.31197325]])"
      ]
     },
     "execution_count": 2,
     "metadata": {},
     "output_type": "execute_result"
    }
   ],
   "source": [
    "# Compile test experiment to cache numba functions\n",
    "e = Fmm('test')\n",
    "e.run()\n",
    "laplace_p2p_serial(e.sources, e.targets, e.source_densities)\n",
    "laplace_gradient(e.sources, e.targets, e.source_densities)"
   ]
  },
  {
   "cell_type": "code",
   "execution_count": 3,
   "id": "2af55c06",
   "metadata": {
    "scrolled": true
   },
   "outputs": [],
   "source": [
    "# ! rm test.hdf5 && fmm generate-test-data -c test && fmm compute-operators -c test\n",
    "# ! rm 10_6_r.hdf5 && fmm generate-test-data -c 10_6_r && fmm compute-operators -c 10_6_r\n",
    "# ! rm 10_6_s.hdf5 && fmm generate-test-data -c 10_6_s && fmm compute-operators -c 10_6_s\n",
    "# ! rm 100_6_r.hdf5 && fmm generate-test-data -c 100_6_r && fmm compute-operators -c 100_6_r\n",
    "# ! rm 100_6_s.hdf5 && fmm generate-test-data -c 100_6_s && fmm compute-operators -c 100_6_s\n",
    "# ! rm full_6_r.hdf5 && fmm generate-test-data -c full_6_r && fmm compute-operators -c full_6_r\n",
    "# ! rm full_6_s.hdf5 && fmm generate-test-data -c full_6_s && fmm compute-operators -c full_6_s\n"
   ]
  },
  {
   "cell_type": "code",
   "execution_count": 4,
   "id": "d08d18d5",
   "metadata": {},
   "outputs": [],
   "source": [
    "# Discretisation order of check surface\n",
    "pvec = [6]\n",
    "kvec = [10, 100, 'full']\n",
    "\n",
    "\n",
    "# Load experimental data into PyExaFMM\n",
    "pyfmmvec = []\n",
    "\n",
    "for p in pvec:\n",
    "    for k in kvec:\n",
    "        pyfmmvec.append(Fmm(f'{k}_{p}_r'))\n",
    "        pyfmmvec.append(Fmm(f'{k}_{p}_s'))"
   ]
  },
  {
   "cell_type": "code",
   "execution_count": 5,
   "id": "0ca75a8c",
   "metadata": {},
   "outputs": [],
   "source": [
    "# Load experimental data into ExaFMM-T\n",
    "exafmmvec = []\n",
    "exafmmtreevec = []\n",
    "\n",
    "for e in pyfmmvec:\n",
    "    # create a list of source instances\n",
    "    sources = laplace.init_sources(e.sources, e.source_densities)\n",
    "\n",
    "    # create a list of target instances\n",
    "    targets = laplace.init_targets(e.targets)\n",
    "    \n",
    "    # Expansion order\n",
    "    p = e.config['order_equivalent']\n",
    "    fmm = laplace.LaplaceFmm(p=p, ncrit=e.config['max_points'], filename=f'{p}.dat')\n",
    "    exafmmvec.append(fmm)\n",
    "    \n",
    "    tree = laplace.setup(sources, targets, fmm)\n",
    "    exafmmtreevec.append(tree)"
   ]
  },
  {
   "cell_type": "markdown",
   "id": "768612c0",
   "metadata": {},
   "source": [
    "# Runtimes"
   ]
  },
  {
   "cell_type": "code",
   "execution_count": 6,
   "id": "e6fc31e2",
   "metadata": {},
   "outputs": [],
   "source": [
    "# Evaluate PyExaFMM experiments\n",
    "nruns = 3\n",
    "pytvec = [[] for _ in range(nruns)]\n",
    "for i in range(nruns):    \n",
    "    for e in pyfmmvec:\n",
    "        s = time.time()\n",
    "        e.run()\n",
    "        pytvec[i].append(time.time()-s)\n",
    "        \n",
    "pytvec = np.array(pytvec)"
   ]
  },
  {
   "cell_type": "code",
   "execution_count": 7,
   "id": "4d93ce68",
   "metadata": {},
   "outputs": [],
   "source": [
    "# Evaluate ExaFMM-T experiments\n",
    "nruns = 3\n",
    "extvec = [[] for _ in range(nruns)]\n",
    "for i in range(nruns):\n",
    "    for tree, fmm in list(zip(exafmmtreevec, exafmmvec)):\n",
    "        s = time.time()\n",
    "        laplace.evaluate(tree, fmm)\n",
    "        extvec[i].append(time.time()-s)\n",
    "extvec = np.array(extvec)"
   ]
  },
  {
   "cell_type": "code",
   "execution_count": 8,
   "id": "4ff4cbc7",
   "metadata": {},
   "outputs": [
    {
     "data": {
      "text/plain": [
       "array([17.74234605, 13.96312777, 22.83325942, 13.88112227, 54.43163498,\n",
       "       16.17445699])"
      ]
     },
     "execution_count": 8,
     "metadata": {},
     "output_type": "execute_result"
    }
   ],
   "source": [
    "pytvec.mean(axis=0)"
   ]
  },
  {
   "cell_type": "code",
   "execution_count": 9,
   "id": "79112c56",
   "metadata": {},
   "outputs": [
    {
     "data": {
      "text/plain": [
       "array([0.53001843, 0.24038297, 0.15603686, 0.18613309, 3.00320396,\n",
       "       0.13981452])"
      ]
     },
     "execution_count": 9,
     "metadata": {},
     "output_type": "execute_result"
    }
   ],
   "source": [
    "pytvec.std(axis=0)"
   ]
  },
  {
   "cell_type": "code",
   "execution_count": 10,
   "id": "a6ffcc7b",
   "metadata": {},
   "outputs": [
    {
     "data": {
      "text/plain": [
       "array([1.23510718, 0.97440958, 0.82706753, 0.95615061, 1.49348116,\n",
       "       1.43450491])"
      ]
     },
     "execution_count": 10,
     "metadata": {},
     "output_type": "execute_result"
    }
   ],
   "source": [
    "extvec.mean(axis=0)"
   ]
  },
  {
   "cell_type": "code",
   "execution_count": 11,
   "id": "4a31ffb2",
   "metadata": {},
   "outputs": [
    {
     "data": {
      "text/plain": [
       "array([0.05400449, 0.03173536, 0.05482355, 0.0078165 , 0.08554058,\n",
       "       0.31580335])"
      ]
     },
     "execution_count": 11,
     "metadata": {},
     "output_type": "execute_result"
    }
   ],
   "source": [
    "extvec.std(axis=0)"
   ]
  },
  {
   "cell_type": "code",
   "execution_count": 12,
   "id": "06d7d54e",
   "metadata": {},
   "outputs": [
    {
     "data": {
      "text/plain": [
       "array([[13.53295733, 15.08724659, 28.84370868, 14.34969448, 38.82627531,\n",
       "        10.24859253],\n",
       "       [14.41810458, 14.5444018 , 25.46048646, 14.75482242, 37.89902193,\n",
       "        16.06457661],\n",
       "       [15.21640667, 13.42477861, 28.83468361, 14.44923563, 32.91793506,\n",
       "         9.45496792]])"
      ]
     },
     "execution_count": 12,
     "metadata": {},
     "output_type": "execute_result"
    }
   ],
   "source": [
    "pytvec/extvec"
   ]
  },
  {
   "cell_type": "markdown",
   "id": "2ac47d17",
   "metadata": {},
   "source": [
    "# Memory"
   ]
  },
  {
   "cell_type": "code",
   "execution_count": 13,
   "id": "2e4852c1",
   "metadata": {},
   "outputs": [
    {
     "data": {
      "text/plain": [
       "17017"
      ]
     },
     "execution_count": 13,
     "metadata": {},
     "output_type": "execute_result"
    }
   ],
   "source": [
    "pyfmmvec[-1].nleaves"
   ]
  },
  {
   "cell_type": "code",
   "execution_count": 14,
   "id": "6e2700a1",
   "metadata": {},
   "outputs": [],
   "source": [
    "pymemvec = []\n",
    "\n",
    "for e in pyfmmvec:\n",
    "    pymemvec.append(max(memory_usage(e.run)))"
   ]
  },
  {
   "cell_type": "code",
   "execution_count": 15,
   "id": "545731cf",
   "metadata": {},
   "outputs": [
    {
     "data": {
      "text/plain": [
       "[8196.41796875,\n",
       " 6209.359375,\n",
       " 8196.578125,\n",
       " 6209.359375,\n",
       " 8196.578125,\n",
       " 6267.8828125]"
      ]
     },
     "execution_count": 15,
     "metadata": {},
     "output_type": "execute_result"
    }
   ],
   "source": [
    "pymemvec"
   ]
  },
  {
   "cell_type": "code",
   "execution_count": 16,
   "id": "746e9f82",
   "metadata": {
    "scrolled": true
   },
   "outputs": [],
   "source": [
    "exmemvec = []\n",
    "\n",
    "for tree, fmm in list(zip(exafmmtreevec, exafmmvec)):\n",
    "    def f(): laplace.evaluate(tree, fmm)\n",
    "    exmemvec.append(max(memory_usage(f)))"
   ]
  },
  {
   "cell_type": "code",
   "execution_count": 17,
   "id": "e16cac02",
   "metadata": {},
   "outputs": [
    {
     "data": {
      "text/plain": [
       "[5335.8203125,\n",
       " 5252.3515625,\n",
       " 4867.74609375,\n",
       " 5251.7109375,\n",
       " 5335.69140625,\n",
       " 5252.32421875]"
      ]
     },
     "execution_count": 17,
     "metadata": {},
     "output_type": "execute_result"
    }
   ],
   "source": [
    "exmemvec"
   ]
  },
  {
   "cell_type": "markdown",
   "id": "452ecf3a",
   "metadata": {},
   "source": [
    "# Accuracy"
   ]
  },
  {
   "cell_type": "code",
   "execution_count": null,
   "id": "f0661f8f",
   "metadata": {},
   "outputs": [],
   "source": [
    "direct = laplace_p2p_serial(\n",
    "    pyfmmvec[0].sources, \n",
    "    pyfmmvec[0].targets, \n",
    "    pyfmmvec[0].source_densities\n",
    ")"
   ]
  },
  {
   "cell_type": "code",
   "execution_count": 14,
   "id": "fc7b3eac",
   "metadata": {},
   "outputs": [],
   "source": [
    "pyfmmvec = [Fmm(f'C{C}E{C}') for C in Cvec]\n",
    "\n",
    "for e in pyfmmvec:\n",
    "    e.run()"
   ]
  },
  {
   "cell_type": "code",
   "execution_count": 17,
   "id": "4ec3e1d2",
   "metadata": {},
   "outputs": [
    {
     "data": {
      "text/plain": [
       "1888"
      ]
     },
     "execution_count": 17,
     "metadata": {},
     "output_type": "execute_result"
    }
   ],
   "source": [
    "pyfmmvec[-1].nleaves"
   ]
  },
  {
   "cell_type": "code",
   "execution_count": null,
   "id": "5f4336dc",
   "metadata": {},
   "outputs": [],
   "source": []
  }
 ],
 "metadata": {
  "kernelspec": {
   "display_name": "Python 3 (ipykernel)",
   "language": "python",
   "name": "python3"
  },
  "language_info": {
   "codemirror_mode": {
    "name": "ipython",
    "version": 3
   },
   "file_extension": ".py",
   "mimetype": "text/x-python",
   "name": "python",
   "nbconvert_exporter": "python",
   "pygments_lexer": "ipython3",
   "version": "3.8.10"
  }
 },
 "nbformat": 4,
 "nbformat_minor": 5
}
