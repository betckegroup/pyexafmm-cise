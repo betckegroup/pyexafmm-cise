{
 "cells": [
  {
   "cell_type": "code",
   "execution_count": 5,
   "id": "7ea5ad86",
   "metadata": {},
   "outputs": [],
   "source": [
    "import numpy as np\n",
    "\n",
    "# ExaFMM-T\n",
    "import exafmm.laplace as laplace\n",
    "\n",
    "# PyExaFMM\n",
    "from fmm import Fmm\n",
    "from fmm.kernel import laplace_p2p_serial, laplace_gradient\n",
    "from fmm.surface import scale_surface\n",
    "\n",
    "# Adaptoctree\n",
    "import adaptoctree.morton as morton\n",
    "import adaptoctree.tree as tree"
   ]
  },
  {
   "cell_type": "code",
   "execution_count": 3,
   "id": "9fd7e351",
   "metadata": {},
   "outputs": [],
   "source": [
    "# ! fmm generate-test-data -c test_random && fmm compute-operators -c test_random"
   ]
  },
  {
   "cell_type": "code",
   "execution_count": 6,
   "id": "8b91e47d",
   "metadata": {},
   "outputs": [
    {
     "data": {
      "text/plain": [
       "array([[ 15.34029  ,   2.0270848,  71.88409  ],\n",
       "       [ 52.69213  ,  58.177074 ,  38.692673 ],\n",
       "       [ 86.45617  ,  23.862509 ,  68.68593  ],\n",
       "       ...,\n",
       "       [-31.813215 , -64.628845 , -57.76195  ],\n",
       "       [-49.487106 , -21.039127 , -26.436289 ],\n",
       "       [-49.536842 ,   4.2401443,  -0.6216814]], dtype=float32)"
      ]
     },
     "execution_count": 6,
     "metadata": {},
     "output_type": "execute_result"
    }
   ],
   "source": [
    "e = Fmm('test')\n",
    "e.run()\n",
    "laplace_p2p_serial(e.sources, e.targets, e.source_densities)\n",
    "laplace_gradient(e.sources, e.targets, e.source_densities)"
   ]
  },
  {
   "cell_type": "code",
   "execution_count": 7,
   "id": "43cd6ff0",
   "metadata": {},
   "outputs": [],
   "source": [
    "e = Fmm('test_random')"
   ]
  },
  {
   "cell_type": "code",
   "execution_count": 8,
   "id": "21f756aa",
   "metadata": {},
   "outputs": [
    {
     "data": {
      "text/plain": [
       "32768"
      ]
     },
     "execution_count": 8,
     "metadata": {},
     "output_type": "execute_result"
    }
   ],
   "source": [
    "e.nleaves"
   ]
  },
  {
   "cell_type": "code",
   "execution_count": 9,
   "id": "d34f0bf2",
   "metadata": {},
   "outputs": [],
   "source": [
    "# direct = laplace_p2p_serial(\n",
    "#     e.sources,\n",
    "#     e.targets,\n",
    "#     e.source_densities\n",
    "# )"
   ]
  },
  {
   "cell_type": "code",
   "execution_count": 62,
   "id": "27f475bf",
   "metadata": {
    "scrolled": true
   },
   "outputs": [
    {
     "name": "stdout",
     "output_type": "stream",
     "text": [
      "Generating sphere sources & targets\n",
      "Computing operators\n",
      "Computing octree\n",
      "^C\n",
      "Generating sphere sources & targets\n",
      "Computing operators\n",
      "Computing octree\n",
      "Computing Inner Surface of Order 5\n",
      "Computing Outer Surface of Order 5\n",
      "Computing Inverse of Check To Equivalent Gram Matrix\n",
      "Computing M2M & L2L Operators\n",
      "Computed (1/8) M2M/L2L operators\n",
      "Computed (2/8) M2M/L2L operators\n",
      "Computed (3/8) M2M/L2L operators\n",
      "Computed (4/8) M2M/L2L operators\n",
      "Computed (5/8) M2M/L2L operators\n",
      "Computed (6/8) M2M/L2L operators\n",
      "Computed (7/8) M2M/L2L operators\n",
      "Computed (8/8) M2M/L2L operators\n",
      "Computed operators for (1/5) M2L Levels\n",
      "Computed operators for (2/5) M2L Levels\n",
      "^C\n",
      "Traceback (most recent call last):\n",
      "  File \"/home/sri/Github/pyexafmm/scripts/precompute_operators.py\", line 635, in <module>\n",
      "    main(**config)\n",
      "  File \"/home/sri/Github/pyexafmm/scripts/precompute_operators.py\", line 617, in main\n",
      "    compute_m2l(\n",
      "  File \"/home/sri/Github/pyexafmm/scripts/precompute_operators.py\", line 567, in compute_m2l\n",
      "    u, s, vt, hashes = compress_m2l_gram_matrix(\n",
      "  File \"/home/sri/Github/pyexafmm/scripts/precompute_operators.py\", line 124, in compress_m2l_gram_matrix\n",
      "    u, s, vt = randomized_svd(se2tc, k)\n",
      "  File \"/home/sri/anaconda3/envs/fmm/lib/python3.8/site-packages/scikit_learn-0.24.2-py3.8-linux-x86_64.egg/sklearn/utils/validation.py\", line 63, in inner_f\n",
      "    return f(*args, **kwargs)\n",
      "  File \"/home/sri/anaconda3/envs/fmm/lib/python3.8/site-packages/scikit_learn-0.24.2-py3.8-linux-x86_64.egg/sklearn/utils/extmath.py\", line 348, in randomized_svd\n",
      "    Q = randomized_range_finder(\n",
      "  File \"/home/sri/anaconda3/envs/fmm/lib/python3.8/site-packages/scikit_learn-0.24.2-py3.8-linux-x86_64.egg/sklearn/utils/validation.py\", line 63, in inner_f\n",
      "    return f(*args, **kwargs)\n",
      "  File \"/home/sri/anaconda3/envs/fmm/lib/python3.8/site-packages/scikit_learn-0.24.2-py3.8-linux-x86_64.egg/sklearn/utils/extmath.py\", line 233, in randomized_range_finder\n",
      "    Q, _ = linalg.lu(safe_sparse_dot(A, Q), permute_l=True)\n",
      "  File \"/home/sri/anaconda3/envs/fmm/lib/python3.8/site-packages/scikit_learn-0.24.2-py3.8-linux-x86_64.egg/sklearn/utils/validation.py\", line 63, in inner_f\n",
      "    return f(*args, **kwargs)\n",
      "  File \"/home/sri/anaconda3/envs/fmm/lib/python3.8/site-packages/scikit_learn-0.24.2-py3.8-linux-x86_64.egg/sklearn/utils/extmath.py\", line 152, in safe_sparse_dot\n",
      "    ret = a @ b\n",
      "KeyboardInterrupt\n",
      "\u001b[0m\n",
      "Aborted!\n",
      "Generating sphere sources & targets\n",
      "^C\n",
      "Traceback (most recent call last):\n",
      "  File \"/home/sri/Github/pyexafmm/scripts/generate_test_data.py\", line 168, in <module>\n",
      "    main(**config)\n",
      "  File \"/home/sri/Github/pyexafmm/scripts/generate_test_data.py\", line 135, in main\n",
      "    sources, targets, source_densities = data_function(npoints)\n",
      "  File \"/home/sri/Github/pyexafmm/scripts/generate_test_data.py\", line 112, in spherical_data\n",
      "    x = r * np.sin(theta) * np.cos(phi)\n",
      "KeyboardInterrupt\n",
      "\n",
      "Aborted!\n",
      "Generating sphere sources & targets\n",
      "^C\n",
      "Traceback (most recent call last):\n",
      "  File \"/home/sri/Github/pyexafmm/scripts/generate_test_data.py\", line 9, in <module>\n",
      "    import h5py\n",
      "  File \"/home/sri/anaconda3/envs/fmm/lib/python3.8/site-packages/h5py-2.10.0-py3.8-linux-x86_64.egg/h5py/__init__.py\", line 55, in <module>\n",
      "    from . import h5a, h5d, h5ds, h5f, h5fd, h5g, h5r, h5s, h5t, h5p, h5z, h5pl\n",
      "  File \"h5py/h5f.pyx\", line 351, in init h5py.h5f\n",
      "  File \"h5py/_objects.pyx\", line 51, in h5py._objects.with_phil\n",
      "  File \"<frozen importlib._bootstrap>\", line 989, in _find_and_load\n",
      "KeyboardInterrupt\n",
      "\n",
      "Aborted!\n"
     ]
    }
   ],
   "source": [
    "! rm C4E4.hdf5 && fmm generate-test-data -c C4E4 && fmm compute-operators -c C4E4\n",
    "! rm C5E5.hdf5 && fmm generate-test-data -c C5E5 && fmm compute-operators -c C5E5\n",
    "! rm C6E6.hdf5 && fmm generate-test-data -c C6E6 && fmm compute-operators -c C6E6\n",
    "! rm C7E7.hdf5 && fmm generate-test-data -c C7E7 && fmm compute-operators -c C7E7"
   ]
  },
  {
   "cell_type": "code",
   "execution_count": 22,
   "id": "6d2de227",
   "metadata": {},
   "outputs": [],
   "source": [
    "# Discretisation order of check surface\n",
    "Cvec = [4, 5, 6, 7]\n",
    "\n",
    "# Discretisation order of equivalent surface\n",
    "Evec = [4, 5, 6, 7]\n",
    "\n",
    "# Load experimental data into PyExaFMM\n",
    "pyfmmvec = [Fmm(f'C{C}E{C}') for C in Cvec]"
   ]
  },
  {
   "cell_type": "code",
   "execution_count": 31,
   "id": "14b95f58",
   "metadata": {},
   "outputs": [],
   "source": [
    "# Load experimental data into ExaFMM-T\n",
    "exafmmvec = []\n",
    "exafmmtreevec = []\n",
    "\n",
    "for e in pyfmmvec:\n",
    "    # create a list of source instances\n",
    "    sources = laplace.init_sources(e.sources, e.source_densities)\n",
    "\n",
    "    # create a list of target instances\n",
    "    targets = laplace.init_targets(e.targets)\n",
    "    \n",
    "    # Expansion order\n",
    "    p = e.config['order_equivalent']\n",
    "    fmm = laplace.LaplaceFmm(p=p, ncrit=e.config['max_points'], filename=f'C{p}E{p}.dat')\n",
    "    exafmmvec.append(fmm)\n",
    "    \n",
    "    tree = laplace.setup(sources, targets, fmm)\n",
    "    exafmmtreevec.append(tree)"
   ]
  },
  {
   "cell_type": "code",
   "execution_count": null,
   "id": "cb0b4cfe",
   "metadata": {},
   "outputs": [],
   "source": [
    "# Evaluate PyExaFMM experiments\n",
    "for e in pyfmmvec:\n",
    "    e.run()\n",
    "    "
   ]
  },
  {
   "cell_type": "code",
   "execution_count": 32,
   "id": "7540a0b2",
   "metadata": {},
   "outputs": [],
   "source": [
    "# Evaluate ExaFMM-T experiments\n",
    "trg_values = []\n",
    "for tree, fmm in list(zip(exafmmtreevec, exafmmvec)):\n",
    "    trg_values.append(laplace.evaluate(tree, fmm))"
   ]
  },
  {
   "cell_type": "code",
   "execution_count": 30,
   "id": "e93b00ae",
   "metadata": {},
   "outputs": [
    {
     "data": {
      "text/plain": [
       "array([48807.414, 50649.754, 49043.723, ..., 48949.71 , 48578.098,\n",
       "       49259.96 ], dtype=float32)"
      ]
     },
     "execution_count": 30,
     "metadata": {},
     "output_type": "execute_result"
    }
   ],
   "source": [
    "direct"
   ]
  },
  {
   "cell_type": "code",
   "execution_count": 59,
   "id": "9463e79a",
   "metadata": {},
   "outputs": [],
   "source": [
    "pyerrvec = []\n",
    "exerrvec = []\n",
    "\n",
    "for i in range(len(pyfmmvec)):\n",
    "    pyerrvec.append(np.mean(abs(pyfmmvec[i].target_potentials[:,0]-direct)/direct))\n",
    "    exerrvec.append(np.mean(abs(trg_values[i][:,0]-direct)/direct))"
   ]
  },
  {
   "cell_type": "code",
   "execution_count": 60,
   "id": "ee4231ce",
   "metadata": {},
   "outputs": [
    {
     "data": {
      "text/plain": [
       "[8.759181e-05, 2.8106256e-06, 1.5909669e-06, 1.7051891e-06]"
      ]
     },
     "execution_count": 60,
     "metadata": {},
     "output_type": "execute_result"
    }
   ],
   "source": [
    "pyerrvec"
   ]
  },
  {
   "cell_type": "code",
   "execution_count": 61,
   "id": "f4a0ce94",
   "metadata": {},
   "outputs": [
    {
     "data": {
      "text/plain": [
       "[7.663393e-05, 3.9089655e-06, 3.4128896e-06, 3.843031e-06]"
      ]
     },
     "execution_count": 61,
     "metadata": {},
     "output_type": "execute_result"
    }
   ],
   "source": [
    "exerrvec"
   ]
  },
  {
   "cell_type": "code",
   "execution_count": 56,
   "id": "44f021d9",
   "metadata": {},
   "outputs": [
    {
     "data": {
      "text/plain": [
       "array([[ 48807.277,  39147.848,  41694.375,  43357.35 ],\n",
       "       [ 50649.586,  48898.51 ,  48978.066,  35368.6  ],\n",
       "       [ 49043.566,  44093.234,  41412.508,  40503.21 ],\n",
       "       ...,\n",
       "       [ 48949.668, -41548.613, -39886.14 , -43950.746],\n",
       "       [ 48578.094, -38297.74 , -41545.324, -43492.91 ],\n",
       "       [ 49259.82 , -39362.04 , -42010.234, -48220.566]], dtype=float32)"
      ]
     },
     "execution_count": 56,
     "metadata": {},
     "output_type": "execute_result"
    }
   ],
   "source": [
    "pyfmmvec[-1].target_potentials"
   ]
  },
  {
   "cell_type": "code",
   "execution_count": 57,
   "id": "9deffda2",
   "metadata": {},
   "outputs": [
    {
     "data": {
      "text/plain": [
       "array([48807.414, 50649.754, 49043.723, ..., 48949.71 , 48578.098,\n",
       "       49259.96 ], dtype=float32)"
      ]
     },
     "execution_count": 57,
     "metadata": {},
     "output_type": "execute_result"
    }
   ],
   "source": [
    "direct"
   ]
  },
  {
   "cell_type": "code",
   "execution_count": 48,
   "id": "31aa578a",
   "metadata": {},
   "outputs": [
    {
     "data": {
      "text/plain": [
       "array([48811.742, 50656.63 , 49047.523, ..., 48953.797, 48582.863,\n",
       "       49263.883], dtype=float32)"
      ]
     },
     "execution_count": 48,
     "metadata": {},
     "output_type": "execute_result"
    }
   ],
   "source": [
    "pyfmmvec[0].target_potentials[:,0]"
   ]
  },
  {
   "cell_type": "code",
   "execution_count": 35,
   "id": "324c5c62",
   "metadata": {},
   "outputs": [
    {
     "data": {
      "text/plain": [
       "array([48811.742, 50656.63 , 49047.523, ..., 48953.797, 48582.863,\n",
       "       49263.883], dtype=float32)"
      ]
     },
     "execution_count": 35,
     "metadata": {},
     "output_type": "execute_result"
    }
   ],
   "source": [
    "pyfmmvec[0].target_potentials[:,0]"
   ]
  },
  {
   "cell_type": "code",
   "execution_count": 39,
   "id": "cec62ace",
   "metadata": {},
   "outputs": [
    {
     "data": {
      "text/plain": [
       "array([48811.336, 50654.934, 49047.098, ..., 48953.33 , 48582.316,\n",
       "       49263.02 ], dtype=float32)"
      ]
     },
     "execution_count": 39,
     "metadata": {},
     "output_type": "execute_result"
    }
   ],
   "source": [
    "trg_values[0][:,0]"
   ]
  },
  {
   "cell_type": "code",
   "execution_count": null,
   "id": "0b9beae5",
   "metadata": {},
   "outputs": [],
   "source": []
  }
 ],
 "metadata": {
  "kernelspec": {
   "display_name": "Python 3",
   "language": "python",
   "name": "python3"
  },
  "language_info": {
   "codemirror_mode": {
    "name": "ipython",
    "version": 3
   },
   "file_extension": ".py",
   "mimetype": "text/x-python",
   "name": "python",
   "nbconvert_exporter": "python",
   "pygments_lexer": "ipython3",
   "version": "3.8.10"
  }
 },
 "nbformat": 4,
 "nbformat_minor": 5
}
