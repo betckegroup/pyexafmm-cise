{
 "cells": [
  {
   "cell_type": "code",
   "execution_count": 1,
   "metadata": {},
   "outputs": [],
   "source": [
    "from collections import defaultdict\n",
    "\n",
    "import time\n",
    "import numpy as np\n",
    "\n",
    "from numba import njit, jit, objmode\n",
    "from numba.core import types\n",
    "from numba.typed import Dict, List\n",
    "\n",
    "import matplotlib.pyplot as plt"
   ]
  },
  {
   "cell_type": "markdown",
   "metadata": {},
   "source": [
    "# Test impact of number of arguments"
   ]
  },
  {
   "cell_type": "code",
   "execution_count": 2,
   "metadata": {},
   "outputs": [],
   "source": [
    "npoints = 1000\n",
    "a = np.arange(npoints)\n",
    "b = np.arange(npoints)\n",
    "c = np.arange(npoints)\n",
    "d = np.arange(npoints)\n",
    "e = np.arange(npoints)\n",
    "f = np.arange(npoints)\n",
    "g = np.arange(npoints)\n",
    "h = np.arange(npoints)\n",
    "i = np.arange(npoints)\n",
    "j = np.arange(npoints)\n",
    "k = np.arange(npoints)\n",
    "l = np.arange(npoints)\n",
    "m = np.arange(npoints)\n",
    "n = np.arange(npoints)\n",
    "o = np.arange(npoints)"
   ]
  },
  {
   "cell_type": "code",
   "execution_count": 3,
   "metadata": {},
   "outputs": [],
   "source": [
    "cpu_times = {}\n",
    "\n",
    "def jit_timer(f):\n",
    "    \"\"\"Measure cpu time, i.e. excluding boxing/unboxing time\"\"\"\n",
    "    jf = njit(f)\n",
    "    @njit\n",
    "    def wrapper(*args):\n",
    "        with objmode(start='float64'):\n",
    "            start = time.time()\n",
    "        g = jf(*args)\n",
    "        with objmode():\n",
    "            end = time.time()\n",
    "            run_time = end - start\n",
    "            if f.__name__ in cpu_times:\n",
    "                cpu_times[f.__name__] += [run_time]\n",
    "            else:\n",
    "                cpu_times[f.__name__] = [run_time]\n",
    "        return g\n",
    "    return wrapper\n"
   ]
  },
  {
   "cell_type": "code",
   "execution_count": 4,
   "metadata": {},
   "outputs": [],
   "source": [
    "dimvec = []\n",
    "mat = np.random.rand(1000, 1000)\n",
    "\n",
    "@jit_timer\n",
    "def foo(mat):\n",
    "    mat @ mat\n",
    "\n",
    "@jit_timer\n",
    "def one(a):\n",
    "#     return a[0]\n",
    "    return\n",
    "\n",
    "@jit_timer\n",
    "def two(a, b):\n",
    "#     return a[0]+b[0]\n",
    "    return\n",
    "\n",
    "@jit_timer\n",
    "def three(a, b, c):\n",
    "#     return a[0]+b[0]+c[0]\n",
    "    return\n",
    "\n",
    "@jit_timer\n",
    "def four(a, b, c, d):\n",
    "#     return a[0]+b[0]+c[0]+d[0]\n",
    "    return\n",
    "\n",
    "@jit_timer\n",
    "def five(a, b, c, d, e):\n",
    "#     return a[0]+b[0]+c[0]+d[0]+e[0]\n",
    "    return\n",
    "\n",
    "@jit_timer\n",
    "def six(a, b, c, d, e, f):\n",
    "#     return a[0]+b[0]+c[0]+d[0]+e[0]+f[0]\n",
    "    return\n",
    "\n",
    "@jit_timer\n",
    "def seven(a, b, c, d, e, f, g):\n",
    "#     return a[0]+b[0]+c[0]+d[0]+e[0]+f[0]+g[0]\n",
    "    return\n",
    "\n",
    "@jit_timer\n",
    "def eight(a, b, c, d, e, f, g, h):\n",
    "#     return a[0]+b[0]+c[0]+d[0]+e[0]+f[0]+g[0]+h[0]\n",
    "    return\n",
    "\n",
    "@jit_timer\n",
    "def nine(a, b, c, d, e, f, g, h, i):\n",
    "#     return a[0]+b[0]+c[0]+d[0]+e[0]+f[0]+g[0]+h[0]+i[0]\n",
    "    return\n",
    "\n",
    "@jit_timer\n",
    "def ten(a, b, c, d, e, f, g, h, i, j):\n",
    "#     return a[0]+b[0]+c[0]+d[0]+e[0]+f[0]+g[0]+h[0]+i[0]+j[0]\n",
    "    return\n",
    "\n",
    "@jit_timer\n",
    "def eleven(a, b, c, d, e, f, g, h, i, j, k):\n",
    "#     a[0]\n",
    "#     b[0]\n",
    "#     c[0]\n",
    "#     d[0]\n",
    "#     e[0]\n",
    "#     f[0]\n",
    "#     g[0]\n",
    "#     h[0]\n",
    "#     i[0]\n",
    "#     j[0]\n",
    "#     k[0]\n",
    "    return\n",
    "\n",
    "@jit_timer\n",
    "def twelve(a, b, c, d, e, f, g, h, i, j, k, l):\n",
    "#     a[0]\n",
    "#     b[0]\n",
    "#     c[0]\n",
    "#     d[0]\n",
    "#     e[0]\n",
    "#     f[0]\n",
    "#     g[0]\n",
    "#     h[0]\n",
    "#     i[0]\n",
    "#     j[0]\n",
    "#     k[0]\n",
    "#     l[0]\n",
    "    return\n",
    "\n",
    "@jit_timer\n",
    "def thirteen(a, b, c, d, e, f, g, h, i, j, k, l, m):\n",
    "#     return a[0]+b[0]+c[0]+d[0]+e[0]+f[0]+g[0]+h[0]+i[0]+j[0]+k[0]+l[0]+m[0]\n",
    "    return\n",
    "\n",
    "@jit_timer\n",
    "def fourteen(a, b, c, d, e, f, g, h, i, j, k, l, m, n):\n",
    "#     return a[0]+b[0]+c[0]+d[0]+e[0]+f[0]+g[0]+h[0]+i[0]+j[0]+k[0]+l[0]+m[0]+n[0]\n",
    "    return\n",
    "\n",
    "@jit_timer\n",
    "def fifteen(a, b, c, d, e, f, g, h, i, j, k, l, m, n, o):\n",
    "#     return a[0]+b[0]+c[0]+d[0]+e[0]+f[0]+g[0]+h[0]+i[0]+j[0]+k[0]+l[0]+m[0]+n[0]+o[0]\n",
    "    return\n",
    "\n",
    "@jit_timer\n",
    "def test_nargs():\n",
    "    foo(mat)\n",
    "    one(a)\n",
    "    two(a, b)\n",
    "    three(a, b, c)\n",
    "    four(a, b, c, d)\n",
    "    five(a, b, c, d, e)\n",
    "    six(a, b, c, d, e, f)\n",
    "    seven(a, b, c, d, e, f, g)\n",
    "    eight(a, b, c, d, e, f, g, h)\n",
    "    nine(a, b, c, d, e, f, g, h, i)\n",
    "    ten(a, b, c, d, e, f, g, h, i, j)\n",
    "    eleven(a, b, c, d, e, f, g, h, i, j, k)\n",
    "    twelve(a, b, c, d, e, f, g, h, i, j, k, l)\n",
    "    thirteen(a, b, c, d, e, f, g, h, i, j, k, l, m)\n",
    "    fourteen(a, b, c, d, e, f, g, h, i, j, k, l, m, n)\n",
    "    fifteen(a, b, c, d, e, f, g, h, i, j, k, l, m, n, o)\n",
    "\n",
    "    \n",
    "def profile_results():\n",
    "    l = []\n",
    "    for k in cpu_times:\n",
    "        a = np.asarray(cpu_times[k])\n",
    "        l += [[k+' '*(13-len(k)), np.sum(a[1:])]]\n",
    "    l = sorted(l, key=lambda x: x[1])\n",
    "    for i in range(len(l)):\n",
    "        print( l[i][0], \"{:.10f}\".format( l[i][1] ) )"
   ]
  },
  {
   "cell_type": "code",
   "execution_count": 5,
   "metadata": {
    "scrolled": true
   },
   "outputs": [],
   "source": [
    "for k, v in one.inspect_llvm().items():\n",
    "    print(v)"
   ]
  },
  {
   "cell_type": "code",
   "execution_count": 6,
   "metadata": {},
   "outputs": [],
   "source": [
    "ntrials = 5\n",
    "\n",
    "test_nargs()\n",
    "\n",
    "for _ in range(ntrials):\n",
    "    test_nargs()"
   ]
  },
  {
   "cell_type": "code",
   "execution_count": 7,
   "metadata": {},
   "outputs": [],
   "source": [
    "clock_times = defaultdict(list)\n",
    "\n",
    "for _ in range(ntrials):\n",
    "\n",
    "    start = time.time()\n",
    "    one(a)\n",
    "    ta = time.time()-start\n",
    "    clock_times['one'].append(ta)\n",
    "\n",
    "    start = time.time()\n",
    "    two(a, b)\n",
    "    tb = (time.time()-start)\n",
    "    clock_times['two'].append(tb)\n",
    "\n",
    "    start = time.time()\n",
    "    three(a, b, c)\n",
    "    tc = (time.time()-start)\n",
    "    clock_times['three'].append(tc)\n",
    "\n",
    "    start = time.time()\n",
    "    four(a, b, c, d)\n",
    "    td = (time.time()-start)\n",
    "    clock_times['four'].append(td)\n",
    "                            \n",
    "    start = time.time()\n",
    "    five(a, b, c, d, e)\n",
    "    te = (time.time()-start)\n",
    "    clock_times['five'].append(te)\n",
    "\n",
    "    start = time.time()\n",
    "    six(a, b, c, d, e, f)\n",
    "    tf = (time.time()-start)\n",
    "    clock_times['six'].append(tf)\n",
    "\n",
    "    start = time.time()\n",
    "    seven(a, b, c, d, e, f, g)\n",
    "    tg = (time.time()-start)\n",
    "    clock_times['seven'].append(tg)\n",
    "\n",
    "    start = time.time()\n",
    "    eight(a, b, c, d, e, f, g, h)\n",
    "    th = (time.time()-start)\n",
    "    clock_times['eight'].append(th)\n",
    "\n",
    "    start = time.time()\n",
    "    nine(a, b, c, d, e, f, g, h, i)\n",
    "    ti = (time.time()-start)\n",
    "    clock_times['nine'].append(ti)\n",
    "\n",
    "    start = time.time()\n",
    "    ten(a, b, c, d, e, f, g, h, i, j)\n",
    "    tj = (time.time()-start)\n",
    "    clock_times['ten'].append(tj)\n",
    "    \n",
    "    start = time.time()\n",
    "    eleven(a, b, c, d, e, f, g, h, i, j, k)\n",
    "    tk = (time.time()-start)\n",
    "    clock_times['eleven'].append(tk)\n",
    "\n",
    "    start = time.time()\n",
    "    twelve(a, b, c, d, e, f, g, h, i, j, k, l)\n",
    "    tl = (time.time()-start)\n",
    "    clock_times['twelve'].append(tl)\n",
    "    \n",
    "    start = time.time()\n",
    "    thirteen(a, b, c, d, e, f, g, h, i, j, k, l, m)\n",
    "    tm = (time.time()-start)\n",
    "    clock_times['thirteen'].append(tm)\n",
    "    \n",
    "    start = time.time()\n",
    "    fourteen(a, b, c, d, e, f, g, h, i, j, k, l, m, n)\n",
    "    tn = (time.time()-start)\n",
    "    clock_times['fourteen'].append(tn)\n",
    "    \n",
    "    start = time.time()\n",
    "    fifteen(a, b, c, d, e, f, g, h, i, j, k, l, m, n, o)\n",
    "    to = (time.time()-start) \n",
    "    clock_times['fifteen'].append(to)"
   ]
  },
  {
   "cell_type": "code",
   "execution_count": 8,
   "metadata": {},
   "outputs": [],
   "source": [
    "matmul_time = cpu_times['foo']\n",
    "del cpu_times['foo']"
   ]
  },
  {
   "cell_type": "code",
   "execution_count": 10,
   "metadata": {},
   "outputs": [],
   "source": [
    "ratio = dict()\n",
    "for k,v in clock_times.items():\n",
    "    # Exclude compilation time\n",
    "#     ratio[k] = np.min(clock_times[k][1:])/np.min(cpu_times[k][1:])\n",
    "    ratio[k] = np.min(clock_times[k][1:])/np.min(matmul_time)"
   ]
  },
  {
   "cell_type": "code",
   "execution_count": 11,
   "metadata": {},
   "outputs": [
    {
     "data": {
      "image/png": "[encoded data removed]",
      "text/plain": [
       "<Figure size 432x288 with 2 Axes>"
      ]
     },
     "metadata": {
      "needs_background": "light"
     },
     "output_type": "display_data"
    }
   ],
   "source": [
    "fig, ax = plt.subplots()\n",
    "xvec = range(len(ratio))\n",
    "yvec = [np.min(clock_times[k])/1e-6 for k, v in clock_times.items()]\n",
    "ax.plot(xvec, yvec, '-o')\n",
    "ax.set_xticks(xvec)\n",
    "ax.set_xticklabels([x+1 for x in xvec])\n",
    "ax.set_ylabel('Wall Times ($\\mu s$)')\n",
    "ax.set_xlabel('Number of Arguments')\n",
    "\n",
    "ax2 = ax.twinx()  # instantiate a second axes that shares the same x-axis\n",
    "\n",
    "# color = 'tab:red'\n",
    "# ax2.set_ylabel('Ratio of Wall Time to 1000x1000 Matmul (%)')  # we already handled the x-label with ax1\n",
    "ax2.set_ylabel('Ratio of Total Wall Time to Matmul Time (%)')\n",
    "\n",
    "yvec2 = np.array(list(ratio.values()))*100\n",
    "ax2.plot(xvec, yvec2, '-o')\n",
    "# ax2.tick_params(axis='y', labelcolor=color)\n",
    "\n",
    "fig.tight_layout()  # otherwise the right y-label is slightly clipped"
   ]
  },
  {
   "cell_type": "code",
   "execution_count": 12,
   "metadata": {},
   "outputs": [
    {
     "name": "stdout",
     "output_type": "stream",
     "text": [
      "11.6 ms ± 328 µs per loop (mean ± std. dev. of 7 runs, 1 loop each)\n"
     ]
    }
   ],
   "source": [
    "%%timeit\n",
    "foo(mat)"
   ]
  },
  {
   "cell_type": "code",
   "execution_count": 13,
   "metadata": {},
   "outputs": [
    {
     "data": {
      "text/plain": [
       "{'one': 0.00024344227375083682,\n",
       " 'two': 0.00022315541760493376,\n",
       " 'three': 0.0002028685614590307,\n",
       " 'four': 0.00024344227375083682,\n",
       " 'five': 0.004909419187308543,\n",
       " 'six': 0.005234008885642992,\n",
       " 'seven': 0.005802040857728278,\n",
       " 'eight': 0.006390359685959467,\n",
       " 'nine': 0.0069989653703365585,\n",
       " 'ten': 0.007607571054713651,\n",
       " 'eleven': 0.008175603026798936,\n",
       " 'twelve': 0.008763921855030126,\n",
       " 'thirteen': 0.009372527539407219,\n",
       " 'fourteen': 0.0099202726553466,\n",
       " 'fifteen': 0.010934615462641755}"
      ]
     },
     "execution_count": 13,
     "metadata": {},
     "output_type": "execute_result"
    }
   ],
   "source": [
    "ratio"
   ]
  },
  {
   "cell_type": "markdown",
   "metadata": {},
   "source": [
    "# Test impact of argument type"
   ]
  },
  {
   "cell_type": "code",
   "execution_count": 14,
   "metadata": {},
   "outputs": [],
   "source": [
    "a = np.arange(1000, dtype=np.float64)\n",
    "b = np.arange(1000, dtype=np.int64)\n",
    "c = \"short string\"\n",
    "# d = b*10 # long string\n",
    "\n",
    "# Typed dict\n",
    "d = Dict.empty(\n",
    "    key_type=types.int64,\n",
    "    value_type=types.float64[:],\n",
    ")\n",
    "\n",
    "d[0] = np.asarray([1, 0.5, 2], dtype='f8')\n",
    "\n",
    "# Typed list\n",
    "e = List(list(range(100)))"
   ]
  },
  {
   "cell_type": "code",
   "execution_count": 15,
   "metadata": {},
   "outputs": [],
   "source": [
    "cpu_times = {}\n",
    "\n",
    "@jit_timer\n",
    "def fa(a):\n",
    "    return a[0]\n",
    "\n",
    "@jit_timer\n",
    "def fa(a):\n",
    "    return a[0]\n",
    "\n",
    "@jit_timer\n",
    "def fb(a):\n",
    "    return a[0]\n",
    "\n",
    "@jit_timer\n",
    "def fc(a):\n",
    "    return a[0]\n",
    "\n",
    "@jit_timer\n",
    "def fd(d):\n",
    "    return d[0]\n",
    "\n",
    "@jit_timer\n",
    "def fe(f):\n",
    "    return f[0]\n",
    "\n",
    "@jit_timer\n",
    "def test_argtype(d, e):\n",
    "    fa(a)\n",
    "    fb(b)\n",
    "    fc(c)\n",
    "    fd(d)\n",
    "    fe(e)"
   ]
  },
  {
   "cell_type": "code",
   "execution_count": 16,
   "metadata": {},
   "outputs": [],
   "source": [
    "test_argtype(d, e)\n",
    "test_argtype(d, e)"
   ]
  },
  {
   "cell_type": "code",
   "execution_count": 17,
   "metadata": {},
   "outputs": [],
   "source": [
    "clock_times = defaultdict(list)\n",
    "ntrials = 5\n",
    "\n",
    "for _ in range(ntrials):\n",
    "    start = time.time()\n",
    "    fa(a)\n",
    "    ta = (time.time()-start)\n",
    "    clock_times['fa'].append(ta)\n",
    "    \n",
    "    start = time.time()\n",
    "    fb(b)\n",
    "    tb = (time.time()-start)\n",
    "    clock_times['fb'].append(tb)\n",
    "    \n",
    "    start = time.time()\n",
    "    fc(c)\n",
    "    tc = (time.time()-start)\n",
    "    clock_times['fc'].append(tc)\n",
    "    \n",
    "    start = time.time()\n",
    "    fd(d)\n",
    "    td = (time.time()-start)\n",
    "    clock_times['fd'].append(td)\n",
    "    \n",
    "    start = time.time()\n",
    "    fe(e)\n",
    "    te = (time.time()-start)\n",
    "    clock_times['fe'].append(te)"
   ]
  },
  {
   "cell_type": "code",
   "execution_count": 18,
   "metadata": {},
   "outputs": [
    {
     "data": {
      "text/plain": [
       "4.947185516357422e-06"
      ]
     },
     "execution_count": 18,
     "metadata": {},
     "output_type": "execute_result"
    }
   ],
   "source": [
    "np.mean(clock_times['fa'][1:])"
   ]
  },
  {
   "cell_type": "code",
   "execution_count": 22,
   "metadata": {},
   "outputs": [],
   "source": [
    "ratio = dict()\n",
    "for k,v in clock_times.items():\n",
    "    # Exclude compilation time\n",
    "    ratio[k] = np.min(clock_times[k])/np.min(matmul_time)"
   ]
  },
  {
   "cell_type": "code",
   "execution_count": 23,
   "metadata": {},
   "outputs": [
    {
     "data": {
      "text/plain": [
       "{'fa': 0.00016229484916722455,\n",
       " 'fb': 0.00018258170531312764,\n",
       " 'fc': 0.0012172113687541842,\n",
       " 'fd': 0.0018258170531312763,\n",
       " 'fe': 0.0017040959162558577}"
      ]
     },
     "execution_count": 23,
     "metadata": {},
     "output_type": "execute_result"
    }
   ],
   "source": [
    "ratio"
   ]
  },
  {
   "cell_type": "code",
   "execution_count": 24,
   "metadata": {},
   "outputs": [
    {
     "data": {
      "image/png": "[encoded data removed]",
      "text/plain": [
       "<Figure size 432x288 with 1 Axes>"
      ]
     },
     "metadata": {
      "needs_background": "light"
     },
     "output_type": "display_data"
    }
   ],
   "source": [
    "fig, ax = plt.subplots()\n",
    "xlabels = ['Float Array', 'Int Array', 'String', 'Dict', 'List']\n",
    "xvec = list(range(len(xlabels)))\n",
    "yvec = np.array(list(ratio.values()))*100\n",
    "ax.bar(xvec, yvec)\n",
    "ax.set_xticks(xvec)\n",
    "ax.set_xticklabels(xlabels)\n",
    "ax.set_ylabel('Ratio of Total Wall Time to Matmul Time (%)')\n",
    "ax.set_xlabel('Argument Type')\n",
    "plt.show()"
   ]
  },
  {
   "cell_type": "code",
   "execution_count": null,
   "metadata": {},
   "outputs": [],
   "source": []
  }
 ],
 "metadata": {
  "kernelspec": {
   "display_name": "Python 3",
   "language": "python",
   "name": "python3"
  },
  "language_info": {
   "codemirror_mode": {
    "name": "ipython",
    "version": 3
   },
   "file_extension": ".py",
   "mimetype": "text/x-python",
   "name": "python",
   "nbconvert_exporter": "python",
   "pygments_lexer": "ipython3",
   "version": "3.8.5"
  }
 },
 "nbformat": 4,
 "nbformat_minor": 5
}
