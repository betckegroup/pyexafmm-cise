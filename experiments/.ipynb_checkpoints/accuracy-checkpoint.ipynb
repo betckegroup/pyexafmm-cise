{
 "cells": [
  {
   "cell_type": "code",
   "execution_count": 2,
   "id": "decreased-promotion",
   "metadata": {},
   "outputs": [],
   "source": [
    "import time\n",
    "\n",
    "import numpy as np\n",
    "import exafmm.laplace as laplace\n",
    "\n",
    "from fmm import Fmm\n",
    "from fmm.kernel import laplace_p2p_serial, laplace_p2p_parallel"
   ]
  },
  {
   "cell_type": "code",
   "execution_count": 3,
   "id": "45fb038c",
   "metadata": {},
   "outputs": [],
   "source": [
    "def timer(f, *args, **kwargs):\n",
    "    s = time.time()\n",
    "    res = f(*args, **kwargs)\n",
    "    print(f'Runtime: {time.time()-s:.2f} s')\n",
    "    return res"
   ]
  },
  {
   "cell_type": "markdown",
   "id": "fd4b05d4",
   "metadata": {},
   "source": [
    "# 1) Effect of m2l compression on accuracy"
   ]
  },
  {
   "cell_type": "markdown",
   "id": "f3a43573",
   "metadata": {},
   "source": [
    "# 2) How much does condition number effect inversion of c2e matrix?"
   ]
  },
  {
   "cell_type": "code",
   "execution_count": 63,
   "id": "0cdcd16f",
   "metadata": {},
   "outputs": [
    {
     "name": "stdout",
     "output_type": "stream",
     "text": [
      "Runtime: 61.11 s\n"
     ]
    }
   ],
   "source": [
    "exp = Fmm()\n",
    "timer(exp.run)"
   ]
  },
  {
   "cell_type": "code",
   "execution_count": 64,
   "id": "5c34a06b",
   "metadata": {},
   "outputs": [],
   "source": [
    "# Set same sources, targets and source densities\n",
    "src_coords = exp.sources\n",
    "trg_coords = exp.targets\n",
    "src_charges = exp.source_densities"
   ]
  },
  {
   "cell_type": "code",
   "execution_count": 65,
   "id": "9769f331",
   "metadata": {},
   "outputs": [],
   "source": [
    "# create a list of source instances\n",
    "sources = laplace.init_sources(src_coords, src_charges)\n",
    "\n",
    "# create a list of target instances\n",
    "targets = laplace.init_targets(trg_coords)"
   ]
  },
  {
   "cell_type": "code",
   "execution_count": 66,
   "id": "87bf6a5b",
   "metadata": {},
   "outputs": [],
   "source": [
    "fmm = laplace.LaplaceFmm(p=5, ncrit=exp.config['max_points'], filename=\"test_file.dat\")"
   ]
  },
  {
   "cell_type": "code",
   "execution_count": 67,
   "id": "29b0e1bf",
   "metadata": {},
   "outputs": [],
   "source": [
    "tree = laplace.setup(sources, targets, fmm)"
   ]
  },
  {
   "cell_type": "code",
   "execution_count": 68,
   "id": "ed96eb4e",
   "metadata": {},
   "outputs": [
    {
     "name": "stdout",
     "output_type": "stream",
     "text": [
      "Runtime: 3.12 s\n"
     ]
    }
   ],
   "source": [
    "trg_values = timer(laplace.evaluate, tree, fmm)"
   ]
  },
  {
   "cell_type": "code",
   "execution_count": 69,
   "id": "c88cfe06",
   "metadata": {},
   "outputs": [
    {
     "data": {
      "text/plain": [
       "array([ 97763.45, 101390.26,  98246.19, ...,  98008.04,  97261.36,\n",
       "        98603.95], dtype=float32)"
      ]
     },
     "execution_count": 69,
     "metadata": {},
     "output_type": "execute_result"
    }
   ],
   "source": [
    "exp.target_potentials"
   ]
  },
  {
   "cell_type": "code",
   "execution_count": 70,
   "id": "9c11ea22",
   "metadata": {},
   "outputs": [
    {
     "data": {
      "text/plain": [
       "array([ 97694.39134493, 101362.63965097,  98183.52199907, ...,\n",
       "        97938.88797675,  97181.19814419,  98547.75662048])"
      ]
     },
     "execution_count": 70,
     "metadata": {},
     "output_type": "execute_result"
    }
   ],
   "source": [
    "trg_values[:, 0]"
   ]
  },
  {
   "cell_type": "code",
   "execution_count": 71,
   "id": "59613a9a",
   "metadata": {},
   "outputs": [
    {
     "data": {
      "text/plain": [
       "True"
      ]
     },
     "execution_count": 71,
     "metadata": {},
     "output_type": "execute_result"
    }
   ],
   "source": [
    "np.allclose(exp.target_potentials, trg_values[:, 0], rtol=0.002, atol=0)"
   ]
  },
  {
   "cell_type": "code",
   "execution_count": null,
   "id": "9fcb9e52",
   "metadata": {},
   "outputs": [],
   "source": []
  }
 ],
 "metadata": {
  "kernelspec": {
   "display_name": "Python 3",
   "language": "python",
   "name": "python3"
  },
  "language_info": {
   "codemirror_mode": {
    "name": "ipython",
    "version": 3
   },
   "file_extension": ".py",
   "mimetype": "text/x-python",
   "name": "python",
   "nbconvert_exporter": "python",
   "pygments_lexer": "ipython3",
   "version": "3.8.10"
  }
 },
 "nbformat": 4,
 "nbformat_minor": 5
}
