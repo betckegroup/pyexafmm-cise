{
 "cells": [
  {
   "cell_type": "code",
   "execution_count": 1,
   "id": "a2640a88",
   "metadata": {},
   "outputs": [],
   "source": [
    "import time\n",
    "\n",
    "import numba\n",
    "import numpy as np\n",
    "\n",
    "# ExaFMM-T\n",
    "import exafmm.laplace as laplace\n",
    "\n",
    "# PyExaFMM\n",
    "from fmm import Fmm\n",
    "import fmm.kernel as kernel"
   ]
  },
  {
   "cell_type": "code",
   "execution_count": 7,
   "id": "43250075",
   "metadata": {},
   "outputs": [
    {
     "name": "stdout",
     "output_type": "stream",
     "text": [
      "Generating random sources & targets\n",
      "Computing operators\n",
      "Computing octree\n",
      "Computing Inner Surface of Order 4\n",
      "Computing Outer Surface of Order 4\n",
      "Computing Inverse of Check To Equivalent Gram Matrix\n",
      "Computing M2M & L2L Operators\n",
      "Computed (1/8) M2M/L2L operators\n",
      "Computed (2/8) M2M/L2L operators\n",
      "Computed (3/8) M2M/L2L operators\n",
      "Computed (4/8) M2M/L2L operators\n",
      "Computed (5/8) M2M/L2L operators\n",
      "Computed (6/8) M2M/L2L operators\n",
      "Computed (7/8) M2M/L2L operators\n",
      "Computed (8/8) M2M/L2L operators\n",
      "Computed operators for (1/4) M2L Levels\n",
      "Computed operators for (2/4) M2L Levels\n",
      "Computed operators for (3/4) M2L Levels\n",
      "Computed operators for (4/4) M2L Levels\n",
      "Total time elapsed 0 minutes and 12 seconds\n",
      "\u001b[0m"
     ]
    }
   ],
   "source": [
    "! rm test.hdf5 && fmm generate-test-data -c test && fmm compute-operators -c test"
   ]
  },
  {
   "cell_type": "markdown",
   "id": "54ef21e7",
   "metadata": {},
   "source": [
    "# Test the speed of kernel evaluation"
   ]
  },
  {
   "cell_type": "code",
   "execution_count": 8,
   "id": "2b24748e",
   "metadata": {},
   "outputs": [],
   "source": [
    "M_INV_4PI = 1.0 / (4*np.pi)\n",
    "\n",
    "\n",
    "def laplace_cpu_non_optimized(x, y):\n",
    "    \"\"\"\n",
    "    Numba Laplace CPU kernel.\n",
    "\n",
    "    Parameters:\n",
    "    -----------\n",
    "    x : np.array(shape=(3), dtype=np.float32)\n",
    "        Source coordinate.\n",
    "    y : np.array(shape=(3), dtype=np.float32)\n",
    "        Target coordinate.\n",
    "\n",
    "    Returns:\n",
    "    --------\n",
    "    np.float32\n",
    "    \"\"\"\n",
    "    diff = (x[0]-y[0])**2+(x[1]-y[1])**2+(x[2]-y[2])**2\n",
    "    tmp = np.reciprocal(np.sqrt(diff))*M_INV_4PI\n",
    "    res = tmp if tmp < np.inf else 0.\n",
    "    return res\n",
    "\n",
    "\n",
    "@numba.njit(cache=True, parallel=True, fastmath=True, error_model=\"numpy\")\n",
    "def laplace_p2p(sources, targets, source_densities):\n",
    "    \"\"\"\n",
    "    Numba P2P operator for Laplace kernel.\n",
    "    \"\"\"\n",
    "    ntargets = len(targets)\n",
    "    nsources = len(sources)\n",
    "\n",
    "    target_densities = np.zeros(shape=(ntargets), dtype=np.float32)\n",
    "\n",
    "    for i in numba.prange(ntargets):\n",
    "        target = targets[i]\n",
    "        potential = 0\n",
    "        for j in range(nsources):\n",
    "            source = sources[j]\n",
    "            source_density = source_densities[j]\n",
    "            potential += kernel.laplace_cpu(target, source)*source_density\n",
    "\n",
    "        target_densities[i] = potential\n",
    "\n",
    "    return target_densities\n",
    "\n",
    "\n",
    "def laplace_p2p_non_optimized(sources, targets, source_densities):\n",
    "    \"\"\"\n",
    "    Numba P2P operator for Laplace kernel.\n",
    "    \"\"\"\n",
    "    ntargets = len(targets)\n",
    "    nsources = len(sources)\n",
    "\n",
    "    target_densities = np.zeros(shape=(ntargets), dtype=np.float32)\n",
    "\n",
    "    for i in range(ntargets):\n",
    "        target = targets[i]\n",
    "        potential = 0\n",
    "        for j in range(nsources):\n",
    "            source = sources[j]\n",
    "            source_density = source_densities[j]\n",
    "            potential += laplace_cpu_non_optimized(target, source)*source_density\n",
    "\n",
    "        target_densities[i] = potential\n",
    "\n",
    "    return target_densities"
   ]
  },
  {
   "cell_type": "markdown",
   "id": "57f4bafd",
   "metadata": {},
   "source": [
    "### Setup ExaFMM-T Experiment"
   ]
  },
  {
   "cell_type": "code",
   "execution_count": 9,
   "id": "43ddf99b",
   "metadata": {},
   "outputs": [],
   "source": [
    "e = Fmm('test')\n",
    "\n",
    "# create a list of source instances\n",
    "sources = laplace.init_sources(e.sources, e.source_densities)\n",
    "\n",
    "# create a list of target instances\n",
    "targets = laplace.init_targets(e.targets)\n",
    "\n",
    "p = e.config['order_equivalent']\n",
    "fmm = laplace.LaplaceFmm(\n",
    "    p=e.config['order_equivalent'], \n",
    "    ncrit=e.config['max_points'], \n",
    "    filename=f'C{p}E{p}.dat'\n",
    ")    \n",
    "tree = laplace.setup(sources, targets, fmm)\n",
    "result = laplace.evaluate(tree, fmm)"
   ]
  },
  {
   "cell_type": "markdown",
   "id": "133c2f80",
   "metadata": {},
   "source": [
    "### Run kernel evaluations\n",
    "\n",
    "For ExaFMM-T, the source code in the verify function has been edited to remove error, and gradient calculations."
   ]
  },
  {
   "cell_type": "code",
   "execution_count": 12,
   "id": "bc94ed84",
   "metadata": {},
   "outputs": [
    {
     "data": {
      "text/plain": [
       "78.5"
      ]
     },
     "execution_count": 12,
     "metadata": {},
     "output_type": "execute_result"
    }
   ],
   "source": [
    "(4.71*1000)/60"
   ]
  },
  {
   "cell_type": "code",
   "execution_count": 5,
   "id": "25c3eb75",
   "metadata": {},
   "outputs": [
    {
     "name": "stdout",
     "output_type": "stream",
     "text": [
      "23.3 ms ± 1.04 ms per loop (mean ± std. dev. of 7 runs, 10 loops each)\n"
     ]
    }
   ],
   "source": [
    "# ExaFMM-T\n",
    "%timeit r = fmm.verify(tree.leafs, sample=False)"
   ]
  },
  {
   "cell_type": "code",
   "execution_count": 6,
   "id": "36e41ce6",
   "metadata": {},
   "outputs": [
    {
     "name": "stdout",
     "output_type": "stream",
     "text": [
      "43.7 ms ± 1.21 ms per loop (mean ± std. dev. of 7 runs, 1 loop each)\n"
     ]
    }
   ],
   "source": [
    "# Numba Kernel\n",
    "%timeit laplace_p2p(e.sources, e.targets, e.source_densities)"
   ]
  },
  {
   "cell_type": "code",
   "execution_count": null,
   "id": "6f2816d1",
   "metadata": {},
   "outputs": [],
   "source": []
  }
 ],
 "metadata": {
  "kernelspec": {
   "display_name": "Python 3",
   "language": "python",
   "name": "python3"
  },
  "language_info": {
   "codemirror_mode": {
    "name": "ipython",
    "version": 3
   },
   "file_extension": ".py",
   "mimetype": "text/x-python",
   "name": "python",
   "nbconvert_exporter": "python",
   "pygments_lexer": "ipython3",
   "version": "3.8.10"
  }
 },
 "nbformat": 4,
 "nbformat_minor": 5
}
