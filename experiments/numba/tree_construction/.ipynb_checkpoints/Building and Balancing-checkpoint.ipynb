{
 "cells": [
  {
   "cell_type": "code",
   "execution_count": 50,
   "id": "07cd72ec",
   "metadata": {},
   "outputs": [],
   "source": [
    "import time\n",
    "\n",
    "import numba\n",
    "import numpy as np\n",
    "\n",
    "# ExaFMM-T\n",
    "import exafmm.laplace as laplace\n",
    "\n",
    "import adaptoctree.tree as tree\n",
    "import adaptoctree.morton as morton"
   ]
  },
  {
   "cell_type": "code",
   "execution_count": 51,
   "id": "4cded4b2",
   "metadata": {},
   "outputs": [],
   "source": [
    "# Generate randomly distributed 3D points in a unit cube domain\n",
    "n_points = [int(i) for i in [1e4, 1e5, 1e6]]\n",
    "\n",
    "pointsvec = [np.random.rand(n, 3) for n in n_points]\n",
    "densitiesvec = [np.random.rand(n) for n in n_points]\n",
    "# Build parameters\n",
    "max_level = 16 # Maximum level allowed in AdaptOctree\n",
    "max_points = 100 # The maximum points per node constraint\n",
    "start_level = 1 # Initial level, to start tree construction from"
   ]
  },
  {
   "cell_type": "code",
   "execution_count": 52,
   "id": "5c88be53",
   "metadata": {
    "scrolled": true
   },
   "outputs": [
    {
     "name": "stdout",
     "output_type": "stream",
     "text": [
      "10000\n",
      "3\n",
      "(512,)\n",
      "\n",
      "10000\n",
      "3\n",
      "(512,)\n",
      "\n",
      "10000\n",
      "3\n",
      "(512,)\n",
      "\n",
      "10000\n",
      "3\n",
      "(512,)\n",
      "\n",
      "10000\n",
      "3\n",
      "(512,)\n",
      "\n",
      "100000\n",
      "4\n",
      "(4096,)\n",
      "\n",
      "100000\n",
      "4\n",
      "(4096,)\n",
      "\n",
      "100000\n",
      "4\n",
      "(4096,)\n",
      "\n",
      "100000\n",
      "4\n",
      "(4096,)\n",
      "\n",
      "100000\n",
      "4\n",
      "(4096,)\n",
      "\n",
      "1000000\n",
      "5\n",
      "(32768,)\n",
      "\n",
      "1000000\n",
      "5\n",
      "(32768,)\n",
      "\n",
      "1000000\n",
      "5\n",
      "(32768,)\n",
      "\n",
      "1000000\n",
      "5\n",
      "(32768,)\n",
      "\n",
      "1000000\n",
      "5\n",
      "(32768,)\n",
      "\n"
     ]
    }
   ],
   "source": [
    "nruns = 5\n",
    "\n",
    "buildtimes = [[] for _ in range(nruns)]\n",
    "balancetimes = [[] for _ in range(nruns)]\n",
    "\n",
    "for j in range(len(n_points)):\n",
    "    for i in range(nruns):\n",
    "        s = time.time()\n",
    "        unbalanced = tree.build(pointsvec[j], max_level, max_points, start_level)\n",
    "\n",
    "        buildtimes[i].append(time.time()-s)\n",
    "\n",
    "        # Now balance the unbalanced tree\n",
    "        depth = np.max(morton.find_level(unbalanced)) # Maximum depth achieved in octree\n",
    "#         print(n_points[j])\n",
    "#         print(depth)\n",
    "        s = time.time()\n",
    "        balanced = tree.balance(unbalanced, depth)\n",
    "#         print(balanced.shape)\n",
    "#         print()\n",
    "        balancetimes[i].append(time.time()-s)\n",
    "\n",
    "buildtimes = np.array(buildtimes)\n",
    "balancetimes = np.array(balancetimes)"
   ]
  },
  {
   "cell_type": "code",
   "execution_count": 63,
   "id": "1d2ed6d1",
   "metadata": {},
   "outputs": [
    {
     "data": {
      "text/plain": [
       "array([0.0186017 , 0.21394062, 2.75550971])"
      ]
     },
     "execution_count": 63,
     "metadata": {},
     "output_type": "execute_result"
    }
   ],
   "source": [
    "(buildtimes.mean(axis=0) + balancetimes.mean(axis=0))"
   ]
  },
  {
   "cell_type": "code",
   "execution_count": 64,
   "id": "e6e6810b",
   "metadata": {},
   "outputs": [
    {
     "data": {
      "text/plain": [
       "array([0.00171468, 0.00621208, 0.03999415])"
      ]
     },
     "execution_count": 64,
     "metadata": {},
     "output_type": "execute_result"
    }
   ],
   "source": [
    "(buildtimes.std(axis=0) + balancetimes.std(axis=0))"
   ]
  },
  {
   "cell_type": "code",
   "execution_count": 82,
   "id": "db3a94fa",
   "metadata": {},
   "outputs": [],
   "source": [
    "# create a list of source instances\n",
    "nruns = 5\n",
    "\n",
    "exbuildtimes = [[] for _ in range(len(n_points))]\n",
    "\n",
    "for i in range(len(n_points)):\n",
    "    for j in range(nruns):\n",
    "        sources = laplace.init_sources(pointsvec[i], densitiesvec[i])\n",
    "        targets = laplace.init_targets(pointsvec[i])\n",
    "\n",
    "        p = 5\n",
    "        \n",
    "        fmm = laplace.LaplaceFmm(\n",
    "            p=p, \n",
    "            ncrit=150, \n",
    "            filename=f'C{p}E{p}.dat'\n",
    "        )    \n",
    "        s = time.time()\n",
    "        tree = laplace.setup(sources, targets, fmm)\n",
    "        exbuildtimes[i].append(time.time()-s)\n",
    "        \n",
    "exbuildtimes = np.array(exbuildtimes)"
   ]
  },
  {
   "cell_type": "code",
   "execution_count": 89,
   "id": "52f50f51",
   "metadata": {
    "scrolled": true
   },
   "outputs": [
    {
     "data": {
      "text/plain": [
       "array([0.00807458, 0.06365901, 0.64141244])"
      ]
     },
     "execution_count": 89,
     "metadata": {},
     "output_type": "execute_result"
    }
   ],
   "source": [
    "# exbuildtimes = exbuildtimes[:,1:]\n",
    "exbuildtimes.mean(axis=1)"
   ]
  },
  {
   "cell_type": "code",
   "execution_count": 86,
   "id": "c759ddbf",
   "metadata": {},
   "outputs": [
    {
     "data": {
      "text/plain": [
       "array([0.00807458, 0.06365901, 0.64141244])"
      ]
     },
     "execution_count": 86,
     "metadata": {},
     "output_type": "execute_result"
    }
   ],
   "source": [
    "exbuildtimes.mean(axis=1)"
   ]
  },
  {
   "cell_type": "code",
   "execution_count": 90,
   "id": "3a8a7a2b",
   "metadata": {},
   "outputs": [
    {
     "data": {
      "text/plain": [
       "array([0.00017227, 0.00239554, 0.01452852])"
      ]
     },
     "execution_count": 90,
     "metadata": {},
     "output_type": "execute_result"
    }
   ],
   "source": [
    "exbuildtimes.std(axis=1)"
   ]
  },
  {
   "cell_type": "code",
   "execution_count": null,
   "id": "ecdedcb8",
   "metadata": {},
   "outputs": [],
   "source": []
  }
 ],
 "metadata": {
  "kernelspec": {
   "display_name": "Python 3",
   "language": "python",
   "name": "python3"
  },
  "language_info": {
   "codemirror_mode": {
    "name": "ipython",
    "version": 3
   },
   "file_extension": ".py",
   "mimetype": "text/x-python",
   "name": "python",
   "nbconvert_exporter": "python",
   "pygments_lexer": "ipython3",
   "version": "3.8.10"
  }
 },
 "nbformat": 4,
 "nbformat_minor": 5
}
