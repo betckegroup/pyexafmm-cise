{
 "cells": [
  {
   "cell_type": "code",
   "execution_count": 1,
   "id": "2d329d38",
   "metadata": {
    "scrolled": true
   },
   "outputs": [],
   "source": [
    "import numpy as np\n",
    "\n",
    "import adaptoctree.morton as morton\n",
    "import adaptoctree.tree as tree"
   ]
  },
  {
   "cell_type": "markdown",
   "id": "134cf8b2",
   "metadata": {},
   "source": [
    "# Time Common Morton Operations\n",
    "\n",
    "Comment out relevant function handles in from source code (in developer mode) to find times without Numba compilation."
   ]
  },
  {
   "cell_type": "code",
   "execution_count": 2,
   "id": "890ef21c",
   "metadata": {},
   "outputs": [],
   "source": [
    "# Generate randomly distributed 3D points in a unit cube domain\n",
    "n_points = int(1e5)\n",
    "points = np.random.rand(n_points, 3)\n",
    "\n",
    "# Calculate implicit octree parameters\n",
    "## Furthest corners of octree root node, with respect to origin\n",
    "max_bound, min_bound = morton.find_bounds(points)\n",
    "\n",
    "## Octree root node center\n",
    "x0 = morton.find_center(max_bound, min_bound)\n",
    "\n",
    "## Octree root node half side length\n",
    "r0 = morton.find_radius(max_bound, min_bound)"
   ]
  },
  {
   "cell_type": "code",
   "execution_count": 4,
   "id": "a1e6df0f",
   "metadata": {},
   "outputs": [],
   "source": [
    "level = 10\n",
    "key = morton.encode_point(points[0], level, x0, r0)"
   ]
  },
  {
   "cell_type": "code",
   "execution_count": 4,
   "id": "89056104",
   "metadata": {},
   "outputs": [
    {
     "name": "stdout",
     "output_type": "stream",
     "text": [
      "680 ns ± 10.6 ns per loop (mean ± std. dev. of 7 runs, 1000000 loops each)\n"
     ]
    }
   ],
   "source": [
    " %%timeit \n",
    "# Apply Morton encoding, at a given octree level\n",
    "level = 10\n",
    "key = morton.encode_point(points[0], level, x0, r0)"
   ]
  },
  {
   "cell_type": "code",
   "execution_count": 8,
   "id": "b78dd3ee",
   "metadata": {},
   "outputs": [
    {
     "name": "stdout",
     "output_type": "stream",
     "text": [
      "359 ns ± 4.41 ns per loop (mean ± std. dev. of 7 runs, 1000000 loops each)\n"
     ]
    }
   ],
   "source": [
    "%%timeit \n",
    "# Apply Morton decoding\n",
    "anchor = morton.decode_key(key)"
   ]
  },
  {
   "cell_type": "code",
   "execution_count": 9,
   "id": "ea1bac5d",
   "metadata": {},
   "outputs": [
    {
     "name": "stdout",
     "output_type": "stream",
     "text": [
      "172 ns ± 2.33 ns per loop (mean ± std. dev. of 7 runs, 10000000 loops each)\n"
     ]
    }
   ],
   "source": [
    "%%timeit\n",
    "morton.find_parent(key)"
   ]
  },
  {
   "cell_type": "code",
   "execution_count": 10,
   "id": "9ee8360e",
   "metadata": {},
   "outputs": [
    {
     "name": "stdout",
     "output_type": "stream",
     "text": [
      "991 ns ± 32.1 ns per loop (mean ± std. dev. of 7 runs, 1000000 loops each)\n"
     ]
    }
   ],
   "source": [
    "%%timeit\n",
    "morton.find_neighbours(key)"
   ]
  },
  {
   "cell_type": "code",
   "execution_count": 5,
   "id": "c53c1933",
   "metadata": {},
   "outputs": [
    {
     "name": "stdout",
     "output_type": "stream",
     "text": [
      "378 ns ± 7.91 ns per loop (mean ± std. dev. of 7 runs, 1000000 loops each)\n"
     ]
    }
   ],
   "source": [
    "%%timeit\n",
    "morton.find_children(key)"
   ]
  }
 ],
 "metadata": {
  "kernelspec": {
   "display_name": "Python 3 (ipykernel)",
   "language": "python",
   "name": "python3"
  },
  "language_info": {
   "codemirror_mode": {
    "name": "ipython",
    "version": 3
   },
   "file_extension": ".py",
   "mimetype": "text/x-python",
   "name": "python",
   "nbconvert_exporter": "python",
   "pygments_lexer": "ipython3",
   "version": "3.8.10"
  }
 },
 "nbformat": 4,
 "nbformat_minor": 5
}
