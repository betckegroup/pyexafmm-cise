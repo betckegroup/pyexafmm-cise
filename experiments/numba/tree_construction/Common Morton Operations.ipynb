{
 "cells": [
  {
   "cell_type": "code",
   "execution_count": 1,
   "id": "2d329d38",
   "metadata": {},
   "outputs": [],
   "source": [
    "import numpy as np\n",
    "\n",
    "import adaptoctree.morton as morton\n",
    "import adaptoctree.tree as tree"
   ]
  },
  {
   "cell_type": "code",
   "execution_count": 2,
   "id": "890ef21c",
   "metadata": {},
   "outputs": [],
   "source": [
    "# Generate randomly distributed 3D points in a unit cube domain\n",
    "n_points = int(1e5)\n",
    "points = np.random.rand(n_points, 3)\n",
    "\n",
    "# Calculate implicit octree parameters\n",
    "## Furthest corners of octree root node, with respect to origin\n",
    "max_bound, min_bound = morton.find_bounds(points)\n",
    "\n",
    "## Octree root node center\n",
    "x0 = morton.find_center(max_bound, min_bound)\n",
    "\n",
    "## Octree root node half side length\n",
    "r0 = morton.find_radius(max_bound, min_bound)"
   ]
  },
  {
   "cell_type": "code",
   "execution_count": 4,
   "id": "89056104",
   "metadata": {},
   "outputs": [
    {
     "name": "stdout",
     "output_type": "stream",
     "text": [
      "6.17 µs ± 108 ns per loop (mean ± std. dev. of 7 runs, 100000 loops each)\n"
     ]
    }
   ],
   "source": [
    " %%timeit \n",
    "# Apply Morton encoding, at a given octree level\n",
    "level = 10\n",
    "key = morton.encode_point(points[0], level, x0, r0)"
   ]
  },
  {
   "cell_type": "code",
   "execution_count": 6,
   "id": "b78dd3ee",
   "metadata": {},
   "outputs": [
    {
     "name": "stdout",
     "output_type": "stream",
     "text": [
      "16.5 µs ± 253 ns per loop (mean ± std. dev. of 7 runs, 100000 loops each)\n"
     ]
    }
   ],
   "source": [
    " %%timeit \n",
    "# Apply Morton decoding\n",
    "anchor = morton.decode_key(key)"
   ]
  },
  {
   "cell_type": "code",
   "execution_count": 7,
   "id": "ea1bac5d",
   "metadata": {},
   "outputs": [
    {
     "name": "stdout",
     "output_type": "stream",
     "text": [
      "573 ns ± 2.55 ns per loop (mean ± std. dev. of 7 runs, 1000000 loops each)\n"
     ]
    }
   ],
   "source": [
    "%%timeit\n",
    "morton.find_parent(key)"
   ]
  },
  {
   "cell_type": "code",
   "execution_count": 8,
   "id": "9ee8360e",
   "metadata": {},
   "outputs": [
    {
     "name": "stdout",
     "output_type": "stream",
     "text": [
      "63.6 µs ± 1.27 µs per loop (mean ± std. dev. of 7 runs, 10000 loops each)\n"
     ]
    }
   ],
   "source": [
    "%%timeit\n",
    "morton.find_neighbours(key)"
   ]
  },
  {
   "cell_type": "code",
   "execution_count": 9,
   "id": "c53c1933",
   "metadata": {},
   "outputs": [
    {
     "data": {
      "text/plain": [
       "<module 'adaptoctree.tree' from '/home/sri/Github/AdaptOctree/adaptoctree/tree.py'>"
      ]
     },
     "execution_count": 9,
     "metadata": {},
     "output_type": "execute_result"
    }
   ],
   "source": [
    "tree."
   ]
  },
  {
   "cell_type": "code",
   "execution_count": null,
   "id": "e53c1150",
   "metadata": {},
   "outputs": [],
   "source": []
  }
 ],
 "metadata": {
  "kernelspec": {
   "display_name": "Python 3",
   "language": "python",
   "name": "python3"
  },
  "language_info": {
   "codemirror_mode": {
    "name": "ipython",
    "version": 3
   },
   "file_extension": ".py",
   "mimetype": "text/x-python",
   "name": "python",
   "nbconvert_exporter": "python",
   "pygments_lexer": "ipython3",
   "version": "3.8.10"
  }
 },
 "nbformat": 4,
 "nbformat_minor": 5
}
