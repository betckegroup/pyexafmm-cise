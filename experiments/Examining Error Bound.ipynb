{
 "cells": [
  {
   "cell_type": "code",
   "execution_count": 1,
   "id": "ec6753de",
   "metadata": {},
   "outputs": [],
   "source": [
    "%matplotlib qt\n",
    "import matplotlib.pyplot as plt\n",
    "\n",
    "from fmm import Fmm\n",
    "\n",
    "import adaptoctree.morton as morton\n",
    "import adaptoctree.tree as tree\n",
    "\n",
    "from fmm.kernel import laplace_p2p_serial"
   ]
  },
  {
   "cell_type": "code",
   "execution_count": 2,
   "id": "8d4fbfec",
   "metadata": {},
   "outputs": [],
   "source": [
    "e2 = Fmm('spherical')\n",
    "e1 = Fmm('test_config')"
   ]
  },
  {
   "cell_type": "code",
   "execution_count": 3,
   "id": "ccfc568e",
   "metadata": {},
   "outputs": [],
   "source": [
    "e2.run()"
   ]
  },
  {
   "cell_type": "code",
   "execution_count": 4,
   "id": "4e8e94f3",
   "metadata": {},
   "outputs": [],
   "source": [
    "direct2 = laplace_p2p_serial(\n",
    "    e2.sources, e2.targets, e2.source_densities)"
   ]
  },
  {
   "cell_type": "code",
   "execution_count": 5,
   "id": "089b8423",
   "metadata": {},
   "outputs": [
    {
     "data": {
      "text/plain": [
       "0.000530404"
      ]
     },
     "execution_count": 5,
     "metadata": {},
     "output_type": "execute_result"
    }
   ],
   "source": [
    "error2 = abs(direct2-e2.target_potentials)/direct2\n",
    "np.mean(error2)"
   ]
  },
  {
   "cell_type": "code",
   "execution_count": 10,
   "id": "14c1a1aa",
   "metadata": {},
   "outputs": [],
   "source": [
    "plt.figure()\n",
    "plt.hist(error2*100, bins=100, range=(0,0.5))\n",
    "plt.xlabel('Percentage Error')\n",
    "plt.ylabel('Frequency')\n",
    "plt.show()"
   ]
  },
  {
   "cell_type": "code",
   "execution_count": 7,
   "id": "060911a1",
   "metadata": {},
   "outputs": [],
   "source": [
    "e1.run()"
   ]
  },
  {
   "cell_type": "code",
   "execution_count": 8,
   "id": "188d6f72",
   "metadata": {},
   "outputs": [
    {
     "data": {
      "text/plain": [
       "0.00015566451"
      ]
     },
     "execution_count": 8,
     "metadata": {},
     "output_type": "execute_result"
    }
   ],
   "source": [
    "direct1 = laplace_p2p_serial(\n",
    "    e1.sources, e1.targets, e1.source_densities\n",
    ")\n",
    "\n",
    "error1 = abs(direct1-e1.target_potentials)/direct1\n",
    "np.mean(error1)"
   ]
  },
  {
   "cell_type": "code",
   "execution_count": 9,
   "id": "73fb626f",
   "metadata": {},
   "outputs": [],
   "source": [
    "plt.figure()\n",
    "plt.hist(error1*100, bins=100, range=(0, 0.5))\n",
    "plt.xlabel('Percentage Error')\n",
    "plt.ylabel('Frequency')\n",
    "plt.show()"
   ]
  }
 ],
 "metadata": {
  "kernelspec": {
   "display_name": "Python 3",
   "language": "python",
   "name": "python3"
  },
  "language_info": {
   "codemirror_mode": {
    "name": "ipython",
    "version": 3
   },
   "file_extension": ".py",
   "mimetype": "text/x-python",
   "name": "python",
   "nbconvert_exporter": "python",
   "pygments_lexer": "ipython3",
   "version": "3.8.10"
  }
 },
 "nbformat": 4,
 "nbformat_minor": 5
}
