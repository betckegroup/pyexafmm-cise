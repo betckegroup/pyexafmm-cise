{
 "cells": [
  {
   "cell_type": "code",
   "execution_count": 54,
   "id": "d0335777",
   "metadata": {},
   "outputs": [],
   "source": [
    "import time\n",
    "\n",
    "from fmm import Fmm\n",
    "from fmm.backend.numba import prepare_p2m_data, p2m_core, prepare_u_list_data"
   ]
  },
  {
   "cell_type": "code",
   "execution_count": 74,
   "id": "d37cc652",
   "metadata": {},
   "outputs": [],
   "source": [
    "# ! rm test.hdf5 && fmm generate-test-data -c test && fmm compute-operators -c test"
   ]
  },
  {
   "cell_type": "code",
   "execution_count": 42,
   "id": "133485b4",
   "metadata": {},
   "outputs": [],
   "source": [
    "e = Fmm('test')"
   ]
  },
  {
   "cell_type": "markdown",
   "id": "1d062626",
   "metadata": {},
   "source": [
    "# P2M"
   ]
  },
  {
   "cell_type": "code",
   "execution_count": 93,
   "id": "e70a78cd",
   "metadata": {},
   "outputs": [],
   "source": [
    "p2m_org_time = []\n",
    "p2m_calc_time = []\n",
    "\n",
    "nruns = 5\n",
    "\n",
    "for _ in range(nruns):\n",
    "    s = time.time()\n",
    "\n",
    "    scales, check_potentials = prepare_p2m_data(\n",
    "        leaves=e.leaves,\n",
    "        nleaves=e.nleaves,\n",
    "        sources=e.sources,\n",
    "        source_densities=e.source_densities,\n",
    "        source_index_pointer=e.source_index_pointer,\n",
    "        key_to_leaf_index=e.key_to_leaf_index,\n",
    "        x0=e.x0,\n",
    "        r0=e.r0,\n",
    "        alpha_outer=e.alpha_outer,\n",
    "        check_surface=e.check_surface,\n",
    "        ncheck_points=e.ncheck_points,\n",
    "        p2p_function=e.p2p_function,\n",
    "        scale_function=e.scale_function\n",
    "    )\n",
    "    p2m_org_time.append(time.time()-s)\n",
    "\n",
    "    s = time.time()\n",
    "\n",
    "    p2m_core(\n",
    "            leaves=e.leaves,\n",
    "            nleaves=e.nleaves,\n",
    "            key_to_index=e.key_to_index,\n",
    "            nequivalent_points=e.nequivalent_points,\n",
    "            ncheck_points=e.ncheck_points,\n",
    "            uc2e_inv_a=e.uc2e_inv_a,\n",
    "            uc2e_inv_b=e.uc2e_inv_b,\n",
    "            scales=scales,\n",
    "            multipole_expansions=e.multipole_expansions,\n",
    "            check_potentials=check_potentials\n",
    "        )\n",
    "\n",
    "    p2m_calc_time.append(time.time()-s)\n",
    "    \n",
    "p2m_org_time = np.array(p2m_org_time)\n",
    "p2m_calc_time = np.array(p2m_calc_time)"
   ]
  },
  {
   "cell_type": "code",
   "execution_count": 94,
   "id": "0e84e55c",
   "metadata": {},
   "outputs": [
    {
     "data": {
      "text/plain": [
       "0.4411337375640869"
      ]
     },
     "execution_count": 94,
     "metadata": {},
     "output_type": "execute_result"
    }
   ],
   "source": [
    "np.mean(p2m_org_time)"
   ]
  },
  {
   "cell_type": "code",
   "execution_count": 95,
   "id": "a20ef056",
   "metadata": {},
   "outputs": [
    {
     "data": {
      "text/plain": [
       "0.03153015325622455"
      ]
     },
     "execution_count": 95,
     "metadata": {},
     "output_type": "execute_result"
    }
   ],
   "source": [
    "np.std(p2m_org_time)"
   ]
  },
  {
   "cell_type": "code",
   "execution_count": 96,
   "id": "6466f47a",
   "metadata": {},
   "outputs": [
    {
     "data": {
      "text/plain": [
       "0.3298027992248535"
      ]
     },
     "execution_count": 96,
     "metadata": {},
     "output_type": "execute_result"
    }
   ],
   "source": [
    "np.mean(p2m_calc_time)"
   ]
  },
  {
   "cell_type": "code",
   "execution_count": 97,
   "id": "746a221d",
   "metadata": {},
   "outputs": [
    {
     "data": {
      "text/plain": [
       "0.012777502957859984"
      ]
     },
     "execution_count": 97,
     "metadata": {},
     "output_type": "execute_result"
    }
   ],
   "source": [
    "np.std(p2m_calc_time)"
   ]
  },
  {
   "cell_type": "markdown",
   "id": "ee3e3a13",
   "metadata": {},
   "source": [
    "# P2P"
   ]
  },
  {
   "cell_type": "code",
   "execution_count": 98,
   "id": "51ead3b8",
   "metadata": {},
   "outputs": [],
   "source": [
    "nruns = 5\n",
    "p2p_org_time = []\n",
    "p2p_calc_time = []\n",
    "\n",
    "for _ in range(nruns):\n",
    "    \n",
    "    s = time.time()\n",
    "    \n",
    "    local_sources, local_targets, local_source_densities, local_source_index_pointer, local_target_index_pointer = prepare_u_list_data(\n",
    "            leaves=e.leaves,\n",
    "            targets=e.targets,\n",
    "            target_index_pointer=e.target_index_pointer,\n",
    "            sources=e.sources,\n",
    "            source_densities=e.source_densities,\n",
    "            source_index_pointer=e.source_index_pointer,\n",
    "            key_to_index=e.key_to_index,\n",
    "            key_to_leaf_index=e.key_to_leaf_index,\n",
    "            u_lists=e.u_lists,\n",
    "            max_points=e.config['max_points'],\n",
    "        )\n",
    "    \n",
    "    p2p_org_time.append(time.time()-s)\n",
    "    \n",
    "    s = time.time()\n",
    "\n",
    "    target_potentials_vec = e.p2p_parallel_function(\n",
    "        sources=local_sources,\n",
    "        targets=local_targets,\n",
    "        source_densities=local_source_densities,\n",
    "        source_index_pointer=local_source_index_pointer,\n",
    "        target_index_pointer=local_target_index_pointer\n",
    "    )\n",
    "    \n",
    "    p2p_calc_time.append(time.time()-s)\n",
    "    \n",
    "    s = time.time()\n",
    "    nleaves = len(local_target_index_pointer) - 1\n",
    "\n",
    "    for i in range(nleaves):\n",
    "        res = target_potentials_vec[local_target_index_pointer[i]:local_target_index_pointer[i+1]]\n",
    "        leaf = e.leaves[i]\n",
    "        leaf_idx = e.key_to_leaf_index[leaf]\n",
    "        e.target_potentials[e.target_index_pointer[leaf_idx]:e.target_index_pointer[leaf_idx+1], :] += res\n",
    "    \n",
    "    p2p_org_time[-1]+= time.time()-s\n",
    "    \n",
    "    \n",
    "p2p_calc_time = np.array(p2p_calc_time)\n",
    "p2p_org_time = np.array(p2p_org_time)"
   ]
  },
  {
   "cell_type": "code",
   "execution_count": 103,
   "id": "d38fa546",
   "metadata": {},
   "outputs": [
    {
     "data": {
      "text/plain": [
       "32768"
      ]
     },
     "execution_count": 103,
     "metadata": {},
     "output_type": "execute_result"
    }
   ],
   "source": [
    "e.nleaves"
   ]
  },
  {
   "cell_type": "code",
   "execution_count": 99,
   "id": "cb2aa08e",
   "metadata": {},
   "outputs": [
    {
     "data": {
      "text/plain": [
       "2.0889453411102297"
      ]
     },
     "execution_count": 99,
     "metadata": {},
     "output_type": "execute_result"
    }
   ],
   "source": [
    "np.mean(p2p_calc_time)"
   ]
  },
  {
   "cell_type": "code",
   "execution_count": 100,
   "id": "a87acb88",
   "metadata": {},
   "outputs": [
    {
     "data": {
      "text/plain": [
       "0.0838038470299267"
      ]
     },
     "execution_count": 100,
     "metadata": {},
     "output_type": "execute_result"
    }
   ],
   "source": [
    "np.std(p2p_calc_time)"
   ]
  },
  {
   "cell_type": "code",
   "execution_count": 101,
   "id": "b3327e96",
   "metadata": {},
   "outputs": [
    {
     "data": {
      "text/plain": [
       "0.9084608078002929"
      ]
     },
     "execution_count": 101,
     "metadata": {},
     "output_type": "execute_result"
    }
   ],
   "source": [
    "np.mean(p2p_org_time)"
   ]
  },
  {
   "cell_type": "code",
   "execution_count": 102,
   "id": "ed703a11",
   "metadata": {},
   "outputs": [
    {
     "data": {
      "text/plain": [
       "0.052282821069864406"
      ]
     },
     "execution_count": 102,
     "metadata": {},
     "output_type": "execute_result"
    }
   ],
   "source": [
    "np.std(p2p_org_time)"
   ]
  },
  {
   "cell_type": "code",
   "execution_count": null,
   "id": "a4dd7d85",
   "metadata": {},
   "outputs": [],
   "source": []
  }
 ],
 "metadata": {
  "kernelspec": {
   "display_name": "Python 3",
   "language": "python",
   "name": "python3"
  },
  "language_info": {
   "codemirror_mode": {
    "name": "ipython",
    "version": 3
   },
   "file_extension": ".py",
   "mimetype": "text/x-python",
   "name": "python",
   "nbconvert_exporter": "python",
   "pygments_lexer": "ipython3",
   "version": "3.8.10"
  }
 },
 "nbformat": 4,
 "nbformat_minor": 5
}
