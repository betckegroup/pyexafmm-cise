{
 "cells": [
  {
   "cell_type": "code",
   "execution_count": 1,
   "id": "70e5fa60",
   "metadata": {},
   "outputs": [],
   "source": [
    "# ! touch test.hdf5"
   ]
  },
  {
   "cell_type": "code",
   "execution_count": 4,
   "id": "1fef9386",
   "metadata": {},
   "outputs": [
    {
     "name": "stdout",
     "output_type": "stream",
     "text": [
      "Generating random sources & targets\n",
      "Computing operators\n",
      "Computing octree\n",
      "Computing Inner Surface of Order 6\n",
      "Computing Outer Surface of Order 6\n",
      "Computing Inverse of Check To Equivalent Gram Matrix\n",
      "Computing M2M & L2L Operators\n",
      "Computed (1/8) M2M/L2L operators\n",
      "Computed (2/8) M2M/L2L operators\n",
      "Computed (3/8) M2M/L2L operators\n",
      "Computed (4/8) M2M/L2L operators\n",
      "Computed (5/8) M2M/L2L operators\n",
      "Computed (6/8) M2M/L2L operators\n",
      "Computed (7/8) M2M/L2L operators\n",
      "Computed (8/8) M2M/L2L operators\n",
      "Computed operators for (1/4) M2L Levels\n",
      "Computed operators for (2/4) M2L Levels\n",
      "Computed operators for (3/4) M2L Levels\n",
      "Computed operators for (4/4) M2L Levels\n",
      "Total time elapsed 0 minutes and 16 seconds\n",
      "\n",
      "Operator time  5.01306676864624\n"
     ]
    }
   ],
   "source": [
    "! rm test.hdf5 && fmm generate-test-data -c test && fmm compute-operators -c test"
   ]
  },
  {
   "cell_type": "code",
   "execution_count": 31,
   "id": "1d44f1bf",
   "metadata": {},
   "outputs": [],
   "source": [
    "times = np.array([3.8095810413360596, 3.919534921646118, 3.92335, 4.05543,  4.3182454109191895])"
   ]
  },
  {
   "cell_type": "code",
   "execution_count": 32,
   "id": "ba59515f",
   "metadata": {},
   "outputs": [
    {
     "data": {
      "text/plain": [
       "4.005228274780274"
      ]
     },
     "execution_count": 32,
     "metadata": {},
     "output_type": "execute_result"
    }
   ],
   "source": [
    "times.mean()"
   ]
  },
  {
   "cell_type": "code",
   "execution_count": 33,
   "id": "6f4a046f",
   "metadata": {},
   "outputs": [
    {
     "data": {
      "text/plain": [
       "0.1748285922487448"
      ]
     },
     "execution_count": 33,
     "metadata": {},
     "output_type": "execute_result"
    }
   ],
   "source": [
    "times.std()"
   ]
  }
 ],
 "metadata": {
  "kernelspec": {
   "display_name": "Python 3 (ipykernel)",
   "language": "python",
   "name": "python3"
  },
  "language_info": {
   "codemirror_mode": {
    "name": "ipython",
    "version": 3
   },
   "file_extension": ".py",
   "mimetype": "text/x-python",
   "name": "python",
   "nbconvert_exporter": "python",
   "pygments_lexer": "ipython3",
   "version": "3.8.10"
  }
 },
 "nbformat": 4,
 "nbformat_minor": 5
}
