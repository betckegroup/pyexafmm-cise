{
 "cells": [
  {
   "cell_type": "code",
   "execution_count": 1,
   "id": "ec12b8f1",
   "metadata": {},
   "outputs": [],
   "source": [
    "import os\n",
    "import pathlib\n",
    "import re\n",
    "import time\n",
    "\n",
    "import matplotlib.pyplot as plt\n",
    "\n",
    "# ExaFMM-T\n",
    "import exafmm.laplace as laplace\n",
    "\n",
    "# PyExaFMM\n",
    "from fmm import Fmm\n",
    "\n",
    "# Plotting parameters\n",
    "plt.rc('font', family='serif', serif='Times')\n",
    "plt.rc('text', usetex=True)\n",
    "plt.rc('xtick', labelsize=8)\n",
    "plt.rc('ytick', labelsize=8)\n",
    "plt.rc('axes', labelsize=8)\n",
    "\n",
    "# Dimensions for column plots\n",
    "width = 3.487 * 0.9 # half page plot width\n",
    "# width = 4.328 # full page plot width\n",
    "height = width / 1.618 # golden ratio\n",
    "\n",
    "HERE = pathlib.Path(os.getcwd())\n",
    "FIGURE_SAVEPATH = os.path.abspath(HERE.parent.parent.parent / 'article/figures')"
   ]
  },
  {
   "cell_type": "markdown",
   "id": "02c1500e",
   "metadata": {},
   "source": [
    "# Operator Runtimes\n",
    "\n",
    "Time each operator separately for comparison with exafmm for a model problem."
   ]
  },
  {
   "cell_type": "code",
   "execution_count": 2,
   "id": "ce96ec23",
   "metadata": {
    "scrolled": true
   },
   "outputs": [
    {
     "name": "stdout",
     "output_type": "stream",
     "text": [
      "Generating random sources & targets\n",
      "Computing operators\n",
      "Computing octree\n",
      "Computing Inner Surface of Order 4\n",
      "Computing Outer Surface of Order 4\n",
      "Computing Inverse of Check To Equivalent Gram Matrix\n",
      "Computing M2M & L2L Operators\n",
      "Computed (1/8) M2M/L2L operators\n",
      "Computed (2/8) M2M/L2L operators\n",
      "Computed (3/8) M2M/L2L operators\n",
      "Computed (4/8) M2M/L2L operators\n",
      "Computed (5/8) M2M/L2L operators\n",
      "Computed (6/8) M2M/L2L operators\n",
      "Computed (7/8) M2M/L2L operators\n",
      "Computed (8/8) M2M/L2L operators\n",
      "Computed operators for (1/4) M2L Levels\n",
      "Computed operators for (2/4) M2L Levels\n",
      "Computed operators for (3/4) M2L Levels\n",
      "Computed operators for (4/4) M2L Levels\n",
      "Total time elapsed 0 minutes and 10 seconds\n",
      "\n",
      "Operator time  0.5001170635223389\n",
      "Generating random sources & targets\n",
      "Computing operators\n",
      "Computing octree\n",
      "Computing Inner Surface of Order 6\n",
      "Computing Outer Surface of Order 6\n",
      "Computing Inverse of Check To Equivalent Gram Matrix\n",
      "Computing M2M & L2L Operators\n",
      "Computed (1/8) M2M/L2L operators\n",
      "Computed (2/8) M2M/L2L operators\n",
      "Computed (3/8) M2M/L2L operators\n",
      "Computed (4/8) M2M/L2L operators\n",
      "Computed (5/8) M2M/L2L operators\n",
      "Computed (6/8) M2M/L2L operators\n",
      "Computed (7/8) M2M/L2L operators\n",
      "Computed (8/8) M2M/L2L operators\n",
      "Computed operators for (1/4) M2L Levels\n",
      "Computed operators for (2/4) M2L Levels\n",
      "Computed operators for (3/4) M2L Levels\n",
      "Computed operators for (4/4) M2L Levels\n",
      "Total time elapsed 0 minutes and 17 seconds\n",
      "\n",
      "Operator time  6.406190872192383\n",
      "Generating random sources & targets\n",
      "Computing operators\n",
      "Computing octree\n",
      "Computing Inner Surface of Order 6\n",
      "Computing Outer Surface of Order 6\n",
      "Computing Inverse of Check To Equivalent Gram Matrix\n",
      "Computing M2M & L2L Operators\n",
      "Computed (1/8) M2M/L2L operators\n",
      "Computed (2/8) M2M/L2L operators\n",
      "Computed (3/8) M2M/L2L operators\n",
      "Computed (4/8) M2M/L2L operators\n",
      "Computed (5/8) M2M/L2L operators\n",
      "Computed (6/8) M2M/L2L operators\n",
      "Computed (7/8) M2M/L2L operators\n",
      "Computed (8/8) M2M/L2L operators\n",
      "Computed operators for (1/4) M2L Levels\n",
      "Computed operators for (2/4) M2L Levels\n",
      "Computed operators for (3/4) M2L Levels\n",
      "Computed operators for (4/4) M2L Levels\n",
      "Total time elapsed 0 minutes and 12 seconds\n",
      "\n",
      "Operator time  2.0676870346069336\n"
     ]
    }
   ],
   "source": [
    "# ! fmm generate-test-data -c compile && fmm compute-operators -c compile\n",
    "# ! rm bench1.hdf5 && fmm generate-test-data -c bench1 && fmm compute-operators -c bench1\n",
    "# ! rm bench2.hdf5 && fmm generate-test-data -c bench2 && fmm compute-operators -c bench2\n",
    "# ! rm bench3.hdf5 && fmm generate-test-data -c bench3 && fmm compute-operators -c bench3"
   ]
  },
  {
   "cell_type": "code",
   "execution_count": 3,
   "id": "baf356fe",
   "metadata": {},
   "outputs": [],
   "source": [
    "# Compile numba functions, using a smaller experiment\n",
    "e = Fmm('compile')\n",
    "e.run()\n",
    "\n",
    "# Load benchmark experiments\n",
    "evec = [Fmm('bench1', True), Fmm('bench2', True), Fmm('bench3', True)]"
   ]
  },
  {
   "cell_type": "code",
   "execution_count": 4,
   "id": "6e05b88f",
   "metadata": {},
   "outputs": [
    {
     "name": "stdout",
     "output_type": "stream",
     "text": [
      "50 4\n",
      "150 6\n",
      "50 6\n"
     ]
    }
   ],
   "source": [
    "for e in evec:\n",
    "    print(e.config['target_rank'], e.config['order_check'])"
   ]
  },
  {
   "cell_type": "code",
   "execution_count": 5,
   "id": "556663db",
   "metadata": {},
   "outputs": [
    {
     "name": "stdout",
     "output_type": "stream",
     "text": [
      "P2M: 0.23014307022094727\n",
      "M2M: 0.056214332580566406\n",
      "L2L: 0.14032721519470215\n",
      "M2L: 6.360342741012573\n",
      "L2T: 0.3828697204589844\n",
      "M2T: 0.00692439079284668\n",
      "S2L: 0.21224570274353027\n",
      "P2P: 3.663753032684326\n",
      "P2M: 0.6178750991821289\n",
      "M2M: 0.33506274223327637\n",
      "L2L: 0.47696566581726074\n",
      "M2L: 46.31672477722168\n",
      "L2T: 1.0494928359985352\n",
      "M2T: 0.0069310665130615234\n",
      "S2L: 0.5393202304840088\n",
      "P2P: 3.791980743408203\n",
      "P2M: 0.7133674621582031\n",
      "M2M: 0.3907489776611328\n",
      "L2L: 0.48296380043029785\n",
      "M2L: 20.171746253967285\n",
      "L2T: 0.8676574230194092\n",
      "M2T: 0.006969451904296875\n",
      "S2L: 0.5292823314666748\n",
      "P2P: 3.2968435287475586\n"
     ]
    }
   ],
   "source": [
    "# Run benchmark experiments\n",
    "for e in evec:\n",
    "    e.run()"
   ]
  },
  {
   "cell_type": "code",
   "execution_count": 6,
   "id": "7306a8c5",
   "metadata": {},
   "outputs": [],
   "source": [
    "ptimevec = np.array([sum(e.times.values()) for e in evec])"
   ]
  },
  {
   "cell_type": "code",
   "execution_count": 7,
   "id": "23f7b17b",
   "metadata": {},
   "outputs": [],
   "source": [
    "# Write exafmm times to a temporary file\n",
    "! /home/sri/anaconda3/envs/fmm/bin/python efmm.py > times.txt"
   ]
  },
  {
   "cell_type": "code",
   "execution_count": 8,
   "id": "57d37f2f",
   "metadata": {},
   "outputs": [],
   "source": [
    "# Map to PyExaFMM operator names for comparison\n",
    "name_map = {\n",
    "    'P2M':'P2M',\n",
    "    'M2M':'M2M',\n",
    "    'P2L':'S2L',\n",
    "    'M2P':'M2T',\n",
    "    'P2P':'P2P',\n",
    "    'M2L':'M2L',\n",
    "    'L2L':'L2L',\n",
    "    'L2P':'L2T'\n",
    "}\n",
    "\n",
    "# Parse file to a dictionary\n",
    "etimes = [dict() for i in range(3)]\n",
    "\n",
    "seen = []\n",
    "nexte = False\n",
    "\n",
    "i = 0\n",
    "with open('times.txt', 'r') as f:\n",
    "    for line in f:\n",
    "        name = line[:3]\n",
    "        time = float(re.search('([1-9]\\d*)(?:\\.\\d+)?(?:[eE][+\\-]?\\d+)', line).group())\n",
    "\n",
    "        if name not in seen:\n",
    "            etimes[i][name_map[name]] = time\n",
    "            seen.append(name)\n",
    "        else:\n",
    "            i += 1\n",
    "            seen = []\n",
    "            etimes[i][name_map[name]] = time\n",
    "            seen.append(name)\n",
    "etimevec = np.array([sum(e.values()) for e in etimes])"
   ]
  },
  {
   "cell_type": "code",
   "execution_count": 9,
   "id": "f6a62747",
   "metadata": {},
   "outputs": [
    {
     "data": {
      "text/plain": [
       "8"
      ]
     },
     "execution_count": 9,
     "metadata": {},
     "output_type": "execute_result"
    }
   ],
   "source": [
    "len(etimes[2])"
   ]
  },
  {
   "cell_type": "code",
   "execution_count": 16,
   "id": "ecb00fb8",
   "metadata": {
    "scrolled": true
   },
   "outputs": [
    {
     "data": {
      "image/png": "[encoded data removed]",
      "text/plain": [
       "<Figure size 225.958x139.652 with 1 Axes>"
      ]
     },
     "metadata": {
      "needs_background": "light"
     },
     "output_type": "display_data"
    }
   ],
   "source": [
    "fig, ax = plt.subplots()\n",
    "fig.subplots_adjust(left=.15, bottom=.16, right=.99, top=.97)\n",
    "\n",
    "patterns = [ \"//\" , \"++\" , \"|\" , \"-\" , \"+\" , \"x\", \"\\\\\\\\\", \"||||\" ]\n",
    "\n",
    "xvalues = [\n",
    "    f\"ExaFMM-T p={evec[0].config['order_equivalent']}\", \n",
    "    f\"ExaFMM-T p={evec[1].config['order_equivalent']}\", \n",
    "    f\"PyExaFMM K={evec[0].config['target_rank']} p={evec[0].config['order_equivalent']}\",\n",
    "    f\"PyExaFMM K={evec[1].config['target_rank']} p={evec[1].config['order_equivalent']}\"\n",
    "]\n",
    "\n",
    "xvalues = [\n",
    "    '(a)', '(b)', '(c)', '(d)', '(e)'\n",
    "]\n",
    "\n",
    "p2m =  np.array(\n",
    "    [\n",
    "        etimes[0]['P2M']/etimevec[0], \n",
    "        etimes[1]['P2M']/etimevec[1], \n",
    "        evec[0].times['P2M']/ptimevec[0],\n",
    "        evec[2].times['P2M']/ptimevec[2],\n",
    "        evec[1].times['P2M']/ptimevec[1]\n",
    "\n",
    "    ]\n",
    ")\n",
    "plt.bar(xvalues, p2m, label='P2M', hatch=patterns[0], alpha=.99)\n",
    "\n",
    "m2m = np.array(\n",
    "    [\n",
    "        etimes[0]['M2M']/etimevec[0], \n",
    "        etimes[1]['M2M']/etimevec[1], \n",
    "        evec[0].times['M2M']/ptimevec[0],\n",
    "        evec[2].times['M2M']/ptimevec[2],\n",
    "        evec[1].times['M2M']/ptimevec[1],\n",
    "    ]\n",
    ")\n",
    "plt.bar(xvalues, m2m, label='M2M', bottom=p2m, hatch=patterns[1], alpha=.99)\n",
    "\n",
    "bottom = m2m+p2m\n",
    "m2l = np.array(\n",
    "    [\n",
    "        etimes[0]['M2L']/etimevec[0], \n",
    "        etimes[1]['M2L']/etimevec[1], \n",
    "        evec[0].times['M2L']/ptimevec[0],\n",
    "        evec[2].times['M2L']/ptimevec[2],\n",
    "        evec[1].times['M2L']/ptimevec[1],\n",
    "    ]\n",
    ")\n",
    "plt.bar(xvalues, m2l, label='M2L', bottom=bottom, hatch=patterns[2], alpha=.99)\n",
    "\n",
    "bottom += m2l\n",
    "l2l = np.array(\n",
    "    [\n",
    "        etimes[0]['L2L']/etimevec[0], \n",
    "        etimes[1]['L2L']/etimevec[1], \n",
    "        evec[0].times['L2L']/ptimevec[0],\n",
    "        evec[2].times['L2L']/ptimevec[2],\n",
    "        evec[1].times['L2L']/ptimevec[1],\n",
    "    ]\n",
    ")\n",
    "plt.bar(xvalues, l2l, label='L2L', bottom=bottom, hatch=patterns[3], alpha=.99)\n",
    "\n",
    "bottom += l2l\n",
    "s2l = np.array(\n",
    "    [\n",
    "        etimes[0]['S2L']/etimevec[0], \n",
    "        etimes[1]['S2L']/etimevec[1], \n",
    "        evec[0].times['S2L']/ptimevec[0],\n",
    "        evec[2].times['S2L']/ptimevec[2],\n",
    "        evec[1].times['S2L']/ptimevec[1],\n",
    "    ]\n",
    ")\n",
    "plt.bar(xvalues, s2l, label='S2L', bottom=bottom, hatch=patterns[4], alpha=.99)\n",
    "\n",
    "bottom += s2l\n",
    "m2t = np.array(\n",
    "    [\n",
    "        etimes[0]['M2T']/etimevec[0], \n",
    "        etimes[1]['M2T']/etimevec[1], \n",
    "        evec[0].times['M2T']/ptimevec[0],\n",
    "        evec[2].times['M2T']/ptimevec[2],\n",
    "        evec[1].times['M2T']/ptimevec[1],\n",
    "    ]\n",
    ")\n",
    "plt.bar(xvalues, m2t, label='M2P', bottom=bottom, hatch=patterns[5], alpha=.99)\n",
    "\n",
    "bottom += m2t\n",
    "l2t = np.array(\n",
    "    [\n",
    "        etimes[0]['L2T']/etimevec[0], \n",
    "        etimes[1]['L2T']/etimevec[1], \n",
    "        evec[0].times['L2T']/ptimevec[0],\n",
    "        evec[2].times['L2T']/ptimevec[2],\n",
    "        evec[1].times['L2T']/ptimevec[1],\n",
    "    ])\n",
    "plt.bar(xvalues, l2t, label='L2P', bottom=bottom, hatch=patterns[6], alpha=.99)\n",
    "\n",
    "bottom += l2t\n",
    "p2p = np.array(\n",
    "    [\n",
    "        etimes[0]['P2P']/etimevec[0], \n",
    "        etimes[1]['P2P']/etimevec[1], \n",
    "        evec[0].times['P2P']/ptimevec[0],\n",
    "        evec[2].times['P2P']/ptimevec[2],\n",
    "        evec[1].times['P2P']/ptimevec[1],\n",
    "    ]\n",
    ")\n",
    "plt.bar(xvalues, p2p, label='P2P', bottom=bottom, hatch=patterns[7], alpha=.99)\n",
    "\n",
    "plt.ylabel('Fraction of Runtime')\n",
    "ax.legend(loc='upper center', bbox_to_anchor=(0.5, 1.23),\n",
    "          ncol=5, fancybox=True, prop={'size': 6})\n",
    "fig.set_size_inches(width, height)\n",
    "fp = FIGURE_SAVEPATH  + '/operator_runtimes.pdf'\n",
    "plt.savefig(fp, bbox_inches='tight')\n",
    "plt.show()"
   ]
  },
  {
   "cell_type": "code",
   "execution_count": 11,
   "id": "7cadd863",
   "metadata": {},
   "outputs": [
    {
     "data": {
      "text/plain": [
       "array([42.14067026, 60.0149223 , 57.54497606, 76.236081  , 87.16907617])"
      ]
     },
     "execution_count": 11,
     "metadata": {},
     "output_type": "execute_result"
    }
   ],
   "source": [
    "100*m2l"
   ]
  },
  {
   "cell_type": "code",
   "execution_count": 12,
   "id": "338609de",
   "metadata": {},
   "outputs": [
    {
     "data": {
      "text/plain": [
       "array([42.14067026, 60.0149223 , 57.54497606, 76.236081  , 87.16907617])"
      ]
     },
     "execution_count": 12,
     "metadata": {},
     "output_type": "execute_result"
    }
   ],
   "source": [
    "100*m2l"
   ]
  },
  {
   "cell_type": "code",
   "execution_count": 13,
   "id": "cf4b9e62",
   "metadata": {},
   "outputs": [
    {
     "data": {
      "text/plain": [
       "array([42.14067026, 60.0149223 , 57.54497606, 76.236081  , 87.16907617])"
      ]
     },
     "execution_count": 13,
     "metadata": {},
     "output_type": "execute_result"
    }
   ],
   "source": [
    "100*m2l"
   ]
  },
  {
   "cell_type": "code",
   "execution_count": 14,
   "id": "e7572ef9",
   "metadata": {},
   "outputs": [
    {
     "data": {
      "text/plain": [
       "array([47.30391896, 21.23507519, 33.14767602, 12.45992425,  7.13658964])"
      ]
     },
     "execution_count": 14,
     "metadata": {},
     "output_type": "execute_result"
    }
   ],
   "source": [
    "100*p2p"
   ]
  },
  {
   "cell_type": "code",
   "execution_count": 15,
   "id": "d083b56d",
   "metadata": {},
   "outputs": [
    {
     "ename": "NameError",
     "evalue": "name 'etime' is not defined",
     "output_type": "error",
     "traceback": [
      "\u001b[0;31m---------------------------------------------------------------------------\u001b[0m",
      "\u001b[0;31mNameError\u001b[0m                                 Traceback (most recent call last)",
      "\u001b[0;32m/tmp/ipykernel_56973/2556819431.py\u001b[0m in \u001b[0;36m<module>\u001b[0;34m\u001b[0m\n\u001b[0;32m----> 1\u001b[0;31m \u001b[0metime\u001b[0m\u001b[0;34m\u001b[0m\u001b[0;34m\u001b[0m\u001b[0m\n\u001b[0m",
      "\u001b[0;31mNameError\u001b[0m: name 'etime' is not defined"
     ]
    }
   ],
   "source": [
    "etime"
   ]
  },
  {
   "cell_type": "code",
   "execution_count": null,
   "id": "d0dd4b10",
   "metadata": {},
   "outputs": [],
   "source": [
    "ptime"
   ]
  },
  {
   "cell_type": "code",
   "execution_count": null,
   "id": "0037a0b6",
   "metadata": {},
   "outputs": [],
   "source": []
  }
 ],
 "metadata": {
  "kernelspec": {
   "display_name": "Python 3 (ipykernel)",
   "language": "python",
   "name": "python3"
  },
  "language_info": {
   "codemirror_mode": {
    "name": "ipython",
    "version": 3
   },
   "file_extension": ".py",
   "mimetype": "text/x-python",
   "name": "python",
   "nbconvert_exporter": "python",
   "pygments_lexer": "ipython3",
   "version": "3.8.10"
  }
 },
 "nbformat": 4,
 "nbformat_minor": 5
}
