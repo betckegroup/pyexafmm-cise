{
 "cells": [
  {
   "cell_type": "code",
   "execution_count": 1,
   "id": "ec12b8f1",
   "metadata": {},
   "outputs": [],
   "source": [
    "import os\n",
    "import pathlib\n",
    "import re\n",
    "import time\n",
    "\n",
    "import matplotlib.pyplot as plt\n",
    "\n",
    "# ExaFMM-T\n",
    "import exafmm.laplace as laplace\n",
    "\n",
    "# PyExaFMM\n",
    "from fmm import Fmm\n",
    "\n",
    "# Plotting parameters\n",
    "plt.rc('font', family='serif', serif='Times')\n",
    "plt.rc('text', usetex=True)\n",
    "plt.rc('xtick', labelsize=8)\n",
    "plt.rc('ytick', labelsize=8)\n",
    "plt.rc('axes', labelsize=8)\n",
    "\n",
    "# Dimensions for column plots\n",
    "width = 3.487 * 0.9 # half page plot width\n",
    "# width = 4.328 # full page plot width\n",
    "height = width / 1.618 # golden ratio\n",
    "\n",
    "HERE = pathlib.Path(os.getcwd())\n",
    "FIGURE_SAVEPATH = os.path.abspath(HERE.parent.parent.parent / 'article/figures')"
   ]
  },
  {
   "cell_type": "markdown",
   "id": "02c1500e",
   "metadata": {},
   "source": [
    "# Operator Runtimes\n",
    "\n",
    "Time each operator separately for comparison with exafmm for a model problem."
   ]
  },
  {
   "cell_type": "code",
   "execution_count": 2,
   "id": "ce96ec23",
   "metadata": {
    "scrolled": true
   },
   "outputs": [],
   "source": [
    "# ! fmm generate-test-data -c compile && fmm compute-operators -c compile\n",
    "# ! rm bench0.hdf5 && fmm generate-test-data -c bench0 && fmm compute-operators -c bench0\n",
    "# ! rm bench1.hdf5 && fmm generate-test-data -c bench1 && fmm compute-operators -c bench1\n",
    "# ! rm bench2.hdf5 && fmm generate-test-data -c bench2 && fmm compute-operators -c bench2\n",
    "# ! rm bench3.hdf5 && fmm generate-test-data -c bench3 && fmm compute-operators -c bench3"
   ]
  },
  {
   "cell_type": "code",
   "execution_count": 4,
   "id": "baf356fe",
   "metadata": {},
   "outputs": [],
   "source": [
    "# Compile numba functions, using a smaller experiment\n",
    "e = Fmm('compile')\n",
    "e.run()\n",
    "\n",
    "# Load benchmark experiments\n",
    "evec = [Fmm('bench0', True), Fmm('bench1', True), Fmm('bench2', True), Fmm('bench3', True)]"
   ]
  },
  {
   "cell_type": "code",
   "execution_count": 5,
   "id": "6e05b88f",
   "metadata": {},
   "outputs": [
    {
     "name": "stdout",
     "output_type": "stream",
     "text": [
      "10 6\n",
      "50 6\n",
      "100 6\n",
      "500 6\n"
     ]
    }
   ],
   "source": [
    "for e in evec:\n",
    "    print(e.config['target_rank'], e.config['order_check'])"
   ]
  },
  {
   "cell_type": "code",
   "execution_count": 6,
   "id": "556663db",
   "metadata": {},
   "outputs": [
    {
     "name": "stdout",
     "output_type": "stream",
     "text": [
      "P2M: 0.616607666015625\n",
      "M2M: 0.3326897621154785\n",
      "L2L: 0.4578580856323242\n",
      "M2L: 10.758209705352783\n",
      "L2T: 0.878058671951294\n",
      "M2T: 0.007055521011352539\n",
      "S2L: 0.5396919250488281\n",
      "P2P: 3.3856680393218994\n",
      "P2M: 0.6307253837585449\n",
      "M2M: 0.3428201675415039\n",
      "L2L: 0.45865750312805176\n",
      "M2L: 18.138139724731445\n",
      "L2T: 0.8935134410858154\n",
      "M2T: 0.021047592163085938\n",
      "S2L: 0.5631568431854248\n",
      "P2P: 3.2841317653656006\n",
      "P2M: 0.6282074451446533\n",
      "M2M: 0.3485445976257324\n",
      "L2L: 0.46738743782043457\n",
      "M2L: 31.75865387916565\n",
      "L2T: 0.8474850654602051\n",
      "M2T: 0.007138729095458984\n",
      "S2L: 0.5454792976379395\n",
      "P2P: 3.362001657485962\n",
      "P2M: 0.6214494705200195\n",
      "M2M: 0.34816932678222656\n",
      "L2L: 0.49083971977233887\n",
      "M2L: 46.29562449455261\n",
      "L2T: 0.9041249752044678\n",
      "M2T: 0.007479667663574219\n",
      "S2L: 0.5507729053497314\n",
      "P2P: 3.278225898742676\n"
     ]
    }
   ],
   "source": [
    "# Run benchmark experiments\n",
    "for e in evec:\n",
    "    e.run()"
   ]
  },
  {
   "cell_type": "code",
   "execution_count": 7,
   "id": "7306a8c5",
   "metadata": {},
   "outputs": [],
   "source": [
    "ptimevec = np.array([sum(e.times.values()) for e in evec])"
   ]
  },
  {
   "cell_type": "code",
   "execution_count": 8,
   "id": "23f7b17b",
   "metadata": {},
   "outputs": [],
   "source": [
    "# Write exafmm times to a temporary file\n",
    "! /home/sri/anaconda3/envs/fmm/bin/python efmm.py > times.txt"
   ]
  },
  {
   "cell_type": "code",
   "execution_count": 9,
   "id": "57d37f2f",
   "metadata": {},
   "outputs": [],
   "source": [
    "# Map to PyExaFMM operator names for comparison\n",
    "name_map = {\n",
    "    'P2M':'P2M',\n",
    "    'M2M':'M2M',\n",
    "    'P2L':'S2L',\n",
    "    'M2P':'M2T',\n",
    "    'P2P':'P2P',\n",
    "    'M2L':'M2L',\n",
    "    'L2L':'L2L',\n",
    "    'L2P':'L2T'\n",
    "}\n",
    "\n",
    "# Parse file to a dictionary\n",
    "etimes = [dict() for i in range(3)]\n",
    "\n",
    "seen = []\n",
    "nexte = False\n",
    "\n",
    "i = 0\n",
    "with open('times.txt', 'r') as f:\n",
    "    for line in f:\n",
    "        name = line[:3]\n",
    "        time = float(re.search('([1-9]\\d*)(?:\\.\\d+)?(?:[eE][+\\-]?\\d+)', line).group())\n",
    "\n",
    "        if name not in seen:\n",
    "            etimes[i][name_map[name]] = time\n",
    "            seen.append(name)\n",
    "        else:\n",
    "            i += 1\n",
    "            seen = []\n",
    "            etimes[i][name_map[name]] = time\n",
    "            seen.append(name)\n",
    "etimevec = np.array([sum(e.values()) for e in etimes])"
   ]
  },
  {
   "cell_type": "code",
   "execution_count": 10,
   "id": "f6a62747",
   "metadata": {},
   "outputs": [
    {
     "data": {
      "text/plain": [
       "array([4.919967, 0.      , 0.      ])"
      ]
     },
     "execution_count": 10,
     "metadata": {},
     "output_type": "execute_result"
    }
   ],
   "source": [
    "etimevec"
   ]
  },
  {
   "cell_type": "code",
   "execution_count": 11,
   "id": "df5d6899",
   "metadata": {},
   "outputs": [
    {
     "data": {
      "text/plain": [
       "array([16.97583938, 24.33219242, 37.96489811, 52.49668646])"
      ]
     },
     "execution_count": 11,
     "metadata": {},
     "output_type": "execute_result"
    }
   ],
   "source": [
    "ptimevec"
   ]
  },
  {
   "cell_type": "code",
   "execution_count": 12,
   "id": "ecb00fb8",
   "metadata": {
    "scrolled": true
   },
   "outputs": [
    {
     "data": {
      "image/png": "[encoded data removed]",
      "text/plain": [
       "<Figure size 225.958x139.652 with 1 Axes>"
      ]
     },
     "metadata": {
      "needs_background": "light"
     },
     "output_type": "display_data"
    }
   ],
   "source": [
    "fig, ax = plt.subplots()\n",
    "fig.subplots_adjust(left=.15, bottom=.16, right=.99, top=.97)\n",
    "\n",
    "patterns = [ \"//\" , \"++\" , \"|\" , \"-\" , \"+\" , \"x\", \"\\\\\\\\\", \"||||\" ]\n",
    "\n",
    "\n",
    "xvalues = [\n",
    "    '(a)', '(b)', '(c)', '(d)', '(e)'\n",
    "]\n",
    "\n",
    "p2m =  np.array(\n",
    "    [\n",
    "        etimes[0]['P2M']/etimevec[0], \n",
    "        evec[0].times['P2M']/ptimevec[0],\n",
    "        evec[1].times['P2M']/ptimevec[1],\n",
    "        evec[2].times['P2M']/ptimevec[2],\n",
    "        evec[3].times['P2M']/ptimevec[3],\n",
    "\n",
    "    ]\n",
    ")\n",
    "plt.bar(xvalues, p2m, label='P2M', hatch=patterns[0], alpha=.99)\n",
    "\n",
    "m2m = np.array(\n",
    "    [\n",
    "        etimes[0]['M2M']/etimevec[0], \n",
    "        evec[0].times['M2M']/ptimevec[0],\n",
    "        evec[1].times['M2M']/ptimevec[1],\n",
    "        evec[2].times['M2M']/ptimevec[2],\n",
    "        evec[3].times['M2M']/ptimevec[3],\n",
    "\n",
    "    ]\n",
    ")\n",
    "plt.bar(xvalues, m2m, label='M2M', bottom=p2m, hatch=patterns[1], alpha=.99)\n",
    "\n",
    "bottom = m2m+p2m\n",
    "m2l = np.array(\n",
    "    [\n",
    "        etimes[0]['M2L']/etimevec[0], \n",
    "        evec[0].times['M2L']/ptimevec[0],\n",
    "        evec[1].times['M2L']/ptimevec[1],\n",
    "        evec[2].times['M2L']/ptimevec[2],\n",
    "        evec[3].times['M2L']/ptimevec[3],\n",
    "\n",
    "    ]\n",
    ")\n",
    "plt.bar(xvalues, m2l, label='M2L', bottom=bottom, hatch=patterns[2], alpha=.99)\n",
    "\n",
    "bottom += m2l\n",
    "l2l = np.array(\n",
    "    [\n",
    "        etimes[0]['L2L']/etimevec[0], \n",
    "        evec[0].times['L2L']/ptimevec[0],\n",
    "        evec[1].times['L2L']/ptimevec[1],\n",
    "        evec[2].times['L2L']/ptimevec[2],\n",
    "        evec[3].times['L2L']/ptimevec[3],\n",
    "\n",
    "    ]\n",
    ")\n",
    "plt.bar(xvalues, l2l, label='L2L', bottom=bottom, hatch=patterns[3], alpha=.99)\n",
    "\n",
    "bottom += l2l\n",
    "s2l = np.array(\n",
    "    [\n",
    "        etimes[0]['S2L']/etimevec[0], \n",
    "        evec[0].times['S2L']/ptimevec[0],\n",
    "        evec[1].times['S2L']/ptimevec[1],\n",
    "        evec[2].times['S2L']/ptimevec[2],\n",
    "        evec[3].times['S2L']/ptimevec[3],\n",
    "\n",
    "    ]\n",
    ")\n",
    "plt.bar(xvalues, s2l, label='S2L', bottom=bottom, hatch=patterns[4], alpha=.99)\n",
    "\n",
    "bottom += s2l\n",
    "m2t = np.array(\n",
    "    [\n",
    "        etimes[0]['M2T']/etimevec[0], \n",
    "        evec[0].times['M2T']/ptimevec[0],\n",
    "        evec[1].times['M2T']/ptimevec[1],\n",
    "        evec[2].times['M2T']/ptimevec[2],\n",
    "        evec[3].times['M2T']/ptimevec[3],\n",
    "    ]\n",
    ")\n",
    "plt.bar(xvalues, m2t, label='M2P', bottom=bottom, hatch=patterns[5], alpha=.99)\n",
    "\n",
    "bottom += m2t\n",
    "l2t = np.array(\n",
    "    [\n",
    "        etimes[0]['L2T']/etimevec[0], \n",
    "        evec[0].times['L2T']/ptimevec[0],\n",
    "        evec[1].times['L2T']/ptimevec[1],\n",
    "        evec[2].times['L2T']/ptimevec[2],\n",
    "        evec[3].times['L2T']/ptimevec[3],\n",
    "\n",
    "    ])\n",
    "plt.bar(xvalues, l2t, label='L2P', bottom=bottom, hatch=patterns[6], alpha=.99)\n",
    "\n",
    "bottom += l2t\n",
    "p2p = np.array(\n",
    "    [\n",
    "        etimes[0]['P2P']/etimevec[0], \n",
    "        evec[0].times['P2P']/ptimevec[0],\n",
    "        evec[1].times['P2P']/ptimevec[1],\n",
    "        evec[2].times['P2P']/ptimevec[2],\n",
    "        evec[3].times['P2P']/ptimevec[3],\n",
    "\n",
    "    ]\n",
    ")\n",
    "plt.bar(xvalues, p2p, label='P2P', bottom=bottom, hatch=patterns[7], alpha=.99)\n",
    "\n",
    "plt.ylabel('Fraction of Runtime')\n",
    "ax.legend(loc='upper center', bbox_to_anchor=(0.5, 1.23),\n",
    "          ncol=5, fancybox=True, prop={'size': 6})\n",
    "fig.set_size_inches(width, height)\n",
    "fp = FIGURE_SAVEPATH  + '/operator_runtimes.pdf'\n",
    "plt.savefig(fp, bbox_inches='tight')\n",
    "plt.show()"
   ]
  },
  {
   "cell_type": "code",
   "execution_count": 13,
   "id": "7cadd863",
   "metadata": {},
   "outputs": [
    {
     "data": {
      "text/plain": [
       "array([60.05337028, 63.37365397, 74.54379536, 83.65267776, 88.18770787])"
      ]
     },
     "execution_count": 13,
     "metadata": {},
     "output_type": "execute_result"
    }
   ],
   "source": [
    "100*m2l"
   ]
  },
  {
   "cell_type": "code",
   "execution_count": null,
   "id": "d0dd4b10",
   "metadata": {},
   "outputs": [],
   "source": [
    "ptime"
   ]
  },
  {
   "cell_type": "code",
   "execution_count": null,
   "id": "0037a0b6",
   "metadata": {},
   "outputs": [],
   "source": []
  }
 ],
 "metadata": {
  "kernelspec": {
   "display_name": "Python 3 (ipykernel)",
   "language": "python",
   "name": "python3"
  },
  "language_info": {
   "codemirror_mode": {
    "name": "ipython",
    "version": 3
   },
   "file_extension": ".py",
   "mimetype": "text/x-python",
   "name": "python",
   "nbconvert_exporter": "python",
   "pygments_lexer": "ipython3",
   "version": "3.8.10"
  }
 },
 "nbformat": 4,
 "nbformat_minor": 5
}
