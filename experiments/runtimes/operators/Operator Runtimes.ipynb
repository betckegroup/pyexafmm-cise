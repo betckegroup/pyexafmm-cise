{
 "cells": [
  {
   "cell_type": "code",
   "execution_count": 7,
   "id": "ec12b8f1",
   "metadata": {},
   "outputs": [],
   "source": [
    "import os\n",
    "import pathlib\n",
    "import re\n",
    "import time\n",
    "\n",
    "import matplotlib.pyplot as plt\n",
    "\n",
    "# ExaFMM-T\n",
    "import exafmm.laplace as laplace\n",
    "\n",
    "# PyExaFMM\n",
    "from fmm import Fmm\n",
    "\n",
    "# Plotting parameters\n",
    "plt.rc('font', family='serif', serif='Times')\n",
    "plt.rc('text', usetex=True)\n",
    "plt.rc('xtick', labelsize=8)\n",
    "plt.rc('ytick', labelsize=8)\n",
    "plt.rc('axes', labelsize=8)\n",
    "\n",
    "# Dimensions for column plots\n",
    "width = 3.487 * 0.9 # half page plot width\n",
    "# width = 4.328 # full page plot width\n",
    "height = width / 1.618 # golden ratio\n",
    "\n",
    "HERE = pathlib.Path(os.getcwd())\n",
    "FIGURE_SAVEPATH = os.path.abspath(HERE.parent.parent.parent / 'article/figures')"
   ]
  },
  {
   "cell_type": "markdown",
   "id": "02c1500e",
   "metadata": {},
   "source": [
    "# Operator Runtimes\n",
    "\n",
    "Time each operator separately for comparison with exafmm for a model problem."
   ]
  },
  {
   "cell_type": "code",
   "execution_count": 8,
   "id": "ce96ec23",
   "metadata": {
    "scrolled": true
   },
   "outputs": [],
   "source": [
    "# ! fmm generate-test-data -c compile && fmm compute-operators -c compile\n",
    "# ! rm bench1.hdf5 && fmm generate-test-data -c bench1 && fmm compute-operators -c bench1\n",
    "# ! rm bench2.hdf5 && fmm generate-test-data -c bench2 && fmm compute-operators -c bench2\n",
    "# ! rm bench3.hdf5 && fmm generate-test-data -c bench3 && fmm compute-operators -c bench3"
   ]
  },
  {
   "cell_type": "code",
   "execution_count": 9,
   "id": "baf356fe",
   "metadata": {},
   "outputs": [],
   "source": [
    "# Compile numba functions, using a smaller experiment\n",
    "e = Fmm('compile')\n",
    "e.run()\n",
    "\n",
    "# Load benchmark experiments\n",
    "evec = [Fmm('bench1', True), Fmm('bench2', True), Fmm('bench3', True)]"
   ]
  },
  {
   "cell_type": "code",
   "execution_count": 20,
   "id": "6e05b88f",
   "metadata": {},
   "outputs": [
    {
     "name": "stdout",
     "output_type": "stream",
     "text": [
      "50 4\n",
      "150 7\n",
      "50 7\n"
     ]
    }
   ],
   "source": [
    "for e in evec:\n",
    "    print(e.config['target_rank'], e.config['order_check'])"
   ]
  },
  {
   "cell_type": "code",
   "execution_count": 10,
   "id": "556663db",
   "metadata": {},
   "outputs": [
    {
     "name": "stdout",
     "output_type": "stream",
     "text": [
      "P2M: 0.22926878929138184\n",
      "M2M: 0.0545654296875\n",
      "L2L: 0.13832592964172363\n",
      "M2L: 5.927286148071289\n",
      "L2T: 0.3500707149505615\n",
      "M2T: 0.006891012191772461\n",
      "S2L: 0.21063995361328125\n",
      "P2P: 3.472649335861206\n",
      "P2M: 0.9424629211425781\n",
      "M2M: 0.7929379940032959\n",
      "L2L: 0.9001364707946777\n",
      "M2L: 66.04022073745728\n",
      "L2T: 1.1802802085876465\n",
      "M2T: 0.006920576095581055\n",
      "S2L: 0.7384438514709473\n",
      "P2P: 3.36440372467041\n",
      "P2M: 0.8938591480255127\n",
      "M2M: 0.7806510925292969\n",
      "L2L: 0.9556741714477539\n",
      "M2L: 33.22183871269226\n",
      "L2T: 1.2522437572479248\n",
      "M2T: 0.008124351501464844\n",
      "S2L: 0.7465534210205078\n",
      "P2P: 3.4131526947021484\n"
     ]
    }
   ],
   "source": [
    "# Run benchmark experiments\n",
    "for e in evec:\n",
    "    e.run()"
   ]
  },
  {
   "cell_type": "code",
   "execution_count": 11,
   "id": "7306a8c5",
   "metadata": {},
   "outputs": [],
   "source": [
    "ptimevec = np.array([sum(e.times.values()) for e in evec])"
   ]
  },
  {
   "cell_type": "code",
   "execution_count": 12,
   "id": "23f7b17b",
   "metadata": {},
   "outputs": [],
   "source": [
    "# Write exafmm times to a temporary file\n",
    "! /home/sri/anaconda3/envs/fmm/bin/python efmm.py > times.txt"
   ]
  },
  {
   "cell_type": "code",
   "execution_count": 13,
   "id": "57d37f2f",
   "metadata": {},
   "outputs": [],
   "source": [
    "# Map to PyExaFMM operator names for comparison\n",
    "name_map = {\n",
    "    'P2M':'P2M',\n",
    "    'M2M':'M2M',\n",
    "    'P2L':'S2L',\n",
    "    'M2P':'M2T',\n",
    "    'P2P':'P2P',\n",
    "    'M2L':'M2L',\n",
    "    'L2L':'L2L',\n",
    "    'L2P':'L2T'\n",
    "}\n",
    "\n",
    "# Parse file to a dictionary\n",
    "etimes = [dict() for i in range(3)]\n",
    "\n",
    "seen = []\n",
    "nexte = False\n",
    "\n",
    "i = 0\n",
    "with open('times.txt', 'r') as f:\n",
    "    for line in f:\n",
    "        name = line[:3]\n",
    "        time = float(re.search('([1-9]\\d*)(?:\\.\\d+)?(?:[eE][+\\-]?\\d+)', line).group())\n",
    "\n",
    "        if name not in seen:\n",
    "            etimes[i][name_map[name]] = time\n",
    "            seen.append(name)\n",
    "        else:\n",
    "            i += 1\n",
    "            seen = []\n",
    "            etimes[i][name_map[name]] = time\n",
    "            seen.append(name)\n",
    "etimevec = np.array([sum(e.values()) for e in etimes])"
   ]
  },
  {
   "cell_type": "code",
   "execution_count": 14,
   "id": "f6a62747",
   "metadata": {},
   "outputs": [
    {
     "data": {
      "text/plain": [
       "8"
      ]
     },
     "execution_count": 14,
     "metadata": {},
     "output_type": "execute_result"
    }
   ],
   "source": [
    "len(etimes[2])"
   ]
  },
  {
   "cell_type": "code",
   "execution_count": 15,
   "id": "ecb00fb8",
   "metadata": {
    "scrolled": true
   },
   "outputs": [
    {
     "data": {
      "image/png": "[encoded data removed]",
      "text/plain": [
       "<Figure size 225.958x139.652 with 1 Axes>"
      ]
     },
     "metadata": {
      "needs_background": "light"
     },
     "output_type": "display_data"
    }
   ],
   "source": [
    "fig, ax = plt.subplots()\n",
    "fig.subplots_adjust(left=.15, bottom=.16, right=.99, top=.97)\n",
    "\n",
    "patterns = [ \"//\" , \"++\" , \"|\" , \"-\" , \"+\" , \"x\", \"\\\\\", \"||||\" ]\n",
    "\n",
    "xvalues = [\n",
    "    f\"ExaFMM-T p={evec[0].config['order_equivalent']}\", \n",
    "    f\"ExaFMM-T p={evec[1].config['order_equivalent']}\", \n",
    "    f\"PyExaFMM K={evec[0].config['target_rank']} p={evec[0].config['order_equivalent']}\",\n",
    "    f\"PyExaFMM K={evec[1].config['target_rank']} p={evec[1].config['order_equivalent']}\"\n",
    "]\n",
    "\n",
    "xvalues = [\n",
    "    '(a)', '(b)', '(c)', '(d)', '(e)'\n",
    "]\n",
    "\n",
    "p2m =  np.array(\n",
    "    [\n",
    "        etimes[0]['P2M']/etimevec[0], \n",
    "        etimes[1]['P2M']/etimevec[1], \n",
    "        evec[0].times['P2M']/ptimevec[0],\n",
    "        evec[2].times['P2M']/ptimevec[2],\n",
    "        evec[1].times['P2M']/ptimevec[1]\n",
    "\n",
    "    ]\n",
    ")\n",
    "plt.bar(xvalues, p2m, label='P2M', hatch=patterns[0], alpha=.99)\n",
    "\n",
    "m2m = np.array(\n",
    "    [\n",
    "        etimes[0]['M2M']/etimevec[0], \n",
    "        etimes[1]['M2M']/etimevec[1], \n",
    "        evec[0].times['M2M']/ptimevec[0],\n",
    "        evec[2].times['M2M']/ptimevec[2],\n",
    "        evec[1].times['M2M']/ptimevec[1],\n",
    "    ]\n",
    ")\n",
    "plt.bar(xvalues, m2m, label='M2M', bottom=p2m, hatch=patterns[1], alpha=.99)\n",
    "\n",
    "bottom = m2m+p2m\n",
    "m2l = np.array(\n",
    "    [\n",
    "        etimes[0]['M2L']/etimevec[0], \n",
    "        etimes[1]['M2L']/etimevec[1], \n",
    "        evec[0].times['M2L']/ptimevec[0],\n",
    "        evec[2].times['M2L']/ptimevec[2],\n",
    "        evec[1].times['M2L']/ptimevec[1],\n",
    "    ]\n",
    ")\n",
    "plt.bar(xvalues, m2l, label='M2L', bottom=bottom, hatch=patterns[2], alpha=.99)\n",
    "\n",
    "bottom += m2l\n",
    "l2l = np.array(\n",
    "    [\n",
    "        etimes[0]['L2L']/etimevec[0], \n",
    "        etimes[1]['L2L']/etimevec[1], \n",
    "        evec[0].times['L2L']/ptimevec[0],\n",
    "        evec[2].times['L2L']/ptimevec[2],\n",
    "        evec[1].times['L2L']/ptimevec[1],\n",
    "    ]\n",
    ")\n",
    "plt.bar(xvalues, l2l, label='L2L', bottom=bottom, hatch=patterns[3], alpha=.99)\n",
    "\n",
    "bottom += l2l\n",
    "s2l = np.array(\n",
    "    [\n",
    "        etimes[0]['S2L']/etimevec[0], \n",
    "        etimes[1]['S2L']/etimevec[1], \n",
    "        evec[0].times['S2L']/ptimevec[0],\n",
    "        evec[2].times['S2L']/ptimevec[2],\n",
    "        evec[1].times['S2L']/ptimevec[1],\n",
    "    ]\n",
    ")\n",
    "plt.bar(xvalues, s2l, label='S2L', bottom=bottom, hatch=patterns[4], alpha=.99)\n",
    "\n",
    "bottom += s2l\n",
    "m2t = np.array(\n",
    "    [\n",
    "        etimes[0]['M2T']/etimevec[0], \n",
    "        etimes[1]['M2T']/etimevec[1], \n",
    "        evec[0].times['M2T']/ptimevec[0],\n",
    "        evec[2].times['M2T']/ptimevec[2],\n",
    "        evec[1].times['M2T']/ptimevec[1],\n",
    "    ]\n",
    ")\n",
    "plt.bar(xvalues, m2t, label='M2P', bottom=bottom, hatch=patterns[5], alpha=.99)\n",
    "\n",
    "bottom += m2t\n",
    "l2t = np.array(\n",
    "    [\n",
    "        etimes[0]['L2T']/etimevec[0], \n",
    "        etimes[1]['L2T']/etimevec[1], \n",
    "        evec[0].times['L2T']/ptimevec[0],\n",
    "        evec[2].times['L2T']/ptimevec[2],\n",
    "        evec[1].times['L2T']/ptimevec[1],\n",
    "    ])\n",
    "plt.bar(xvalues, l2t, label='L2P', bottom=bottom, hatch=patterns[6], alpha=.99)\n",
    "\n",
    "bottom += l2t\n",
    "p2p = np.array(\n",
    "    [\n",
    "        etimes[0]['P2P']/etimevec[0], \n",
    "        etimes[1]['P2P']/etimevec[1], \n",
    "        evec[0].times['P2P']/ptimevec[0],\n",
    "        evec[2].times['P2P']/ptimevec[2],\n",
    "        evec[1].times['P2P']/ptimevec[1],\n",
    "    ]\n",
    ")\n",
    "plt.bar(xvalues, p2p, label='P2P', bottom=bottom, hatch=patterns[7], alpha=.99)\n",
    "\n",
    "plt.ylabel('Fraction of Runtime')\n",
    "ax.legend(loc='upper center', bbox_to_anchor=(0.5, 1.23),\n",
    "          ncol=5, fancybox=True, prop={'size': 6})\n",
    "fig.set_size_inches(width, height)\n",
    "fp = FIGURE_SAVEPATH  + '/operator_runtimes.pdf'\n",
    "plt.savefig(fp, bbox_inches='tight')\n",
    "plt.show()"
   ]
  },
  {
   "cell_type": "code",
   "execution_count": 16,
   "id": "7cadd863",
   "metadata": {},
   "outputs": [
    {
     "data": {
      "text/plain": [
       "array([42.66155115, 66.22456455, 57.04965187, 80.49467036, 89.28479777])"
      ]
     },
     "execution_count": 16,
     "metadata": {},
     "output_type": "execute_result"
    }
   ],
   "source": [
    "100*m2l"
   ]
  },
  {
   "cell_type": "code",
   "execution_count": 25,
   "id": "338609de",
   "metadata": {},
   "outputs": [
    {
     "data": {
      "text/plain": [
       "array([63.23172112, 78.7323146 ])"
      ]
     },
     "execution_count": 25,
     "metadata": {},
     "output_type": "execute_result"
    }
   ],
   "source": [
    "100*m2l"
   ]
  },
  {
   "cell_type": "code",
   "execution_count": 13,
   "id": "cf4b9e62",
   "metadata": {},
   "outputs": [
    {
     "data": {
      "text/plain": [
       "array([63.23541597, 89.07977604])"
      ]
     },
     "execution_count": 13,
     "metadata": {},
     "output_type": "execute_result"
    }
   ],
   "source": [
    "100*m2l"
   ]
  },
  {
   "cell_type": "code",
   "execution_count": 14,
   "id": "e7572ef9",
   "metadata": {},
   "outputs": [
    {
     "data": {
      "text/plain": [
       "array([13.95743339,  4.68324192])"
      ]
     },
     "execution_count": 14,
     "metadata": {},
     "output_type": "execute_result"
    }
   ],
   "source": [
    "100*p2p"
   ]
  },
  {
   "cell_type": "code",
   "execution_count": null,
   "id": "d083b56d",
   "metadata": {},
   "outputs": [],
   "source": [
    "etime"
   ]
  },
  {
   "cell_type": "code",
   "execution_count": null,
   "id": "d0dd4b10",
   "metadata": {},
   "outputs": [],
   "source": [
    "ptime"
   ]
  },
  {
   "cell_type": "code",
   "execution_count": null,
   "id": "0037a0b6",
   "metadata": {},
   "outputs": [],
   "source": []
  }
 ],
 "metadata": {
  "kernelspec": {
   "display_name": "Python 3 (ipykernel)",
   "language": "python",
   "name": "python3"
  },
  "language_info": {
   "codemirror_mode": {
    "name": "ipython",
    "version": 3
   },
   "file_extension": ".py",
   "mimetype": "text/x-python",
   "name": "python",
   "nbconvert_exporter": "python",
   "pygments_lexer": "ipython3",
   "version": "3.8.10"
  }
 },
 "nbformat": 4,
 "nbformat_minor": 5
}
