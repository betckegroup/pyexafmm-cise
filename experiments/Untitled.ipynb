{
 "cells": [
  {
   "cell_type": "code",
   "execution_count": 51,
   "metadata": {},
   "outputs": [],
   "source": [
    "import numpy as np\n",
    "\n",
    "import numba\n",
    "import numba.core\n",
    "import numba.typed"
   ]
  },
  {
   "cell_type": "code",
   "execution_count": 52,
   "metadata": {},
   "outputs": [],
   "source": []
  },
  {
   "cell_type": "code",
   "execution_count": 53,
   "metadata": {},
   "outputs": [],
   "source": []
  },
  {
   "cell_type": "code",
   "execution_count": 54,
   "metadata": {},
   "outputs": [],
   "source": []
  },
  {
   "cell_type": "code",
   "execution_count": 73,
   "metadata": {},
   "outputs": [],
   "source": [
    "# Initialize in Python interpreter\n",
    "data = numba.typed.Dict.empty(\n",
    "    key_type=numba.core.types.unicode_type,\n",
    "    value_type=numba.core.types.float64[:]\n",
    ")\n",
    "\n",
    "data['initial'] = np.ones(100)\n",
    "\n",
    "@numba.njit\n",
    "def step_1(data):\n",
    "    a = np.random.rand(100, 100)\n",
    "    a @ a\n",
    "    data['step_1'] = data['initial']\n",
    "    \n",
    "@numba.njit\n",
    "def step_2(data):\n",
    "    a = np.random.rand(100, 100)\n",
    "    a @ a\n",
    "    data['step_2'] =  data['step_1']\n",
    "\n",
    "@numba.njit\n",
    "def algorithm1(data):\n",
    "    step_1(data)\n",
    "    step_2(data)\n",
    "    \n",
    "@numba.njit\n",
    "def algorithm2():\n",
    "    data = dict()\n",
    "    data['initial'] = np.ones(100)\n",
    "    step_1(data)\n",
    "    step_2(data)\n",
    "    return data\n",
    "\n",
    "@numba.njit\n",
    "def algorithm3():\n",
    "    data = dict()\n",
    "    data['initial'] = np.ones(100)\n",
    "    \n",
    "    def step_1(data):\n",
    "        a = np.random.rand(100, 100)\n",
    "        a @ a\n",
    "        data['step_1'] = data['initial']\n",
    "\n",
    "    def step_2(data):\n",
    "        a = np.random.rand(100, 100)\n",
    "        a @ a\n",
    "        data['step_2'] =  data['step_1']\n",
    "    \n",
    "    step_1(data)\n",
    "    step_2(data)\n",
    "    return data"
   ]
  },
  {
   "cell_type": "code",
   "execution_count": 88,
   "metadata": {},
   "outputs": [
    {
     "name": "stdout",
     "output_type": "stream",
     "text": [
      "308 µs ± 368 ns per loop (mean ± std. dev. of 7 runs, 1000 loops each)\n"
     ]
    }
   ],
   "source": [
    "%%timeit\n",
    "algorithm(data)"
   ]
  },
  {
   "cell_type": "code",
   "execution_count": 87,
   "metadata": {},
   "outputs": [
    {
     "name": "stdout",
     "output_type": "stream",
     "text": [
      "306 µs ± 419 ns per loop (mean ± std. dev. of 7 runs, 1000 loops each)\n"
     ]
    }
   ],
   "source": [
    "%%timeit\n",
    "res = algorithm2()"
   ]
  },
  {
   "cell_type": "code",
   "execution_count": 86,
   "metadata": {},
   "outputs": [
    {
     "name": "stdout",
     "output_type": "stream",
     "text": [
      "2.64 µs ± 7.81 ns per loop (mean ± std. dev. of 7 runs, 100000 loops each)\n"
     ]
    }
   ],
   "source": [
    "%%timeit\n",
    "res = algorithm3()"
   ]
  },
  {
   "cell_type": "code",
   "execution_count": 77,
   "metadata": {},
   "outputs": [],
   "source": [
    "algorithm(data)\n",
    "b = algorithm2()\n",
    "c = algorithm3()"
   ]
  },
  {
   "cell_type": "code",
   "execution_count": 85,
   "metadata": {},
   "outputs": [],
   "source": [
    "assert np.all(b['step_2'] == c['step_2'])\n",
    "assert np.all(data['step_2'] == c['step_2'])"
   ]
  },
  {
   "cell_type": "code",
   "execution_count": null,
   "metadata": {},
   "outputs": [],
   "source": []
  }
 ],
 "metadata": {
  "kernelspec": {
   "display_name": "Python [conda env:fmm] *",
   "language": "python",
   "name": "conda-env-fmm-py"
  },
  "language_info": {
   "codemirror_mode": {
    "name": "ipython",
    "version": 3
   },
   "file_extension": ".py",
   "mimetype": "text/x-python",
   "name": "python",
   "nbconvert_exporter": "python",
   "pygments_lexer": "ipython3",
   "version": "3.8.5"
  }
 },
 "nbformat": 4,
 "nbformat_minor": 4
}
