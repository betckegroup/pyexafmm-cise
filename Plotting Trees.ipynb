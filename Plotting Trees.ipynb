{
 "cells": [
  {
   "cell_type": "code",
   "execution_count": 54,
   "id": "a97a82e7",
   "metadata": {},
   "outputs": [],
   "source": [
    "%matplotlib qt\n",
    "# %matplotlib qt \n",
    "\n",
    "import numpy as np\n",
    "import matplotlib.pyplot as plt\n",
    "from mpl_toolkits.mplot3d import Axes3D\n",
    "from mpl_toolkits.mplot3d.art3d import Poly3DCollection, Line3DCollection\n",
    "\n",
    "import adaptoctree.morton as morton\n",
    "import adaptoctree.tree as tree\n",
    "from fmm import Fmm\n",
    "from fmm.kernel import laplace_p2p_serial"
   ]
  },
  {
   "cell_type": "code",
   "execution_count": 112,
   "id": "a914dea9",
   "metadata": {},
   "outputs": [],
   "source": [
    "e = Fmm('spherical2')"
   ]
  },
  {
   "cell_type": "code",
   "execution_count": 113,
   "id": "7c5149eb",
   "metadata": {},
   "outputs": [
    {
     "data": {
      "text/plain": [
       "270"
      ]
     },
     "execution_count": 113,
     "metadata": {},
     "output_type": "execute_result"
    }
   ],
   "source": [
    "e.nleaves"
   ]
  },
  {
   "cell_type": "code",
   "execution_count": 114,
   "id": "41798ac2",
   "metadata": {},
   "outputs": [],
   "source": [
    "e.run()"
   ]
  },
  {
   "cell_type": "code",
   "execution_count": 115,
   "id": "a00e224a",
   "metadata": {},
   "outputs": [],
   "source": [
    "def find_vertices(anchor, r0, x0):\n",
    "    \n",
    "    level = anchor[-1]\n",
    "    scale = 1./(1 << level)\n",
    "    r = r0*scale\n",
    "    \n",
    "    vertices = np.array([\n",
    "        [0, 0, 0],\n",
    "        [1, 0, 0],\n",
    "        [1, 1, 0],\n",
    "        [0, 1, 0],\n",
    "        [0, 0, 1],\n",
    "        [1, 0, 1],\n",
    "        [1, 1, 1],\n",
    "        [0, 1, 1]\n",
    "    ]) + anchor[:3]\n",
    "    \n",
    "    vertices = vertices*scale + (x0-r0)\n",
    "\n",
    "    return vertices, ([\n",
    "        [vertices[0], vertices[1], vertices[2], vertices[3]],\n",
    "        [vertices[4], vertices[5], vertices[6], vertices[7]], \n",
    "        [vertices[0], vertices[1], vertices[5], vertices[4]], \n",
    "        [vertices[2], vertices[3], vertices[7], vertices[6]], \n",
    "        [vertices[1], vertices[2], vertices[6], vertices[5]],\n",
    "        [vertices[4], vertices[7], vertices[3], vertices[0]]\n",
    "    ])\n",
    "\n",
    "\n",
    "def plot_node(ax, key, r0, x0):\n",
    "    anchor = morton.decode_key(key)\n",
    "    vertices, edges = find_vertices(anchor, r0, x0)\n",
    "    zline = vertices[:, 2]\n",
    "    xline = vertices[:, 0]\n",
    "    yline = vertices[:, 1]\n",
    "    ax.scatter3D(xline, yline, zline, c='gray')\n",
    "    ax.add_collection3d(Poly3DCollection(edges, edgecolors='black', alpha=0.1))"
   ]
  },
  {
   "cell_type": "code",
   "execution_count": 116,
   "id": "0070918c",
   "metadata": {},
   "outputs": [],
   "source": [
    "ax = plt.axes(projection='3d')\n",
    "\n",
    "ax.scatter3D(e.sources[:, 0], e.sources[:, 1], e.sources[:, 2], c='k', s=0.1)\n",
    "\n",
    "for leaf in e.leaves:\n",
    "    plot_node(ax, leaf, e.r0, e.x0)\n",
    "    \n",
    "plt.show()"
   ]
  },
  {
   "cell_type": "code",
   "execution_count": 117,
   "id": "759ddd16",
   "metadata": {},
   "outputs": [
    {
     "data": {
      "text/plain": [
       "array([817.0498 , 794.9653 , 799.9665 , ..., 778.36066, 782.69214,\n",
       "       799.25214], dtype=float32)"
      ]
     },
     "execution_count": 117,
     "metadata": {},
     "output_type": "execute_result"
    }
   ],
   "source": [
    "e.target_potentials"
   ]
  },
  {
   "cell_type": "code",
   "execution_count": 118,
   "id": "f30ddf41",
   "metadata": {},
   "outputs": [],
   "source": [
    "direct = laplace_p2p_serial(e.sources, e.targets, e.source_densities)"
   ]
  },
  {
   "cell_type": "code",
   "execution_count": 119,
   "id": "ebfef00d",
   "metadata": {},
   "outputs": [],
   "source": [
    "error = abs(direct-e.target_potentials)/direct"
   ]
  },
  {
   "cell_type": "code",
   "execution_count": 120,
   "id": "a5ef60c9",
   "metadata": {},
   "outputs": [],
   "source": [
    "plt.figure()\n",
    "plt.hist(error*100, bins=100, range=(0, 0.5))\n",
    "plt.xlabel('Percentage Error')\n",
    "plt.ylabel('Frequency')\n",
    "plt.show()"
   ]
  },
  {
   "cell_type": "code",
   "execution_count": null,
   "id": "cf17122a",
   "metadata": {},
   "outputs": [],
   "source": []
  }
 ],
 "metadata": {
  "kernelspec": {
   "display_name": "Python 3",
   "language": "python",
   "name": "python3"
  },
  "language_info": {
   "codemirror_mode": {
    "name": "ipython",
    "version": 3
   },
   "file_extension": ".py",
   "mimetype": "text/x-python",
   "name": "python",
   "nbconvert_exporter": "python",
   "pygments_lexer": "ipython3",
   "version": "3.8.10"
  }
 },
 "nbformat": 4,
 "nbformat_minor": 5
}
