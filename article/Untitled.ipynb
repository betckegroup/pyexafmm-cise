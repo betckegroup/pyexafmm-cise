{
 "cells": [
  {
   "cell_type": "code",
   "execution_count": 10,
   "id": "577fbc8c",
   "metadata": {},
   "outputs": [],
   "source": [
    "import numpy as np\n",
    "\n",
    "import numba"
   ]
  },
  {
   "cell_type": "code",
   "execution_count": 11,
   "id": "83346ba6",
   "metadata": {},
   "outputs": [],
   "source": [
    "n, m = 1000, 1000"
   ]
  },
  {
   "cell_type": "code",
   "execution_count": 12,
   "id": "bcd7bb23",
   "metadata": {},
   "outputs": [],
   "source": [
    "a = np.random.rand(n,m)"
   ]
  },
  {
   "cell_type": "code",
   "execution_count": 13,
   "id": "e5ee235b",
   "metadata": {},
   "outputs": [],
   "source": [
    "@numba.njit\n",
    "def foo():\n",
    "    a @ a"
   ]
  },
  {
   "cell_type": "code",
   "execution_count": 15,
   "id": "7a4dcfee",
   "metadata": {},
   "outputs": [
    {
     "name": "stdout",
     "output_type": "stream",
     "text": [
      "12.2 ms ± 1.02 ms per loop (mean ± std. dev. of 7 runs, 100 loops each)\n"
     ]
    }
   ],
   "source": [
    "%%timeit\n",
    "foo()"
   ]
  },
  {
   "cell_type": "code",
   "execution_count": 16,
   "id": "470c51d4",
   "metadata": {},
   "outputs": [],
   "source": [
    "p = 10"
   ]
  },
  {
   "cell_type": "code",
   "execution_count": 17,
   "id": "0d3410a2",
   "metadata": {},
   "outputs": [],
   "source": [
    "import matplotlib.pyplot as plt"
   ]
  },
  {
   "cell_type": "code",
   "execution_count": 44,
   "id": "39b42fbe",
   "metadata": {},
   "outputs": [],
   "source": [
    "pvec = np.arange(100,500)\n",
    "kappa = 10\n",
    "\n",
    "cplx1 = lambda p: p**(3/2)*np.log(p)\n",
    "cplx2 = lambda p: kappa*p**2"
   ]
  },
  {
   "cell_type": "code",
   "execution_count": 45,
   "id": "996622a4",
   "metadata": {},
   "outputs": [
    {
     "data": {
      "text/plain": [
       "[<matplotlib.lines.Line2D at 0x7f49999dbd90>]"
      ]
     },
     "execution_count": 45,
     "metadata": {},
     "output_type": "execute_result"
    },
    {
     "data": {
      "image/png": "[encoded data removed]",
      "text/plain": [
       "<Figure size 432x288 with 1 Axes>"
      ]
     },
     "metadata": {
      "needs_background": "light"
     },
     "output_type": "display_data"
    }
   ],
   "source": [
    "plt.plot(cplx1(pvec), color='blue')\n",
    "plt.plot(cplx2(pvec), color='red')"
   ]
  },
  {
   "cell_type": "code",
   "execution_count": 46,
   "id": "a1aa7b75",
   "metadata": {},
   "outputs": [],
   "source": [
    "diff = cplx2(pvec)/cplx1(pvec)"
   ]
  },
  {
   "cell_type": "code",
   "execution_count": 47,
   "id": "14e9b85e",
   "metadata": {},
   "outputs": [
    {
     "data": {
      "text/plain": [
       "[<matplotlib.lines.Line2D at 0x7f4999921e20>]"
      ]
     },
     "execution_count": 47,
     "metadata": {},
     "output_type": "execute_result"
    },
    {
     "data": {
      "image/png": "[encoded data removed]",
      "text/plain": [
       "<Figure size 432x288 with 1 Axes>"
      ]
     },
     "metadata": {
      "needs_background": "light"
     },
     "output_type": "display_data"
    }
   ],
   "source": [
    "plt.plot(diff)"
   ]
  },
  {
   "cell_type": "code",
   "execution_count": null,
   "id": "1576f301",
   "metadata": {},
   "outputs": [],
   "source": []
  }
 ],
 "metadata": {
  "kernelspec": {
   "display_name": "Python 3 (ipykernel)",
   "language": "python",
   "name": "python3"
  },
  "language_info": {
   "codemirror_mode": {
    "name": "ipython",
    "version": 3
   },
   "file_extension": ".py",
   "mimetype": "text/x-python",
   "name": "python",
   "nbconvert_exporter": "python",
   "pygments_lexer": "ipython3",
   "version": "3.9.7"
  }
 },
 "nbformat": 4,
 "nbformat_minor": 5
}
