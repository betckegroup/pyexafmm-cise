{
 "cells": [
  {
   "cell_type": "code",
   "execution_count": 10,
   "id": "577fbc8c",
   "metadata": {},
   "outputs": [],
   "source": [
    "import numpy as np\n",
    "\n",
    "import numba"
   ]
  },
  {
   "cell_type": "code",
   "execution_count": 11,
   "id": "83346ba6",
   "metadata": {},
   "outputs": [],
   "source": [
    "n, m = 1000, 1000"
   ]
  },
  {
   "cell_type": "code",
   "execution_count": 12,
   "id": "bcd7bb23",
   "metadata": {},
   "outputs": [],
   "source": [
    "a = np.random.rand(n,m)"
   ]
  },
  {
   "cell_type": "code",
   "execution_count": 13,
   "id": "e5ee235b",
   "metadata": {},
   "outputs": [],
   "source": [
    "@numba.njit\n",
    "def foo():\n",
    "    a @ a"
   ]
  },
  {
   "cell_type": "code",
   "execution_count": 15,
   "id": "7a4dcfee",
   "metadata": {},
   "outputs": [
    {
     "name": "stdout",
     "output_type": "stream",
     "text": [
      "12.2 ms ± 1.02 ms per loop (mean ± std. dev. of 7 runs, 100 loops each)\n"
     ]
    }
   ],
   "source": [
    "%%timeit\n",
    "foo()"
   ]
  },
  {
   "cell_type": "code",
   "execution_count": null,
   "id": "470c51d4",
   "metadata": {},
   "outputs": [],
   "source": []
  }
 ],
 "metadata": {
  "kernelspec": {
   "display_name": "Python 3 (ipykernel)",
   "language": "python",
   "name": "python3"
  },
  "language_info": {
   "codemirror_mode": {
    "name": "ipython",
    "version": 3
   },
   "file_extension": ".py",
   "mimetype": "text/x-python",
   "name": "python",
   "nbconvert_exporter": "python",
   "pygments_lexer": "ipython3",
   "version": "3.9.7"
  }
 },
 "nbformat": 4,
 "nbformat_minor": 5
}
